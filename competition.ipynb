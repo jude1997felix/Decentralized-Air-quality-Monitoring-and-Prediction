{
  "nbformat": 4,
  "nbformat_minor": 0,
  "metadata": {
    "colab": {
      "name": "competition.ipynb",
      "provenance": [],
      "collapsed_sections": [],
      "toc_visible": true,
      "authorship_tag": "ABX9TyP2r7TntRPSMzKlfBX22x6I",
      "include_colab_link": true
    },
    "kernelspec": {
      "name": "python3",
      "display_name": "Python 3"
    }
  },
  "cells": [
    {
      "cell_type": "markdown",
      "metadata": {
        "id": "view-in-github",
        "colab_type": "text"
      },
      "source": [
        "<a href=\"https://colab.research.google.com/github/jude1997felix/Decentralized-Air-quality-Monitoring-and-Prediction/blob/main/competition.ipynb\" target=\"_parent\"><img src=\"https://colab.research.google.com/assets/colab-badge.svg\" alt=\"Open In Colab\"/></a>"
      ]
    },
    {
      "cell_type": "markdown",
      "metadata": {
        "id": "8wjYj-vX9B1N"
      },
      "source": [
        "# Packages"
      ]
    },
    {
      "cell_type": "code",
      "metadata": {
        "id": "1H1MDB0t5iJ0"
      },
      "source": [
        "import pandas as pd\n",
        "import numpy as np\n",
        "import matplotlib.pyplot as plt\n",
        "import seaborn as sns\n",
        "import matplotlib.mlab as mlab\n",
        "plt.style.use('ggplot')\n",
        "from matplotlib.pyplot import figure\n",
        "from sklearn import preprocessing\n",
        "from sklearn.preprocessing import StandardScaler\n",
        "from sklearn.preprocessing import MinMaxScaler\n",
        "from sklearn.preprocessing import MultiLabelBinarizer\n",
        "import os\n",
        "import datetime\n",
        "import math \n",
        "import IPython\n",
        "import IPython.display\n",
        "import matplotlib as mpl\n",
        "import tensorflow as tf"
      ],
      "execution_count": 2,
      "outputs": []
    },
    {
      "cell_type": "code",
      "metadata": {
        "id": "78PNv73xtikQ"
      },
      "source": [
        "def compile_and_fit(model, window, patience=3):\n",
        "  early_stopping = tf.keras.callbacks.EarlyStopping(monitor='val_loss',\n",
        "                                                    patience=patience,\n",
        "                                                    mode='min')\n",
        "\n",
        "  model.compile(loss=tf.losses.MeanSquaredError(),\n",
        "                optimizer=tf.optimizers.Adam(),\n",
        "                metrics=[tf.metrics.MeanAbsoluteError()])\n",
        "\n",
        "  history = model.fit(window.train, epochs=MAX_EPOCHS,\n",
        "                      validation_data=window.val,\n",
        "                      callbacks=[early_stopping])\n",
        "  return history\n",
        "\n",
        "\n",
        "\n",
        "# def compile_and_fit(model, window, patience=2, recompile=True):\n",
        "#   early_stopping = tf.keras.callbacks.EarlyStopping(monitor='val_loss',\n",
        "#                                                     patience=patience,\n",
        "#                                                     mode='min')\n",
        "\n",
        "#   def smape(y_true, y_pred):\n",
        "#     return tf.reduce_mean(2 * tf.abs(y_true - y_pred)\n",
        "#                           / (tf.abs(y_pred) + tf.abs(y_true)) , axis=-1)\n",
        "\n",
        "#   if recompile:\n",
        "#       model.compile(loss=tf.losses.MeanSquaredError(),\n",
        "#                     optimizer=tf.optimizers.Adam(),\n",
        "#                     metrics=[smape])\n",
        "#                 # metrics=[tf.metrics.MeanAbsoluteError()])\n",
        "\n",
        "#   history = model.fit(window.train, epochs=MAX_EPOCHS,\n",
        "#                       validation_data=window.val,\n",
        "#                       callbacks=[early_stopping])\n",
        "#                       # )\n",
        "#   return history"
      ],
      "execution_count": 29,
      "outputs": []
    },
    {
      "cell_type": "code",
      "metadata": {
        "id": "mocktfM7tlUm"
      },
      "source": [
        "def plot(self, model=None, plot_col='PM10 (107)', max_subplots=3):\n",
        "  inputs, labels = self.example\n",
        "  plt.figure(figsize=(12, 8))\n",
        "  plot_col_index = self.column_indices[plot_col]\n",
        "  max_n = min(max_subplots, len(inputs))\n",
        "  for n in range(max_n):\n",
        "    plt.subplot(3, 1, n+1)\n",
        "    plt.ylabel(f'{plot_col} [normed]')\n",
        "    plt.plot(self.input_indices, inputs[n, :, plot_col_index],\n",
        "             label='Inputs', marker='.', zorder=-10)\n",
        "\n",
        "    if self.label_columns:\n",
        "      label_col_index = self.label_columns_indices.get(plot_col, None)\n",
        "    else:\n",
        "      label_col_index = plot_col_index\n",
        "\n",
        "    if label_col_index is None:\n",
        "      continue\n",
        "\n",
        "    plt.scatter(self.label_indices, labels[n, :, label_col_index],\n",
        "                edgecolors='k', label='Labels', c='#2ca02c', s=64)\n",
        "    if model is not None:\n",
        "      predictions = model(inputs)\n",
        "      plt.scatter(self.label_indices, predictions[n, :, label_col_index],\n",
        "                  marker='X', edgecolors='k', label='Predictions',\n",
        "                  c='#ff7f0e', s=64)\n",
        "\n",
        "    if n == 0:\n",
        "      plt.legend()\n",
        "\n",
        "  plt.xlabel('Time [h]')\n"
      ],
      "execution_count": 19,
      "outputs": []
    },
    {
      "cell_type": "code",
      "metadata": {
        "id": "AfiHcZiatrUx"
      },
      "source": [
        "def make_dataset(self, data):\n",
        "  data = np.array(data, dtype=np.float32)\n",
        "  ds = tf.keras.preprocessing.timeseries_dataset_from_array(\n",
        "      data=data,\n",
        "      targets=None,\n",
        "      sequence_length=self.total_window_size,\n",
        "      sequence_stride=1,\n",
        "      shuffle=True,\n",
        "      batch_size=32,)\n",
        "\n",
        "  ds = ds.map(self.split_window)\n",
        "\n",
        "  return ds\n",
        "\n",
        "\n",
        "def split_window(self, features):\n",
        "  inputs = features[:, self.input_slice, :]\n",
        "  labels = features[:, self.labels_slice, :]\n",
        "  if self.label_columns is not None:\n",
        "    labels = tf.stack(\n",
        "        [labels[:, :, self.column_indices[name]] for name in self.label_columns],\n",
        "        axis=-1)\n",
        "\n",
        "  # Slicing doesn't preserve static shape information, so set the shapes\n",
        "  # manually. This way the `tf.data.Datasets` are easier to inspect.\n",
        "  inputs.set_shape([None, self.input_width, None])\n",
        "  labels.set_shape([None, self.label_width, None])\n",
        "\n",
        "  return inputs, labels\n",
        "\n",
        "\n"
      ],
      "execution_count": 20,
      "outputs": []
    },
    {
      "cell_type": "code",
      "metadata": {
        "id": "9EIS_sVFoe_g",
        "outputId": "082befc8-a021-4ebe-feea-a0a74c7d91d8",
        "colab": {
          "base_uri": "https://localhost:8080/",
          "height": 204
        }
      },
      "source": [
        "df = pd.read_csv('/content/imputed_csv_8779.csv',parse_dates=['Start'])\n",
        "df.head()"
      ],
      "execution_count": 21,
      "outputs": [
        {
          "output_type": "execute_result",
          "data": {
            "text/html": [
              "<div>\n",
              "<style scoped>\n",
              "    .dataframe tbody tr th:only-of-type {\n",
              "        vertical-align: middle;\n",
              "    }\n",
              "\n",
              "    .dataframe tbody tr th {\n",
              "        vertical-align: top;\n",
              "    }\n",
              "\n",
              "    .dataframe thead th {\n",
              "        text-align: right;\n",
              "    }\n",
              "</style>\n",
              "<table border=\"1\" class=\"dataframe\">\n",
              "  <thead>\n",
              "    <tr style=\"text-align: right;\">\n",
              "      <th></th>\n",
              "      <th>Unnamed: 0</th>\n",
              "      <th>Start</th>\n",
              "      <th>Slut</th>\n",
              "      <th>NO2 (183)</th>\n",
              "      <th>NOX as NO2 (184)</th>\n",
              "      <th>PM10 (182)</th>\n",
              "      <th>PM2.5 (181)</th>\n",
              "    </tr>\n",
              "  </thead>\n",
              "  <tbody>\n",
              "    <tr>\n",
              "      <th>0</th>\n",
              "      <td>0</td>\n",
              "      <td>2015-01-01 00:00:00</td>\n",
              "      <td>2015-01-01 01:00:00</td>\n",
              "      <td>33.3</td>\n",
              "      <td>69.5</td>\n",
              "      <td>101.2</td>\n",
              "      <td>51.9</td>\n",
              "    </tr>\n",
              "    <tr>\n",
              "      <th>1</th>\n",
              "      <td>1</td>\n",
              "      <td>2015-01-01 01:00:00</td>\n",
              "      <td>2015-01-01 02:00:00</td>\n",
              "      <td>26.1</td>\n",
              "      <td>39.0</td>\n",
              "      <td>12.5</td>\n",
              "      <td>9.3</td>\n",
              "    </tr>\n",
              "    <tr>\n",
              "      <th>2</th>\n",
              "      <td>2</td>\n",
              "      <td>2015-01-01 02:00:00</td>\n",
              "      <td>2015-01-01 03:00:00</td>\n",
              "      <td>18.4</td>\n",
              "      <td>25.7</td>\n",
              "      <td>12.2</td>\n",
              "      <td>9.2</td>\n",
              "    </tr>\n",
              "    <tr>\n",
              "      <th>3</th>\n",
              "      <td>3</td>\n",
              "      <td>2015-01-01 03:00:00</td>\n",
              "      <td>2015-01-01 04:00:00</td>\n",
              "      <td>18.1</td>\n",
              "      <td>33.5</td>\n",
              "      <td>16.2</td>\n",
              "      <td>8.9</td>\n",
              "    </tr>\n",
              "    <tr>\n",
              "      <th>4</th>\n",
              "      <td>4</td>\n",
              "      <td>2015-01-01 04:00:00</td>\n",
              "      <td>2015-01-01 05:00:00</td>\n",
              "      <td>11.0</td>\n",
              "      <td>22.1</td>\n",
              "      <td>14.5</td>\n",
              "      <td>5.9</td>\n",
              "    </tr>\n",
              "  </tbody>\n",
              "</table>\n",
              "</div>"
            ],
            "text/plain": [
              "   Unnamed: 0               Start  ... PM10 (182)  PM2.5 (181)\n",
              "0           0 2015-01-01 00:00:00  ...      101.2         51.9\n",
              "1           1 2015-01-01 01:00:00  ...       12.5          9.3\n",
              "2           2 2015-01-01 02:00:00  ...       12.2          9.2\n",
              "3           3 2015-01-01 03:00:00  ...       16.2          8.9\n",
              "4           4 2015-01-01 04:00:00  ...       14.5          5.9\n",
              "\n",
              "[5 rows x 7 columns]"
            ]
          },
          "metadata": {
            "tags": []
          },
          "execution_count": 21
        }
      ]
    },
    {
      "cell_type": "code",
      "metadata": {
        "id": "5Nr9GN8Hoe_9"
      },
      "source": [
        "del df['Unnamed: 0']"
      ],
      "execution_count": 22,
      "outputs": []
    },
    {
      "cell_type": "code",
      "metadata": {
        "id": "4FksZ2yzofAO",
        "outputId": "85b38ce2-9813-41cd-feab-de5cb1cd4e2c",
        "colab": {
          "base_uri": "https://localhost:8080/",
          "height": 204
        }
      },
      "source": [
        "df.head()"
      ],
      "execution_count": 23,
      "outputs": [
        {
          "output_type": "execute_result",
          "data": {
            "text/html": [
              "<div>\n",
              "<style scoped>\n",
              "    .dataframe tbody tr th:only-of-type {\n",
              "        vertical-align: middle;\n",
              "    }\n",
              "\n",
              "    .dataframe tbody tr th {\n",
              "        vertical-align: top;\n",
              "    }\n",
              "\n",
              "    .dataframe thead th {\n",
              "        text-align: right;\n",
              "    }\n",
              "</style>\n",
              "<table border=\"1\" class=\"dataframe\">\n",
              "  <thead>\n",
              "    <tr style=\"text-align: right;\">\n",
              "      <th></th>\n",
              "      <th>Start</th>\n",
              "      <th>Slut</th>\n",
              "      <th>NO2 (183)</th>\n",
              "      <th>NOX as NO2 (184)</th>\n",
              "      <th>PM10 (182)</th>\n",
              "      <th>PM2.5 (181)</th>\n",
              "    </tr>\n",
              "  </thead>\n",
              "  <tbody>\n",
              "    <tr>\n",
              "      <th>0</th>\n",
              "      <td>2015-01-01 00:00:00</td>\n",
              "      <td>2015-01-01 01:00:00</td>\n",
              "      <td>33.3</td>\n",
              "      <td>69.5</td>\n",
              "      <td>101.2</td>\n",
              "      <td>51.9</td>\n",
              "    </tr>\n",
              "    <tr>\n",
              "      <th>1</th>\n",
              "      <td>2015-01-01 01:00:00</td>\n",
              "      <td>2015-01-01 02:00:00</td>\n",
              "      <td>26.1</td>\n",
              "      <td>39.0</td>\n",
              "      <td>12.5</td>\n",
              "      <td>9.3</td>\n",
              "    </tr>\n",
              "    <tr>\n",
              "      <th>2</th>\n",
              "      <td>2015-01-01 02:00:00</td>\n",
              "      <td>2015-01-01 03:00:00</td>\n",
              "      <td>18.4</td>\n",
              "      <td>25.7</td>\n",
              "      <td>12.2</td>\n",
              "      <td>9.2</td>\n",
              "    </tr>\n",
              "    <tr>\n",
              "      <th>3</th>\n",
              "      <td>2015-01-01 03:00:00</td>\n",
              "      <td>2015-01-01 04:00:00</td>\n",
              "      <td>18.1</td>\n",
              "      <td>33.5</td>\n",
              "      <td>16.2</td>\n",
              "      <td>8.9</td>\n",
              "    </tr>\n",
              "    <tr>\n",
              "      <th>4</th>\n",
              "      <td>2015-01-01 04:00:00</td>\n",
              "      <td>2015-01-01 05:00:00</td>\n",
              "      <td>11.0</td>\n",
              "      <td>22.1</td>\n",
              "      <td>14.5</td>\n",
              "      <td>5.9</td>\n",
              "    </tr>\n",
              "  </tbody>\n",
              "</table>\n",
              "</div>"
            ],
            "text/plain": [
              "                Start                 Slut  ...  PM10 (182)  PM2.5 (181)\n",
              "0 2015-01-01 00:00:00  2015-01-01 01:00:00  ...       101.2         51.9\n",
              "1 2015-01-01 01:00:00  2015-01-01 02:00:00  ...        12.5          9.3\n",
              "2 2015-01-01 02:00:00  2015-01-01 03:00:00  ...        12.2          9.2\n",
              "3 2015-01-01 03:00:00  2015-01-01 04:00:00  ...        16.2          8.9\n",
              "4 2015-01-01 04:00:00  2015-01-01 05:00:00  ...        14.5          5.9\n",
              "\n",
              "[5 rows x 6 columns]"
            ]
          },
          "metadata": {
            "tags": []
          },
          "execution_count": 23
        }
      ]
    },
    {
      "cell_type": "code",
      "metadata": {
        "id": "xYibiFdTnze6"
      },
      "source": [
        "  del df['Start']\n",
        "  del df['Slut']\n",
        "  column_indices = {name: i for i, name in enumerate(df.columns)}\n",
        "\n",
        "  n = len(df)\n",
        "\n",
        "  cols = df.columns\n",
        "  # x = df.values #returns a numpy array\n",
        "  sc = StandardScaler()\n",
        "  # x_scaled = sc.fit_transform(x)\n",
        "  # df = pd.DataFrame(x_scaled)\n",
        "\n",
        "  # y = pm10_test.values\n",
        "  # y_scaled = sc.fit_transform(y)\n",
        "  # pm10_test = \n",
        "  \n",
        "  df.columns = cols\n",
        "  # Normalising training data\n",
        "  train_df = df[0:int(n*0.7)]\n",
        "  x = train_df.values\n",
        "  train_scaled = sc.fit_transform(x)\n",
        "  train_df = pd.DataFrame(train_scaled,columns=cols)\n",
        "  # Normalising validation data\n",
        "  val_df = df[int(n*0.70):int(n*0.85)]\n",
        "  x = val_df.values\n",
        "  train_scaled = sc.fit_transform(x)\n",
        "  val_df = pd.DataFrame(train_scaled,columns=cols)\n",
        "  # Normalising testing data\n",
        "  test_df = df[int(n*0.85):]\n",
        "  x = test_df.values\n",
        "  train_scaled = sc.fit_transform(x)\n",
        "  test_df = pd.DataFrame(train_scaled,columns=cols)\n",
        "\n",
        "\n",
        "  num_features = df.shape[1]\n",
        "  # return(train_df,val_df,test_df,num_features)\n",
        "  train_mean = train_df.mean()\n",
        "  train_std = train_df.std()\n",
        "\n",
        "  df_std = (df - train_mean) / train_std"
      ],
      "execution_count": 24,
      "outputs": []
    },
    {
      "cell_type": "code",
      "metadata": {
        "id": "tQSd0hpTn4ja"
      },
      "source": [
        "class WindowGenerator():\n",
        "  def __init__(self, input_width, label_width, shift,\n",
        "                train_df=train_df, val_df=val_df, test_df=test_df,\n",
        "                label_columns=None):\n",
        "      # Store the raw data.\n",
        "    self.train_df = train_df\n",
        "    self.val_df = val_df\n",
        "    self.test_df = test_df\n",
        "\n",
        "      # Work out the label column indices.\n",
        "    self.label_columns = label_columns\n",
        "    if label_columns is not None:\n",
        "      self.label_columns_indices = {name: i for i, name in\n",
        "                                      enumerate(label_columns)}\n",
        "    self.column_indices = {name: i for i, name in\n",
        "                            enumerate(train_df.columns)}\n",
        "\n",
        "      # Work out the window parameters.\n",
        "    self.input_width = input_width\n",
        "    self.label_width = label_width\n",
        "    self.shift = shift\n",
        "\n",
        "    self.total_window_size = input_width + shift\n",
        "\n",
        "    self.input_slice = slice(0, input_width)\n",
        "    self.input_indices = np.arange(self.total_window_size)[self.input_slice]\n",
        "\n",
        "    self.label_start = self.total_window_size - self.label_width\n",
        "    self.labels_slice = slice(self.label_start, None)\n",
        "    self.label_indices = np.arange(self.total_window_size)[self.labels_slice]\n",
        "\n",
        "  def __repr__(self):\n",
        "    return '\\n'.join([\n",
        "        f'Total window size: {self.total_window_size}',\n",
        "        f'Input indices: {self.input_indices}',\n",
        "        f'Label indices: {self.label_indices}',\n",
        "        f'Label column name(s): {self.label_columns}'])\n",
        "\n",
        "\n",
        "WindowGenerator.split_window = split_window\n",
        "WindowGenerator.plot = plot\n",
        "WindowGenerator.make_dataset = make_dataset\n",
        "\n",
        "@property\n",
        "def train(self):\n",
        "  return self.make_dataset(self.train_df)\n",
        "\n",
        "@property\n",
        "def val(self):\n",
        "  return self.make_dataset(self.val_df)\n",
        "\n",
        "@property\n",
        "def test(self):\n",
        "  return self.make_dataset(self.test_df)\n",
        "\n",
        "@property\n",
        "def example(self):\n",
        "  \"\"\"Get and cache an example batch of `inputs, labels` for plotting.\"\"\"\n",
        "  result = getattr(self, '_example', None)\n",
        "  if result is None:\n",
        "      # No example batch was found, so get one from the `.train` dataset\n",
        "    result = next(iter(self.train))\n",
        "      # And cache it for next time\n",
        "    self._example = result\n",
        "  return result\n",
        "\n",
        "WindowGenerator.train = train\n",
        "WindowGenerator.val = val\n",
        "WindowGenerator.test = test\n",
        "WindowGenerator.example = example\n",
        "\n",
        "  \n",
        "\n",
        "# single_step_window = WindowGenerator(\n",
        "#       input_width=2, label_width=1, shift=1,\n",
        "#       label_columns=['PM10 (107)'])\n",
        "#   # single_step_window\n",
        "# print(single_step_window.test)\n"
      ],
      "execution_count": 25,
      "outputs": []
    },
    {
      "cell_type": "code",
      "metadata": {
        "id": "vKWma86NoUBo",
        "outputId": "fa934500-3c52-4cab-847f-cf2ee0259f7e",
        "colab": {
          "base_uri": "https://localhost:8080/"
        }
      },
      "source": [
        "OUT_STEPS = 24\n",
        "multi_window = WindowGenerator(input_width=24,\n",
        "                               label_width=OUT_STEPS,\n",
        "                               shift=OUT_STEPS)\n",
        "\n",
        "# multi_window.plot()\n",
        "multi_window"
      ],
      "execution_count": 26,
      "outputs": [
        {
          "output_type": "execute_result",
          "data": {
            "text/plain": [
              "Total window size: 48\n",
              "Input indices: [ 0  1  2  3  4  5  6  7  8  9 10 11 12 13 14 15 16 17 18 19 20 21 22 23]\n",
              "Label indices: [24 25 26 27 28 29 30 31 32 33 34 35 36 37 38 39 40 41 42 43 44 45 46 47]\n",
              "Label column name(s): None"
            ]
          },
          "metadata": {
            "tags": []
          },
          "execution_count": 26
        }
      ]
    },
    {
      "cell_type": "code",
      "metadata": {
        "id": "VJubBqxqn85h",
        "outputId": "e440874e-066a-4820-c841-0af1360f5073",
        "colab": {
          "base_uri": "https://localhost:8080/"
        }
      },
      "source": [
        "MAX_EPOCHS = 20\n",
        "multi_dense_model = tf.keras.Sequential([\n",
        "    # Take the last time step.\n",
        "    # Shape [batch, time, features] => [batch, 1, features]\n",
        "    tf.keras.layers.Lambda(lambda x: x[:, -1:, :]),\n",
        "    # Shape => [batch, 1, dense_units]\n",
        "    tf.keras.layers.Dense(512, activation='relu'),\n",
        "    # Shape => [batch, out_steps*features]\n",
        "    tf.keras.layers.Dense(OUT_STEPS*num_features,\n",
        "                          kernel_initializer=tf.initializers.zeros),\n",
        "    # Shape => [batch, out_steps, features]\n",
        "    tf.keras.layers.Reshape([OUT_STEPS, num_features])\n",
        "])\n",
        "\n",
        "history = compile_and_fit(multi_dense_model, multi_window)\n",
        "\n",
        "# IPython.display.clear_output()\n",
        "# multi_val_performance['Dense'] = multi_dense_model.evaluate(multi_window.val)\n",
        "multi_performance = multi_dense_model.predict(multi_window.test)\n",
        "# multi_window.plot(multi_dense_model)"
      ],
      "execution_count": 27,
      "outputs": [
        {
          "output_type": "stream",
          "text": [
            "Epoch 1/20\n",
            "958/958 [==============================] - 4s 5ms/step - loss: 0.8339 - mean_absolute_error: 0.6308 - val_loss: 0.7896 - val_mean_absolute_error: 0.6200\n",
            "Epoch 2/20\n",
            "958/958 [==============================] - 4s 4ms/step - loss: 0.8254 - mean_absolute_error: 0.6269 - val_loss: 0.7896 - val_mean_absolute_error: 0.6206\n",
            "Epoch 3/20\n",
            "958/958 [==============================] - 4s 4ms/step - loss: 0.8222 - mean_absolute_error: 0.6257 - val_loss: 0.7899 - val_mean_absolute_error: 0.6195\n"
          ],
          "name": "stdout"
        }
      ]
    },
    {
      "cell_type": "code",
      "metadata": {
        "id": "9KuPg3OPvRf3",
        "outputId": "c45897ad-2f46-478f-8e1d-57213cd32db7",
        "colab": {
          "base_uri": "https://localhost:8080/"
        }
      },
      "source": [
        "multi_performance.shape"
      ],
      "execution_count": 28,
      "outputs": [
        {
          "output_type": "execute_result",
          "data": {
            "text/plain": [
              "(6527, 24, 4)"
            ]
          },
          "metadata": {
            "tags": []
          },
          "execution_count": 28
        }
      ]
    },
    {
      "cell_type": "code",
      "metadata": {
        "id": "hYpAgC7VvmxO"
      },
      "source": [
        "no2 = multi_performance[0:10][0:][0]"
      ],
      "execution_count": 37,
      "outputs": []
    },
    {
      "cell_type": "code",
      "metadata": {
        "id": "pNR8j12k8tKP",
        "outputId": "3eb5a655-1fee-4592-de40-ee7b1a8906c0",
        "colab": {
          "base_uri": "https://localhost:8080/"
        }
      },
      "source": [
        "no2.shape"
      ],
      "execution_count": 38,
      "outputs": [
        {
          "output_type": "execute_result",
          "data": {
            "text/plain": [
              "(24, 4)"
            ]
          },
          "metadata": {
            "tags": []
          },
          "execution_count": 38
        }
      ]
    },
    {
      "cell_type": "code",
      "metadata": {
        "id": "waP5L97P8y_a",
        "outputId": "2ab5b858-ff8d-4763-d87a-a9e352d1f3e1",
        "colab": {
          "base_uri": "https://localhost:8080/"
        }
      },
      "source": [
        "no2"
      ],
      "execution_count": 39,
      "outputs": [
        {
          "output_type": "execute_result",
          "data": {
            "text/plain": [
              "array([[-0.9558216 , -0.8205393 , -0.01303597, -0.0851728 ],\n",
              "       [-0.80753076, -0.7281708 ,  0.01104225, -0.07467635],\n",
              "       [-0.69369125, -0.6105226 ,  0.04309293, -0.04100066],\n",
              "       [-0.5885495 , -0.5137566 ,  0.10517125, -0.02029038],\n",
              "       [-0.5531428 , -0.49779776,  0.17209256, -0.02989908],\n",
              "       [-0.5070606 , -0.45167074,  0.21165392, -0.03693254],\n",
              "       [-0.4677767 , -0.4673772 ,  0.25864995, -0.02205933],\n",
              "       [-0.4116676 , -0.437586  ,  0.27430007, -0.05097131],\n",
              "       [-0.39523262, -0.43812338,  0.33533707, -0.01970076],\n",
              "       [-0.37876835, -0.42617124,  0.31121847, -0.02273868],\n",
              "       [-0.31101286, -0.3778787 ,  0.39379403,  0.00889403],\n",
              "       [-0.25829226, -0.3263988 ,  0.38733295, -0.00249196],\n",
              "       [-0.24436893, -0.33851844,  0.40744594,  0.05433448],\n",
              "       [-0.26544398, -0.35570925,  0.36551923,  0.09099661],\n",
              "       [-0.27145833, -0.3571392 ,  0.3228343 ,  0.10616386],\n",
              "       [-0.30971578, -0.38144356,  0.30538318,  0.13270882],\n",
              "       [-0.30957785, -0.37794778,  0.25539625,  0.14322887],\n",
              "       [-0.32150993, -0.39573216,  0.29115984,  0.1803138 ],\n",
              "       [-0.37029618, -0.39996278,  0.22739366,  0.1653587 ],\n",
              "       [-0.40005744, -0.4247415 ,  0.19477193,  0.13650903],\n",
              "       [-0.4604795 , -0.45759416,  0.18389645,  0.135775  ],\n",
              "       [-0.45499116, -0.42876464,  0.19489977,  0.11557689],\n",
              "       [-0.40771604, -0.36684042,  0.1992318 ,  0.08775093],\n",
              "       [-0.42142254, -0.39568418,  0.15571475,  0.0729939 ]],\n",
              "      dtype=float32)"
            ]
          },
          "metadata": {
            "tags": []
          },
          "execution_count": 39
        }
      ]
    }
  ]
}