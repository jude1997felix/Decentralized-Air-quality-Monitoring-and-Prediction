{
  "nbformat": 4,
  "nbformat_minor": 0,
  "metadata": {
    "colab": {
      "name": "competition.ipynb",
      "provenance": [],
      "collapsed_sections": [
        "8wjYj-vX9B1N",
        "N2S0_i6lG5i2"
      ],
      "toc_visible": true,
      "authorship_tag": "ABX9TyNOBOhmkI8CDgv0k1owGhlZ",
      "include_colab_link": true
    },
    "kernelspec": {
      "name": "python3",
      "display_name": "Python 3"
    },
    "accelerator": "GPU"
  },
  "cells": [
    {
      "cell_type": "markdown",
      "metadata": {
        "id": "view-in-github",
        "colab_type": "text"
      },
      "source": [
        "<a href=\"https://colab.research.google.com/github/jude1997felix/Decentralized-Air-quality-Monitoring-and-Prediction/blob/main/competition.ipynb\" target=\"_parent\"><img src=\"https://colab.research.google.com/assets/colab-badge.svg\" alt=\"Open In Colab\"/></a>"
      ]
    },
    {
      "cell_type": "markdown",
      "metadata": {
        "id": "8wjYj-vX9B1N"
      },
      "source": [
        "# Packages"
      ]
    },
    {
      "cell_type": "code",
      "metadata": {
        "id": "1H1MDB0t5iJ0"
      },
      "source": [
        "import pandas as pd\n",
        "import numpy as np\n",
        "import matplotlib.pyplot as plt\n",
        "import seaborn as sns\n",
        "import matplotlib.mlab as mlab\n",
        "plt.style.use('ggplot')\n",
        "from matplotlib.pyplot import figure\n",
        "from sklearn import preprocessing\n",
        "from sklearn.preprocessing import StandardScaler\n",
        "from sklearn.preprocessing import MinMaxScaler\n",
        "from sklearn.preprocessing import MultiLabelBinarizer\n",
        "import os\n",
        "import datetime\n",
        "import math \n",
        "import IPython\n",
        "import IPython.display\n",
        "import matplotlib as mpl\n",
        "import tensorflow as tf"
      ],
      "execution_count": 85,
      "outputs": []
    },
    {
      "cell_type": "code",
      "metadata": {
        "id": "78PNv73xtikQ"
      },
      "source": [
        "def compile_and_fit(model, window, patience=5):\n",
        "  early_stopping = tf.keras.callbacks.EarlyStopping(monitor='val_loss',\n",
        "                                                    patience=patience,\n",
        "                                                    mode='min')\n",
        "\n",
        "  model.compile(loss=tf.losses.MeanSquaredError(),\n",
        "                optimizer=tf.optimizers.Adam(),\n",
        "                metrics=[tf.metrics.MeanAbsoluteError()])\n",
        "\n",
        "  history = model.fit(window.train, epochs=MAX_EPOCHS,\n",
        "                      validation_data=window.val,\n",
        "                      callbacks=[early_stopping])\n",
        "  return history\n",
        "\n"
      ],
      "execution_count": 86,
      "outputs": []
    },
    {
      "cell_type": "code",
      "metadata": {
        "id": "AfiHcZiatrUx"
      },
      "source": [
        "def make_dataset(self, data):\n",
        "  data = np.array(data, dtype=np.float32)\n",
        "  ds = tf.keras.preprocessing.timeseries_dataset_from_array(\n",
        "      data=data,\n",
        "      targets=None,\n",
        "      sequence_length=self.total_window_size,\n",
        "      sequence_stride=1,\n",
        "      shuffle=True,\n",
        "      batch_size=32,)\n",
        "\n",
        "  ds = ds.map(self.split_window)\n",
        "\n",
        "  return ds\n",
        "\n",
        "\n",
        "def split_window(self, features):\n",
        "  inputs = features[:, self.input_slice, :]\n",
        "  labels = features[:, self.labels_slice, :]\n",
        "  if self.label_columns is not None:\n",
        "    labels = tf.stack(\n",
        "        [labels[:, :, self.column_indices[name]] for name in self.label_columns],\n",
        "        axis=-1)\n",
        "\n",
        "  # Slicing doesn't preserve static shape information, so set the shapes\n",
        "  # manually. This way the `tf.data.Datasets` are easier to inspect.\n",
        "  inputs.set_shape([None, self.input_width, None])\n",
        "  labels.set_shape([None, self.label_width, None])\n",
        "\n",
        "  return inputs, labels\n",
        "\n",
        "\n"
      ],
      "execution_count": 87,
      "outputs": []
    },
    {
      "cell_type": "markdown",
      "metadata": {
        "id": "N2S0_i6lG5i2"
      },
      "source": [
        "# Data"
      ]
    },
    {
      "cell_type": "code",
      "metadata": {
        "id": "9EIS_sVFoe_g",
        "outputId": "2c966484-42b4-4d4b-fec5-514ab77e5db8",
        "colab": {
          "base_uri": "https://localhost:8080/",
          "height": 0
        }
      },
      "source": [
        "df = pd.read_csv('/content/imputed_csv_18644.csv',parse_dates=['Start'])\n",
        "df.head()"
      ],
      "execution_count": 303,
      "outputs": [
        {
          "output_type": "execute_result",
          "data": {
            "text/html": [
              "<div>\n",
              "<style scoped>\n",
              "    .dataframe tbody tr th:only-of-type {\n",
              "        vertical-align: middle;\n",
              "    }\n",
              "\n",
              "    .dataframe tbody tr th {\n",
              "        vertical-align: top;\n",
              "    }\n",
              "\n",
              "    .dataframe thead th {\n",
              "        text-align: right;\n",
              "    }\n",
              "</style>\n",
              "<table border=\"1\" class=\"dataframe\">\n",
              "  <thead>\n",
              "    <tr style=\"text-align: right;\">\n",
              "      <th></th>\n",
              "      <th>Unnamed: 0</th>\n",
              "      <th>Start</th>\n",
              "      <th>Slut</th>\n",
              "      <th>NO2 (344)</th>\n",
              "      <th>NOX as NO2 (345)</th>\n",
              "      <th>PM10 (342)</th>\n",
              "      <th>PM2.5 (343)</th>\n",
              "    </tr>\n",
              "  </thead>\n",
              "  <tbody>\n",
              "    <tr>\n",
              "      <th>0</th>\n",
              "      <td>0</td>\n",
              "      <td>2015-01-01 00:00:00</td>\n",
              "      <td>2015-01-01 01:00:00</td>\n",
              "      <td>11.0</td>\n",
              "      <td>18.8</td>\n",
              "      <td>27.9</td>\n",
              "      <td>19.8</td>\n",
              "    </tr>\n",
              "    <tr>\n",
              "      <th>1</th>\n",
              "      <td>1</td>\n",
              "      <td>2015-01-01 01:00:00</td>\n",
              "      <td>2015-01-01 02:00:00</td>\n",
              "      <td>15.3</td>\n",
              "      <td>25.0</td>\n",
              "      <td>15.5</td>\n",
              "      <td>4.5</td>\n",
              "    </tr>\n",
              "    <tr>\n",
              "      <th>2</th>\n",
              "      <td>2</td>\n",
              "      <td>2015-01-01 02:00:00</td>\n",
              "      <td>2015-01-01 03:00:00</td>\n",
              "      <td>13.4</td>\n",
              "      <td>19.8</td>\n",
              "      <td>17.1</td>\n",
              "      <td>4.6</td>\n",
              "    </tr>\n",
              "    <tr>\n",
              "      <th>3</th>\n",
              "      <td>3</td>\n",
              "      <td>2015-01-01 03:00:00</td>\n",
              "      <td>2015-01-01 04:00:00</td>\n",
              "      <td>9.6</td>\n",
              "      <td>13.8</td>\n",
              "      <td>15.2</td>\n",
              "      <td>5.3</td>\n",
              "    </tr>\n",
              "    <tr>\n",
              "      <th>4</th>\n",
              "      <td>4</td>\n",
              "      <td>2015-01-01 04:00:00</td>\n",
              "      <td>2015-01-01 05:00:00</td>\n",
              "      <td>3.5</td>\n",
              "      <td>5.8</td>\n",
              "      <td>16.3</td>\n",
              "      <td>6.6</td>\n",
              "    </tr>\n",
              "  </tbody>\n",
              "</table>\n",
              "</div>"
            ],
            "text/plain": [
              "   Unnamed: 0               Start  ... PM10 (342)  PM2.5 (343)\n",
              "0           0 2015-01-01 00:00:00  ...       27.9         19.8\n",
              "1           1 2015-01-01 01:00:00  ...       15.5          4.5\n",
              "2           2 2015-01-01 02:00:00  ...       17.1          4.6\n",
              "3           3 2015-01-01 03:00:00  ...       15.2          5.3\n",
              "4           4 2015-01-01 04:00:00  ...       16.3          6.6\n",
              "\n",
              "[5 rows x 7 columns]"
            ]
          },
          "metadata": {
            "tags": []
          },
          "execution_count": 303
        }
      ]
    },
    {
      "cell_type": "code",
      "metadata": {
        "id": "5Nr9GN8Hoe_9"
      },
      "source": [
        "del df['Unnamed: 0']\n",
        "# del df['Black Carbon (410)']"
      ],
      "execution_count": 304,
      "outputs": []
    },
    {
      "cell_type": "code",
      "metadata": {
        "id": "4FksZ2yzofAO",
        "outputId": "769c4bf6-63e8-4c0d-fc24-244629d2bda1",
        "colab": {
          "base_uri": "https://localhost:8080/",
          "height": 0
        }
      },
      "source": [
        "df_copy = df.copy()\n",
        "df.head()"
      ],
      "execution_count": 305,
      "outputs": [
        {
          "output_type": "execute_result",
          "data": {
            "text/html": [
              "<div>\n",
              "<style scoped>\n",
              "    .dataframe tbody tr th:only-of-type {\n",
              "        vertical-align: middle;\n",
              "    }\n",
              "\n",
              "    .dataframe tbody tr th {\n",
              "        vertical-align: top;\n",
              "    }\n",
              "\n",
              "    .dataframe thead th {\n",
              "        text-align: right;\n",
              "    }\n",
              "</style>\n",
              "<table border=\"1\" class=\"dataframe\">\n",
              "  <thead>\n",
              "    <tr style=\"text-align: right;\">\n",
              "      <th></th>\n",
              "      <th>Start</th>\n",
              "      <th>Slut</th>\n",
              "      <th>NO2 (344)</th>\n",
              "      <th>NOX as NO2 (345)</th>\n",
              "      <th>PM10 (342)</th>\n",
              "      <th>PM2.5 (343)</th>\n",
              "    </tr>\n",
              "  </thead>\n",
              "  <tbody>\n",
              "    <tr>\n",
              "      <th>0</th>\n",
              "      <td>2015-01-01 00:00:00</td>\n",
              "      <td>2015-01-01 01:00:00</td>\n",
              "      <td>11.0</td>\n",
              "      <td>18.8</td>\n",
              "      <td>27.9</td>\n",
              "      <td>19.8</td>\n",
              "    </tr>\n",
              "    <tr>\n",
              "      <th>1</th>\n",
              "      <td>2015-01-01 01:00:00</td>\n",
              "      <td>2015-01-01 02:00:00</td>\n",
              "      <td>15.3</td>\n",
              "      <td>25.0</td>\n",
              "      <td>15.5</td>\n",
              "      <td>4.5</td>\n",
              "    </tr>\n",
              "    <tr>\n",
              "      <th>2</th>\n",
              "      <td>2015-01-01 02:00:00</td>\n",
              "      <td>2015-01-01 03:00:00</td>\n",
              "      <td>13.4</td>\n",
              "      <td>19.8</td>\n",
              "      <td>17.1</td>\n",
              "      <td>4.6</td>\n",
              "    </tr>\n",
              "    <tr>\n",
              "      <th>3</th>\n",
              "      <td>2015-01-01 03:00:00</td>\n",
              "      <td>2015-01-01 04:00:00</td>\n",
              "      <td>9.6</td>\n",
              "      <td>13.8</td>\n",
              "      <td>15.2</td>\n",
              "      <td>5.3</td>\n",
              "    </tr>\n",
              "    <tr>\n",
              "      <th>4</th>\n",
              "      <td>2015-01-01 04:00:00</td>\n",
              "      <td>2015-01-01 05:00:00</td>\n",
              "      <td>3.5</td>\n",
              "      <td>5.8</td>\n",
              "      <td>16.3</td>\n",
              "      <td>6.6</td>\n",
              "    </tr>\n",
              "  </tbody>\n",
              "</table>\n",
              "</div>"
            ],
            "text/plain": [
              "                Start                 Slut  ...  PM10 (342)  PM2.5 (343)\n",
              "0 2015-01-01 00:00:00  2015-01-01 01:00:00  ...        27.9         19.8\n",
              "1 2015-01-01 01:00:00  2015-01-01 02:00:00  ...        15.5          4.5\n",
              "2 2015-01-01 02:00:00  2015-01-01 03:00:00  ...        17.1          4.6\n",
              "3 2015-01-01 03:00:00  2015-01-01 04:00:00  ...        15.2          5.3\n",
              "4 2015-01-01 04:00:00  2015-01-01 05:00:00  ...        16.3          6.6\n",
              "\n",
              "[5 rows x 6 columns]"
            ]
          },
          "metadata": {
            "tags": []
          },
          "execution_count": 305
        }
      ]
    },
    {
      "cell_type": "markdown",
      "metadata": {
        "id": "8psLM4uxG-hz"
      },
      "source": [
        "# Model"
      ]
    },
    {
      "cell_type": "markdown",
      "metadata": {
        "id": "_b45eDMZZ4dq"
      },
      "source": [
        "## Data splitting and windowing\n"
      ]
    },
    {
      "cell_type": "code",
      "metadata": {
        "id": "xYibiFdTnze6"
      },
      "source": [
        "  del df['Start']\n",
        "  del df['Slut']\n",
        "  column_indices = {name: i for i, name in enumerate(df.columns)}\n",
        "\n",
        "  n = len(df)\n",
        "\n",
        "  cols = df.columns\n",
        "  x = df.values #returns a numpy array\n",
        "  sc = StandardScaler()\n",
        "  x_scaled = sc.fit_transform(x)\n",
        "  df = pd.DataFrame(x_scaled)\n",
        "\n",
        "  # y = pm10_test.values\n",
        "  # y_scaled = sc.fit_transform(y)\n",
        "  # pm10_test = \n",
        "  \n",
        "  df.columns = cols\n",
        "  \n",
        "  # Normalising training data\n",
        "  train_df = df[0:int(n*0.8)]\n",
        "  # x = train_df.values\n",
        "  # train_scaled = sc.fit_transform(x)\n",
        "  # train_df = pd.DataFrame(train_scaled,columns=cols)\n",
        "  \n",
        "  # Normalising validation data\n",
        "  val_df = df[int(n*0.80):int(n*0.90)]\n",
        "  # x = val_df.values\n",
        "  # train_scaled = sc.fit_transform(x)\n",
        "  # val_df = pd.DataFrame(train_scaled,columns=cols)\n",
        "  \n",
        "  # Normalising testing data\n",
        "  test_df = df[41000:41100]\n",
        "  # x = test_df.values\n",
        "  # train_scaled = sc.fit_transform(x)\n",
        "  # test_df = pd.DataFrame(train_scaled,columns=cols)\n",
        "\n",
        "\n",
        "  num_features = df.shape[1]\n",
        "  # return(train_df,val_df,test_df,num_features)\n",
        "  train_mean = train_df.mean()\n",
        "  train_std = train_df.std()\n",
        "\n",
        "  df_std = (df - train_mean) / train_std"
      ],
      "execution_count": 306,
      "outputs": []
    },
    {
      "cell_type": "code",
      "metadata": {
        "id": "tQSd0hpTn4ja"
      },
      "source": [
        "class WindowGenerator():\n",
        "  def __init__(self, input_width, label_width, shift,\n",
        "                train_df=train_df, val_df=val_df, test_df=test_df,\n",
        "                label_columns=None):\n",
        "      # Store the raw data.\n",
        "    self.train_df = train_df\n",
        "    self.val_df = val_df\n",
        "    self.test_df = test_df\n",
        "\n",
        "      # Work out the label column indices.\n",
        "    self.label_columns = label_columns\n",
        "    if label_columns is not None:\n",
        "      self.label_columns_indices = {name: i for i, name in\n",
        "                                      enumerate(label_columns)}\n",
        "    self.column_indices = {name: i for i, name in\n",
        "                            enumerate(train_df.columns)}\n",
        "\n",
        "      # Work out the window parameters.\n",
        "    self.input_width = input_width\n",
        "    self.label_width = label_width\n",
        "    self.shift = shift\n",
        "\n",
        "    self.total_window_size = input_width + shift\n",
        "\n",
        "    self.input_slice = slice(0, input_width)\n",
        "    self.input_indices = np.arange(self.total_window_size)[self.input_slice]\n",
        "\n",
        "    self.label_start = self.total_window_size - self.label_width\n",
        "    self.labels_slice = slice(self.label_start, None)\n",
        "    self.label_indices = np.arange(self.total_window_size)[self.labels_slice]\n",
        "\n",
        "  def __repr__(self):\n",
        "    return '\\n'.join([\n",
        "        f'Total window size: {self.total_window_size}',\n",
        "        f'Input indices: {self.input_indices}',\n",
        "        f'Label indices: {self.label_indices}',\n",
        "        f'Label column name(s): {self.label_columns}'])\n",
        "\n",
        "\n",
        "WindowGenerator.split_window = split_window\n",
        "# WindowGenerator.plot = plot\n",
        "WindowGenerator.make_dataset = make_dataset\n",
        "\n",
        "@property\n",
        "def train(self):\n",
        "  return self.make_dataset(self.train_df)\n",
        "\n",
        "@property\n",
        "def val(self):\n",
        "  return self.make_dataset(self.val_df)\n",
        "\n",
        "@property\n",
        "def test(self):\n",
        "  return self.make_dataset(self.test_df)\n",
        "\n",
        "@property\n",
        "def example(self):\n",
        "  \"\"\"Get and cache an example batch of `inputs, labels` for plotting.\"\"\"\n",
        "  result = getattr(self, '_example', None)\n",
        "  if result is None:\n",
        "      # No example batch was found, so get one from the `.train` dataset\n",
        "    result = next(iter(self.train))\n",
        "      # And cache it for next time\n",
        "    self._example = result\n",
        "  return result\n",
        "\n",
        "WindowGenerator.train = train\n",
        "WindowGenerator.val = val\n",
        "WindowGenerator.test = test\n",
        "WindowGenerator.example = example\n",
        "\n",
        "  \n",
        "\n",
        "# single_step_window = WindowGenerator(\n",
        "#       input_width=2, label_width=1, shift=1,\n",
        "#       label_columns=['PM10 (107)'])\n",
        "#   # single_step_window\n",
        "# print(single_step_window.test)\n"
      ],
      "execution_count": 307,
      "outputs": []
    },
    {
      "cell_type": "code",
      "metadata": {
        "id": "vKWma86NoUBo",
        "outputId": "1b7d04c7-b8b1-4f8d-e5be-a8be8d0752c7",
        "colab": {
          "base_uri": "https://localhost:8080/"
        }
      },
      "source": [
        "OUT_STEPS = 24\n",
        "multi_window = WindowGenerator(input_width=24,\n",
        "                               label_width=OUT_STEPS,\n",
        "                               shift=OUT_STEPS)\n",
        "\n",
        "# multi_window.plot()\n",
        "multi_window"
      ],
      "execution_count": 308,
      "outputs": [
        {
          "output_type": "execute_result",
          "data": {
            "text/plain": [
              "Total window size: 48\n",
              "Input indices: [ 0  1  2  3  4  5  6  7  8  9 10 11 12 13 14 15 16 17 18 19 20 21 22 23]\n",
              "Label indices: [24 25 26 27 28 29 30 31 32 33 34 35 36 37 38 39 40 41 42 43 44 45 46 47]\n",
              "Label column name(s): None"
            ]
          },
          "metadata": {
            "tags": []
          },
          "execution_count": 308
        }
      ]
    },
    {
      "cell_type": "markdown",
      "metadata": {
        "id": "uRMljne5Z_3M"
      },
      "source": [
        "## Model training and prediction using DNN"
      ]
    },
    {
      "cell_type": "code",
      "metadata": {
        "id": "VJubBqxqn85h",
        "outputId": "6caafced-e3ff-43f3-e6ec-a746fe0ec287",
        "colab": {
          "base_uri": "https://localhost:8080/"
        }
      },
      "source": [
        "MAX_EPOCHS = 20\n",
        "multi_dense_model = tf.keras.Sequential([\n",
        "    # Take the last time step.\n",
        "    # Shape [batch, time, features] => [batch, 1, features]\n",
        "    tf.keras.layers.Lambda(lambda x: x[:, -1:, :]),\n",
        "    # Shape => [batch, 1, dense_units]\n",
        "    tf.keras.layers.Dense(512, activation='relu'),\n",
        "    # Shape => [batch, out_steps*features]\n",
        "    tf.keras.layers.Dense(OUT_STEPS*num_features,\n",
        "                          kernel_initializer=tf.initializers.zeros),\n",
        "    # Shape => [batch, out_steps, features]\n",
        "    tf.keras.layers.Reshape([OUT_STEPS, num_features])\n",
        "])\n",
        "\n",
        "history = compile_and_fit(multi_dense_model, multi_window)\n",
        "\n",
        "# IPython.display.clear_output()\n",
        "# multi_val_performance['Dense'] = multi_dense_model.evaluate(multi_window.val)\n",
        "# multi_performance = multi_dense_model.predict(multi_window.test)\n",
        "# multi_window.plot(multi_dense_model)"
      ],
      "execution_count": 309,
      "outputs": [
        {
          "output_type": "stream",
          "text": [
            "Epoch 1/20\n",
            "1095/1095 [==============================] - 5s 5ms/step - loss: 0.8287 - mean_absolute_error: 0.6338 - val_loss: 0.8698 - val_mean_absolute_error: 0.6639\n",
            "Epoch 2/20\n",
            "1095/1095 [==============================] - 5s 5ms/step - loss: 0.8140 - mean_absolute_error: 0.6264 - val_loss: 0.8662 - val_mean_absolute_error: 0.6658\n",
            "Epoch 3/20\n",
            "1095/1095 [==============================] - 5s 5ms/step - loss: 0.8103 - mean_absolute_error: 0.6248 - val_loss: 0.8661 - val_mean_absolute_error: 0.6618\n",
            "Epoch 4/20\n",
            "1095/1095 [==============================] - 5s 5ms/step - loss: 0.8077 - mean_absolute_error: 0.6237 - val_loss: 0.8652 - val_mean_absolute_error: 0.6646\n",
            "Epoch 5/20\n",
            "1095/1095 [==============================] - 5s 5ms/step - loss: 0.8064 - mean_absolute_error: 0.6232 - val_loss: 0.8627 - val_mean_absolute_error: 0.6619\n",
            "Epoch 6/20\n",
            "1095/1095 [==============================] - 5s 5ms/step - loss: 0.8049 - mean_absolute_error: 0.6226 - val_loss: 0.8629 - val_mean_absolute_error: 0.6629\n",
            "Epoch 7/20\n",
            "1095/1095 [==============================] - 5s 5ms/step - loss: 0.8041 - mean_absolute_error: 0.6224 - val_loss: 0.8641 - val_mean_absolute_error: 0.6650\n",
            "Epoch 8/20\n",
            "1095/1095 [==============================] - 5s 5ms/step - loss: 0.8028 - mean_absolute_error: 0.6218 - val_loss: 0.8663 - val_mean_absolute_error: 0.6649\n",
            "Epoch 9/20\n",
            "1095/1095 [==============================] - 5s 5ms/step - loss: 0.8025 - mean_absolute_error: 0.6218 - val_loss: 0.8618 - val_mean_absolute_error: 0.6641\n",
            "Epoch 10/20\n",
            "1095/1095 [==============================] - 5s 5ms/step - loss: 0.8016 - mean_absolute_error: 0.6215 - val_loss: 0.8614 - val_mean_absolute_error: 0.6614\n",
            "Epoch 11/20\n",
            "1095/1095 [==============================] - 5s 5ms/step - loss: 0.8011 - mean_absolute_error: 0.6212 - val_loss: 0.8640 - val_mean_absolute_error: 0.6642\n",
            "Epoch 12/20\n",
            "1095/1095 [==============================] - 5s 5ms/step - loss: 0.8000 - mean_absolute_error: 0.6208 - val_loss: 0.8601 - val_mean_absolute_error: 0.6607\n",
            "Epoch 13/20\n",
            "1095/1095 [==============================] - 5s 5ms/step - loss: 0.8001 - mean_absolute_error: 0.6209 - val_loss: 0.8627 - val_mean_absolute_error: 0.6634\n",
            "Epoch 14/20\n",
            "1095/1095 [==============================] - 5s 5ms/step - loss: 0.7992 - mean_absolute_error: 0.6206 - val_loss: 0.8623 - val_mean_absolute_error: 0.6642\n",
            "Epoch 15/20\n",
            "1095/1095 [==============================] - 5s 5ms/step - loss: 0.7989 - mean_absolute_error: 0.6203 - val_loss: 0.8601 - val_mean_absolute_error: 0.6623\n",
            "Epoch 16/20\n",
            "1095/1095 [==============================] - 5s 5ms/step - loss: 0.7981 - mean_absolute_error: 0.6200 - val_loss: 0.8605 - val_mean_absolute_error: 0.6624\n",
            "Epoch 17/20\n",
            "1095/1095 [==============================] - 5s 5ms/step - loss: 0.7979 - mean_absolute_error: 0.6199 - val_loss: 0.8599 - val_mean_absolute_error: 0.6628\n",
            "Epoch 18/20\n",
            "1095/1095 [==============================] - 5s 5ms/step - loss: 0.7976 - mean_absolute_error: 0.6199 - val_loss: 0.8593 - val_mean_absolute_error: 0.6625\n",
            "Epoch 19/20\n",
            "1095/1095 [==============================] - 5s 5ms/step - loss: 0.7970 - mean_absolute_error: 0.6196 - val_loss: 0.8575 - val_mean_absolute_error: 0.6606\n",
            "Epoch 20/20\n",
            "1095/1095 [==============================] - 5s 5ms/step - loss: 0.7967 - mean_absolute_error: 0.6196 - val_loss: 0.8602 - val_mean_absolute_error: 0.6657\n"
          ],
          "name": "stdout"
        }
      ]
    },
    {
      "cell_type": "code",
      "metadata": {
        "id": "1oU-ewPSFfus",
        "outputId": "4fd489be-83cf-464c-cb6d-f7e9581dfd1e",
        "colab": {
          "base_uri": "https://localhost:8080/"
        }
      },
      "source": [
        "predictions = dict()\n",
        "for i in range(92):\n",
        "  idx = 41591  + i*24\n",
        "  test_df = df.iloc[idx : idx+48]\n",
        "  \n",
        "  class WindowGenerator():\n",
        "    def __init__(self, input_width, label_width, shift,\n",
        "                  train_df=train_df, val_df=val_df, test_df=test_df,\n",
        "                  label_columns=None):\n",
        "        # Store the raw data.\n",
        "      self.train_df = train_df\n",
        "      self.val_df = val_df\n",
        "      self.test_df = test_df\n",
        "\n",
        "        # Work out the label column indices.\n",
        "      self.label_columns = label_columns\n",
        "      if label_columns is not None:\n",
        "        self.label_columns_indices = {name: i for i, name in\n",
        "                                        enumerate(label_columns)}\n",
        "      self.column_indices = {name: i for i, name in\n",
        "                              enumerate(train_df.columns)}\n",
        "\n",
        "        # Work out the window parameters.\n",
        "      self.input_width = input_width\n",
        "      self.label_width = label_width\n",
        "      self.shift = shift\n",
        "\n",
        "      self.total_window_size = input_width + shift\n",
        "\n",
        "      self.input_slice = slice(0, input_width)\n",
        "      self.input_indices = np.arange(self.total_window_size)[self.input_slice]\n",
        "\n",
        "      self.label_start = self.total_window_size - self.label_width\n",
        "      self.labels_slice = slice(self.label_start, None)\n",
        "      self.label_indices = np.arange(self.total_window_size)[self.labels_slice]\n",
        "\n",
        "    def __repr__(self):\n",
        "      return '\\n'.join([\n",
        "          f'Total window size: {self.total_window_size}',\n",
        "          f'Input indices: {self.input_indices}',\n",
        "          f'Label indices: {self.label_indices}',\n",
        "          f'Label column name(s): {self.label_columns}'])\n",
        "\n",
        "\n",
        "  WindowGenerator.split_window = split_window\n",
        "  # WindowGenerator.plot = plot\n",
        "  WindowGenerator.make_dataset = make_dataset\n",
        "\n",
        "  @property\n",
        "  def train(self):\n",
        "    return self.make_dataset(self.train_df)\n",
        "\n",
        "  @property\n",
        "  def val(self):\n",
        "    return self.make_dataset(self.val_df)\n",
        "\n",
        "  @property\n",
        "  def test(self):\n",
        "    return self.make_dataset(self.test_df)\n",
        "\n",
        "  @property\n",
        "  def example(self):\n",
        "    \"\"\"Get and cache an example batch of `inputs, labels` for plotting.\"\"\"\n",
        "    result = getattr(self, '_example', None)\n",
        "    if result is None:\n",
        "        # No example batch was found, so get one from the `.train` dataset\n",
        "      result = next(iter(self.train))\n",
        "        # And cache it for next time\n",
        "      self._example = result\n",
        "    return result\n",
        "\n",
        "  WindowGenerator.train = train\n",
        "  WindowGenerator.val = val\n",
        "  WindowGenerator.test = test\n",
        "  WindowGenerator.example = example\n",
        "\n",
        "\n",
        "  OUT_STEPS = 24\n",
        "  multi_window = WindowGenerator(input_width=24,\n",
        "                                label_width=OUT_STEPS,\n",
        "                                shift=OUT_STEPS)\n",
        "\n",
        "  # multi_window.plot()\n",
        "  # multi_window\n",
        "\n",
        "\n",
        "  pred = multi_dense_model.predict(multi_window.test)\n",
        "  pred = pred.reshape(24,4)\n",
        "  predictions[i] = pred\n",
        "idx"
      ],
      "execution_count": 310,
      "outputs": [
        {
          "output_type": "execute_result",
          "data": {
            "text/plain": [
              "43775"
            ]
          },
          "metadata": {
            "tags": []
          },
          "execution_count": 310
        }
      ]
    },
    {
      "cell_type": "code",
      "metadata": {
        "id": "eEJclJIugKml",
        "outputId": "bf72e10c-2c09-4eaa-f58f-fecd7a38c48f",
        "colab": {
          "base_uri": "https://localhost:8080/"
        }
      },
      "source": [
        "test_df.shape"
      ],
      "execution_count": 311,
      "outputs": [
        {
          "output_type": "execute_result",
          "data": {
            "text/plain": [
              "(48, 4)"
            ]
          },
          "metadata": {
            "tags": []
          },
          "execution_count": 311
        }
      ]
    },
    {
      "cell_type": "markdown",
      "metadata": {
        "id": "Vn7AGkswaLKz"
      },
      "source": [
        "## Denormalizing and calculating the smape values"
      ]
    },
    {
      "cell_type": "code",
      "metadata": {
        "id": "LngDnLCb3ujU"
      },
      "source": [
        "idx = 41615\n",
        "for days in range(92):\n",
        "  for hour in range(24):\n",
        "    for feat in range(4):\n",
        "      if feat == 0:\n",
        "        df['NO2 (344)'].iloc[idx] = predictions[days][hour][feat]\n",
        "      elif feat == 1:\n",
        "        df['NOX as NO2 (345)'].iloc[idx] = predictions[days][hour][feat]\n",
        "      elif feat == 2:\n",
        "        df['PM10 (342)'].iloc[idx] = predictions[days][hour][feat]\n",
        "      else:\n",
        "        df['PM2.5 (343)'].iloc[idx] = predictions[days][hour][feat]\n",
        "    idx = idx+1\n"
      ],
      "execution_count": 312,
      "outputs": []
    },
    {
      "cell_type": "code",
      "metadata": {
        "id": "6tJrHwYY36x0",
        "outputId": "9191a459-867e-4190-c62d-8b0882447a8f",
        "colab": {
          "base_uri": "https://localhost:8080/",
          "height": 204
        }
      },
      "source": [
        "x = df.values\n",
        "x_scaled = sc.inverse_transform(x)\n",
        "df_norm = pd.DataFrame(x_scaled, columns=cols)\n",
        "df_norm.head()"
      ],
      "execution_count": 313,
      "outputs": [
        {
          "output_type": "execute_result",
          "data": {
            "text/html": [
              "<div>\n",
              "<style scoped>\n",
              "    .dataframe tbody tr th:only-of-type {\n",
              "        vertical-align: middle;\n",
              "    }\n",
              "\n",
              "    .dataframe tbody tr th {\n",
              "        vertical-align: top;\n",
              "    }\n",
              "\n",
              "    .dataframe thead th {\n",
              "        text-align: right;\n",
              "    }\n",
              "</style>\n",
              "<table border=\"1\" class=\"dataframe\">\n",
              "  <thead>\n",
              "    <tr style=\"text-align: right;\">\n",
              "      <th></th>\n",
              "      <th>NO2 (344)</th>\n",
              "      <th>NOX as NO2 (345)</th>\n",
              "      <th>PM10 (342)</th>\n",
              "      <th>PM2.5 (343)</th>\n",
              "    </tr>\n",
              "  </thead>\n",
              "  <tbody>\n",
              "    <tr>\n",
              "      <th>0</th>\n",
              "      <td>11.0</td>\n",
              "      <td>18.8</td>\n",
              "      <td>27.9</td>\n",
              "      <td>19.8</td>\n",
              "    </tr>\n",
              "    <tr>\n",
              "      <th>1</th>\n",
              "      <td>15.3</td>\n",
              "      <td>25.0</td>\n",
              "      <td>15.5</td>\n",
              "      <td>4.5</td>\n",
              "    </tr>\n",
              "    <tr>\n",
              "      <th>2</th>\n",
              "      <td>13.4</td>\n",
              "      <td>19.8</td>\n",
              "      <td>17.1</td>\n",
              "      <td>4.6</td>\n",
              "    </tr>\n",
              "    <tr>\n",
              "      <th>3</th>\n",
              "      <td>9.6</td>\n",
              "      <td>13.8</td>\n",
              "      <td>15.2</td>\n",
              "      <td>5.3</td>\n",
              "    </tr>\n",
              "    <tr>\n",
              "      <th>4</th>\n",
              "      <td>3.5</td>\n",
              "      <td>5.8</td>\n",
              "      <td>16.3</td>\n",
              "      <td>6.6</td>\n",
              "    </tr>\n",
              "  </tbody>\n",
              "</table>\n",
              "</div>"
            ],
            "text/plain": [
              "   NO2 (344)  NOX as NO2 (345)  PM10 (342)  PM2.5 (343)\n",
              "0       11.0              18.8        27.9         19.8\n",
              "1       15.3              25.0        15.5          4.5\n",
              "2       13.4              19.8        17.1          4.6\n",
              "3        9.6              13.8        15.2          5.3\n",
              "4        3.5               5.8        16.3          6.6"
            ]
          },
          "metadata": {
            "tags": []
          },
          "execution_count": 313
        }
      ]
    },
    {
      "cell_type": "code",
      "metadata": {
        "id": "0ufpwECf4jv-",
        "outputId": "048a0eac-c254-400f-c23d-7d2b0a885e83",
        "colab": {
          "base_uri": "https://localhost:8080/",
          "height": 204
        }
      },
      "source": [
        "del df_copy['Slut']\n",
        "del df_copy['Start']\n",
        "df_copy.head()"
      ],
      "execution_count": 314,
      "outputs": [
        {
          "output_type": "execute_result",
          "data": {
            "text/html": [
              "<div>\n",
              "<style scoped>\n",
              "    .dataframe tbody tr th:only-of-type {\n",
              "        vertical-align: middle;\n",
              "    }\n",
              "\n",
              "    .dataframe tbody tr th {\n",
              "        vertical-align: top;\n",
              "    }\n",
              "\n",
              "    .dataframe thead th {\n",
              "        text-align: right;\n",
              "    }\n",
              "</style>\n",
              "<table border=\"1\" class=\"dataframe\">\n",
              "  <thead>\n",
              "    <tr style=\"text-align: right;\">\n",
              "      <th></th>\n",
              "      <th>NO2 (344)</th>\n",
              "      <th>NOX as NO2 (345)</th>\n",
              "      <th>PM10 (342)</th>\n",
              "      <th>PM2.5 (343)</th>\n",
              "    </tr>\n",
              "  </thead>\n",
              "  <tbody>\n",
              "    <tr>\n",
              "      <th>0</th>\n",
              "      <td>11.0</td>\n",
              "      <td>18.8</td>\n",
              "      <td>27.9</td>\n",
              "      <td>19.8</td>\n",
              "    </tr>\n",
              "    <tr>\n",
              "      <th>1</th>\n",
              "      <td>15.3</td>\n",
              "      <td>25.0</td>\n",
              "      <td>15.5</td>\n",
              "      <td>4.5</td>\n",
              "    </tr>\n",
              "    <tr>\n",
              "      <th>2</th>\n",
              "      <td>13.4</td>\n",
              "      <td>19.8</td>\n",
              "      <td>17.1</td>\n",
              "      <td>4.6</td>\n",
              "    </tr>\n",
              "    <tr>\n",
              "      <th>3</th>\n",
              "      <td>9.6</td>\n",
              "      <td>13.8</td>\n",
              "      <td>15.2</td>\n",
              "      <td>5.3</td>\n",
              "    </tr>\n",
              "    <tr>\n",
              "      <th>4</th>\n",
              "      <td>3.5</td>\n",
              "      <td>5.8</td>\n",
              "      <td>16.3</td>\n",
              "      <td>6.6</td>\n",
              "    </tr>\n",
              "  </tbody>\n",
              "</table>\n",
              "</div>"
            ],
            "text/plain": [
              "   NO2 (344)  NOX as NO2 (345)  PM10 (342)  PM2.5 (343)\n",
              "0       11.0              18.8        27.9         19.8\n",
              "1       15.3              25.0        15.5          4.5\n",
              "2       13.4              19.8        17.1          4.6\n",
              "3        9.6              13.8        15.2          5.3\n",
              "4        3.5               5.8        16.3          6.6"
            ]
          },
          "metadata": {
            "tags": []
          },
          "execution_count": 314
        }
      ]
    },
    {
      "cell_type": "code",
      "metadata": {
        "id": "8texBSXMXejJ"
      },
      "source": [
        "y_test = df_copy[41615:]\n",
        "y_pred = df_norm[41615:]"
      ],
      "execution_count": 315,
      "outputs": []
    },
    {
      "cell_type": "code",
      "metadata": {
        "id": "dElqYoxXYKzl",
        "outputId": "6e9938c9-ab8d-48b3-b4f1-fbc87c155511",
        "colab": {
          "base_uri": "https://localhost:8080/",
          "height": 204
        }
      },
      "source": [
        "y_test.head()"
      ],
      "execution_count": 316,
      "outputs": [
        {
          "output_type": "execute_result",
          "data": {
            "text/html": [
              "<div>\n",
              "<style scoped>\n",
              "    .dataframe tbody tr th:only-of-type {\n",
              "        vertical-align: middle;\n",
              "    }\n",
              "\n",
              "    .dataframe tbody tr th {\n",
              "        vertical-align: top;\n",
              "    }\n",
              "\n",
              "    .dataframe thead th {\n",
              "        text-align: right;\n",
              "    }\n",
              "</style>\n",
              "<table border=\"1\" class=\"dataframe\">\n",
              "  <thead>\n",
              "    <tr style=\"text-align: right;\">\n",
              "      <th></th>\n",
              "      <th>NO2 (344)</th>\n",
              "      <th>NOX as NO2 (345)</th>\n",
              "      <th>PM10 (342)</th>\n",
              "      <th>PM2.5 (343)</th>\n",
              "    </tr>\n",
              "  </thead>\n",
              "  <tbody>\n",
              "    <tr>\n",
              "      <th>41615</th>\n",
              "      <td>4.3</td>\n",
              "      <td>9.7</td>\n",
              "      <td>0.0</td>\n",
              "      <td>0.002842</td>\n",
              "    </tr>\n",
              "    <tr>\n",
              "      <th>41616</th>\n",
              "      <td>4.7</td>\n",
              "      <td>7.7</td>\n",
              "      <td>2.0</td>\n",
              "      <td>0.000000</td>\n",
              "    </tr>\n",
              "    <tr>\n",
              "      <th>41617</th>\n",
              "      <td>1.8</td>\n",
              "      <td>3.2</td>\n",
              "      <td>2.3</td>\n",
              "      <td>0.000000</td>\n",
              "    </tr>\n",
              "    <tr>\n",
              "      <th>41618</th>\n",
              "      <td>1.3</td>\n",
              "      <td>1.9</td>\n",
              "      <td>2.2</td>\n",
              "      <td>0.053142</td>\n",
              "    </tr>\n",
              "    <tr>\n",
              "      <th>41619</th>\n",
              "      <td>3.5</td>\n",
              "      <td>6.0</td>\n",
              "      <td>3.8</td>\n",
              "      <td>0.400000</td>\n",
              "    </tr>\n",
              "  </tbody>\n",
              "</table>\n",
              "</div>"
            ],
            "text/plain": [
              "       NO2 (344)  NOX as NO2 (345)  PM10 (342)  PM2.5 (343)\n",
              "41615        4.3               9.7         0.0     0.002842\n",
              "41616        4.7               7.7         2.0     0.000000\n",
              "41617        1.8               3.2         2.3     0.000000\n",
              "41618        1.3               1.9         2.2     0.053142\n",
              "41619        3.5               6.0         3.8     0.400000"
            ]
          },
          "metadata": {
            "tags": []
          },
          "execution_count": 316
        }
      ]
    },
    {
      "cell_type": "code",
      "metadata": {
        "id": "s63rPkFOYNz2",
        "outputId": "d8cb6a56-0c04-40bb-96f1-a2d691b095ff",
        "colab": {
          "base_uri": "https://localhost:8080/",
          "height": 204
        }
      },
      "source": [
        "y_pred.head()"
      ],
      "execution_count": 317,
      "outputs": [
        {
          "output_type": "execute_result",
          "data": {
            "text/html": [
              "<div>\n",
              "<style scoped>\n",
              "    .dataframe tbody tr th:only-of-type {\n",
              "        vertical-align: middle;\n",
              "    }\n",
              "\n",
              "    .dataframe tbody tr th {\n",
              "        vertical-align: top;\n",
              "    }\n",
              "\n",
              "    .dataframe thead th {\n",
              "        text-align: right;\n",
              "    }\n",
              "</style>\n",
              "<table border=\"1\" class=\"dataframe\">\n",
              "  <thead>\n",
              "    <tr style=\"text-align: right;\">\n",
              "      <th></th>\n",
              "      <th>NO2 (344)</th>\n",
              "      <th>NOX as NO2 (345)</th>\n",
              "      <th>PM10 (342)</th>\n",
              "      <th>PM2.5 (343)</th>\n",
              "    </tr>\n",
              "  </thead>\n",
              "  <tbody>\n",
              "    <tr>\n",
              "      <th>41615</th>\n",
              "      <td>19.471270</td>\n",
              "      <td>60.659505</td>\n",
              "      <td>5.046160</td>\n",
              "      <td>0.296953</td>\n",
              "    </tr>\n",
              "    <tr>\n",
              "      <th>41616</th>\n",
              "      <td>24.767853</td>\n",
              "      <td>79.357072</td>\n",
              "      <td>7.662711</td>\n",
              "      <td>1.024119</td>\n",
              "    </tr>\n",
              "    <tr>\n",
              "      <th>41617</th>\n",
              "      <td>27.597073</td>\n",
              "      <td>88.657137</td>\n",
              "      <td>9.913626</td>\n",
              "      <td>1.251994</td>\n",
              "    </tr>\n",
              "    <tr>\n",
              "      <th>41618</th>\n",
              "      <td>29.104562</td>\n",
              "      <td>91.542055</td>\n",
              "      <td>10.836983</td>\n",
              "      <td>1.530252</td>\n",
              "    </tr>\n",
              "    <tr>\n",
              "      <th>41619</th>\n",
              "      <td>31.074538</td>\n",
              "      <td>96.405039</td>\n",
              "      <td>12.291671</td>\n",
              "      <td>1.982532</td>\n",
              "    </tr>\n",
              "  </tbody>\n",
              "</table>\n",
              "</div>"
            ],
            "text/plain": [
              "       NO2 (344)  NOX as NO2 (345)  PM10 (342)  PM2.5 (343)\n",
              "41615  19.471270         60.659505    5.046160     0.296953\n",
              "41616  24.767853         79.357072    7.662711     1.024119\n",
              "41617  27.597073         88.657137    9.913626     1.251994\n",
              "41618  29.104562         91.542055   10.836983     1.530252\n",
              "41619  31.074538         96.405039   12.291671     1.982532"
            ]
          },
          "metadata": {
            "tags": []
          },
          "execution_count": 317
        }
      ]
    },
    {
      "cell_type": "code",
      "metadata": {
        "id": "jeOGtAcVYtS8"
      },
      "source": [
        "def smape(y_true, y_pred):\n",
        "  return tf.reduce_mean(2 * tf.abs(y_true - y_pred)\n",
        "                          / (tf.abs(y_pred) + tf.abs(y_true)) , axis=-1)\n"
      ],
      "execution_count": 318,
      "outputs": []
    },
    {
      "cell_type": "code",
      "metadata": {
        "id": "NAj0FixvYwfu",
        "outputId": "c1dd5140-1a5d-43b1-fb49-a54783365bbb",
        "colab": {
          "base_uri": "https://localhost:8080/"
        }
      },
      "source": [
        "smape(y_test['NO2 (344)'],y_pred['NO2 (344)'])"
      ],
      "execution_count": 319,
      "outputs": [
        {
          "output_type": "execute_result",
          "data": {
            "text/plain": [
              "<tf.Tensor: shape=(), dtype=float64, numpy=0.480165756426967>"
            ]
          },
          "metadata": {
            "tags": []
          },
          "execution_count": 319
        }
      ]
    },
    {
      "cell_type": "code",
      "metadata": {
        "id": "gPxEPD32Y9JB",
        "outputId": "497ee870-2382-4daf-b7b7-49c678725aa1",
        "colab": {
          "base_uri": "https://localhost:8080/"
        }
      },
      "source": [
        "smape(y_test['NOX as NO2 (345)'],y_pred['NOX as NO2 (345)'])"
      ],
      "execution_count": 320,
      "outputs": [
        {
          "output_type": "execute_result",
          "data": {
            "text/plain": [
              "<tf.Tensor: shape=(), dtype=float64, numpy=0.5882156345836959>"
            ]
          },
          "metadata": {
            "tags": []
          },
          "execution_count": 320
        }
      ]
    },
    {
      "cell_type": "code",
      "metadata": {
        "id": "9eEq5VhfZMbf",
        "outputId": "ab4e9da5-967e-43f2-d759-1b4b9c900759",
        "colab": {
          "base_uri": "https://localhost:8080/"
        }
      },
      "source": [
        "smape(y_test['PM10 (342)'],y_pred['PM10 (342)'])"
      ],
      "execution_count": 321,
      "outputs": [
        {
          "output_type": "execute_result",
          "data": {
            "text/plain": [
              "<tf.Tensor: shape=(), dtype=float64, numpy=0.55922429258736>"
            ]
          },
          "metadata": {
            "tags": []
          },
          "execution_count": 321
        }
      ]
    },
    {
      "cell_type": "code",
      "metadata": {
        "id": "oRZZxS4iZXlz",
        "outputId": "3adef8b4-beb9-4b82-cb95-15e6b594e557",
        "colab": {
          "base_uri": "https://localhost:8080/"
        }
      },
      "source": [
        "smape(y_test['PM2.5 (343)'],y_pred['PM2.5 (343)'])"
      ],
      "execution_count": 322,
      "outputs": [
        {
          "output_type": "execute_result",
          "data": {
            "text/plain": [
              "<tf.Tensor: shape=(), dtype=float64, numpy=0.5594407440002999>"
            ]
          },
          "metadata": {
            "tags": []
          },
          "execution_count": 322
        }
      ]
    },
    {
      "cell_type": "code",
      "metadata": {
        "id": "OExyNqEiZdex",
        "outputId": "9b338a29-8fce-4ef9-b925-4ffc3feffebd",
        "colab": {
          "base_uri": "https://localhost:8080/"
        }
      },
      "source": [
        "(0.4801 + 0.5882 + 0.5592 + 0.5594)/4"
      ],
      "execution_count": 326,
      "outputs": [
        {
          "output_type": "execute_result",
          "data": {
            "text/plain": [
              "0.546725"
            ]
          },
          "metadata": {
            "tags": []
          },
          "execution_count": 326
        }
      ]
    },
    {
      "cell_type": "code",
      "metadata": {
        "id": "nTvM2pNtZqyJ"
      },
      "source": [
        "y_pred.to_csv(\"test_values_18644.csv\")"
      ],
      "execution_count": 327,
      "outputs": []
    },
    {
      "cell_type": "code",
      "metadata": {
        "id": "yD6Uu1oIbRzi",
        "outputId": "cfdd5ca5-f89d-4e3a-ca8d-f838e85f2f40",
        "colab": {
          "base_uri": "https://localhost:8080/"
        }
      },
      "source": [
        "0.4886 + 0.5954 + 0.5534 + 0.5669\n",
        "\n",
        "0.4801 + 0.5882 + 0.5592 + 0.5594"
      ],
      "execution_count": 325,
      "outputs": [
        {
          "output_type": "execute_result",
          "data": {
            "text/plain": [
              "2.2043"
            ]
          },
          "metadata": {
            "tags": []
          },
          "execution_count": 325
        }
      ]
    }
  ]
}