{
  "nbformat": 4,
  "nbformat_minor": 0,
  "metadata": {
    "colab": {
      "name": "competition.ipynb",
      "provenance": [],
      "collapsed_sections": [
        "8wjYj-vX9B1N",
        "N2S0_i6lG5i2"
      ],
      "toc_visible": true,
      "authorship_tag": "ABX9TyMAgSOXRN8r3+b9Gz/CyBQe",
      "include_colab_link": true
    },
    "kernelspec": {
      "name": "python3",
      "display_name": "Python 3"
    },
    "accelerator": "GPU"
  },
  "cells": [
    {
      "cell_type": "markdown",
      "metadata": {
        "id": "view-in-github",
        "colab_type": "text"
      },
      "source": [
        "<a href=\"https://colab.research.google.com/github/jude1997felix/Decentralized-Air-quality-Monitoring-and-Prediction/blob/main/competition.ipynb\" target=\"_parent\"><img src=\"https://colab.research.google.com/assets/colab-badge.svg\" alt=\"Open In Colab\"/></a>"
      ]
    },
    {
      "cell_type": "markdown",
      "metadata": {
        "id": "8wjYj-vX9B1N"
      },
      "source": [
        "# Packages"
      ]
    },
    {
      "cell_type": "code",
      "metadata": {
        "id": "1H1MDB0t5iJ0"
      },
      "source": [
        "import pandas as pd\n",
        "import numpy as np\n",
        "import matplotlib.pyplot as plt\n",
        "import seaborn as sns\n",
        "import matplotlib.mlab as mlab\n",
        "plt.style.use('ggplot')\n",
        "from matplotlib.pyplot import figure\n",
        "from sklearn import preprocessing\n",
        "from sklearn.preprocessing import StandardScaler\n",
        "from sklearn.preprocessing import MinMaxScaler\n",
        "from sklearn.preprocessing import MultiLabelBinarizer\n",
        "import os\n",
        "import datetime\n",
        "import math \n",
        "import IPython\n",
        "import IPython.display\n",
        "import matplotlib as mpl\n",
        "import tensorflow as tf"
      ],
      "execution_count": 2,
      "outputs": []
    },
    {
      "cell_type": "code",
      "metadata": {
        "id": "78PNv73xtikQ"
      },
      "source": [
        "def compile_and_fit(model, window, patience=5):\n",
        "  early_stopping = tf.keras.callbacks.EarlyStopping(monitor='val_loss',\n",
        "                                                    patience=patience,\n",
        "                                                    mode='min')\n",
        "\n",
        "  model.compile(loss=tf.losses.MeanSquaredError(),\n",
        "                optimizer=tf.optimizers.Adam(),\n",
        "                metrics=[tf.metrics.MeanAbsoluteError()])\n",
        "\n",
        "  history = model.fit(window.train, epochs=MAX_EPOCHS,\n",
        "                      validation_data=window.val,\n",
        "                      callbacks=[early_stopping])\n",
        "  return history\n",
        "\n"
      ],
      "execution_count": 3,
      "outputs": []
    },
    {
      "cell_type": "code",
      "metadata": {
        "id": "AfiHcZiatrUx"
      },
      "source": [
        "def make_dataset(self, data):\n",
        "  data = np.array(data, dtype=np.float32)\n",
        "  ds = tf.keras.preprocessing.timeseries_dataset_from_array(\n",
        "      data=data,\n",
        "      targets=None,\n",
        "      sequence_length=self.total_window_size,\n",
        "      sequence_stride=1,\n",
        "      shuffle=True,\n",
        "      batch_size=32,)\n",
        "\n",
        "  ds = ds.map(self.split_window)\n",
        "\n",
        "  return ds\n",
        "\n",
        "\n",
        "def split_window(self, features):\n",
        "  inputs = features[:, self.input_slice, :]\n",
        "  labels = features[:, self.labels_slice, :]\n",
        "  if self.label_columns is not None:\n",
        "    labels = tf.stack(\n",
        "        [labels[:, :, self.column_indices[name]] for name in self.label_columns],\n",
        "        axis=-1)\n",
        "\n",
        "  # Slicing doesn't preserve static shape information, so set the shapes\n",
        "  # manually. This way the `tf.data.Datasets` are easier to inspect.\n",
        "  inputs.set_shape([None, self.input_width, None])\n",
        "  labels.set_shape([None, self.label_width, None])\n",
        "\n",
        "  return inputs, labels\n",
        "\n",
        "\n"
      ],
      "execution_count": 4,
      "outputs": []
    },
    {
      "cell_type": "code",
      "metadata": {
        "id": "lfS9pWFGCQcd"
      },
      "source": [
        "def time_features(df,time):\n",
        "  df['weekday'] = df[time].dt.day_name()\n",
        "  weekdays = ['Monday','Tuesday','Wednesday','Thursday','Friday']\n",
        "  weekends = ['Saturday','Sunday']\n",
        "  df['week'] = 'weekday'\n",
        "  for i in range(len(df.weekday)):\n",
        "    #print(df.weekday[i])\n",
        "    #break\n",
        "    if df.weekday[i] in weekends:\n",
        "      df['week'][i] = 'weekend'\n",
        "  # df.head(30)\n",
        "\n",
        "  y = pd.get_dummies(df.weekday)\n",
        "  z = pd.get_dummies(df.week)\n",
        "  del df['weekday']\n",
        "  del df['week']\n",
        "  df = df.join(y)\n",
        "  df = df.merge(z,left_index=True, right_index=True)\n",
        "  # df = merge(df)\n",
        "\n",
        "  df['week'] = df[time].dt.isocalendar().week\n",
        "\n",
        "  df['month'] = df[time].dt.month_name()\n",
        "  x = pd.get_dummies(df.month)\n",
        "  df = df.join(x)\n",
        "  del df['month']\n",
        "  df['seconds'] = df['Start'].map(datetime.datetime.timestamp)\n",
        "  day = 24*60*60\n",
        "  year = (365.2425)*day\n",
        "\n",
        "  df['Day sin'] = np.sin(df['seconds'] * (2 * np.pi / day))\n",
        "  df['Day cos'] = np.cos(df['seconds'] * (2 * np.pi / day))\n",
        "  df['Year sin'] = np.sin(df['seconds'] * (2 * np.pi / year))\n",
        "  df['Year cos'] = np.cos(df['seconds'] * (2 * np.pi / year))\n",
        "  # del pm10['Start']\n",
        "  del df['seconds']\n",
        "  return df\n",
        "\n",
        "# pm10 = time_features(pm10,'Start')"
      ],
      "execution_count": 5,
      "outputs": []
    },
    {
      "cell_type": "markdown",
      "metadata": {
        "id": "N2S0_i6lG5i2"
      },
      "source": [
        " # Data\n"
      ]
    },
    {
      "cell_type": "code",
      "metadata": {
        "id": "9EIS_sVFoe_g",
        "colab": {
          "base_uri": "https://localhost:8080/",
          "height": 204
        },
        "outputId": "179e4e20-b68d-4338-d960-968037a5dbfc"
      },
      "source": [
        "df = pd.read_csv('/content/imputed_csv_8779.csv',parse_dates=['Start'])\n",
        "df.head()"
      ],
      "execution_count": 50,
      "outputs": [
        {
          "output_type": "execute_result",
          "data": {
            "text/html": [
              "<div>\n",
              "<style scoped>\n",
              "    .dataframe tbody tr th:only-of-type {\n",
              "        vertical-align: middle;\n",
              "    }\n",
              "\n",
              "    .dataframe tbody tr th {\n",
              "        vertical-align: top;\n",
              "    }\n",
              "\n",
              "    .dataframe thead th {\n",
              "        text-align: right;\n",
              "    }\n",
              "</style>\n",
              "<table border=\"1\" class=\"dataframe\">\n",
              "  <thead>\n",
              "    <tr style=\"text-align: right;\">\n",
              "      <th></th>\n",
              "      <th>Unnamed: 0</th>\n",
              "      <th>Start</th>\n",
              "      <th>Slut</th>\n",
              "      <th>NO2 (183)</th>\n",
              "      <th>NOX as NO2 (184)</th>\n",
              "      <th>PM10 (182)</th>\n",
              "      <th>PM2.5 (181)</th>\n",
              "    </tr>\n",
              "  </thead>\n",
              "  <tbody>\n",
              "    <tr>\n",
              "      <th>0</th>\n",
              "      <td>0</td>\n",
              "      <td>2015-01-01 00:00:00</td>\n",
              "      <td>2015-01-01 01:00:00</td>\n",
              "      <td>33.3</td>\n",
              "      <td>69.5</td>\n",
              "      <td>101.2</td>\n",
              "      <td>51.9</td>\n",
              "    </tr>\n",
              "    <tr>\n",
              "      <th>1</th>\n",
              "      <td>1</td>\n",
              "      <td>2015-01-01 01:00:00</td>\n",
              "      <td>2015-01-01 02:00:00</td>\n",
              "      <td>26.1</td>\n",
              "      <td>39.0</td>\n",
              "      <td>12.5</td>\n",
              "      <td>9.3</td>\n",
              "    </tr>\n",
              "    <tr>\n",
              "      <th>2</th>\n",
              "      <td>2</td>\n",
              "      <td>2015-01-01 02:00:00</td>\n",
              "      <td>2015-01-01 03:00:00</td>\n",
              "      <td>18.4</td>\n",
              "      <td>25.7</td>\n",
              "      <td>12.2</td>\n",
              "      <td>9.2</td>\n",
              "    </tr>\n",
              "    <tr>\n",
              "      <th>3</th>\n",
              "      <td>3</td>\n",
              "      <td>2015-01-01 03:00:00</td>\n",
              "      <td>2015-01-01 04:00:00</td>\n",
              "      <td>18.1</td>\n",
              "      <td>33.5</td>\n",
              "      <td>16.2</td>\n",
              "      <td>8.9</td>\n",
              "    </tr>\n",
              "    <tr>\n",
              "      <th>4</th>\n",
              "      <td>4</td>\n",
              "      <td>2015-01-01 04:00:00</td>\n",
              "      <td>2015-01-01 05:00:00</td>\n",
              "      <td>11.0</td>\n",
              "      <td>22.1</td>\n",
              "      <td>14.5</td>\n",
              "      <td>5.9</td>\n",
              "    </tr>\n",
              "  </tbody>\n",
              "</table>\n",
              "</div>"
            ],
            "text/plain": [
              "   Unnamed: 0               Start  ... PM10 (182)  PM2.5 (181)\n",
              "0           0 2015-01-01 00:00:00  ...      101.2         51.9\n",
              "1           1 2015-01-01 01:00:00  ...       12.5          9.3\n",
              "2           2 2015-01-01 02:00:00  ...       12.2          9.2\n",
              "3           3 2015-01-01 03:00:00  ...       16.2          8.9\n",
              "4           4 2015-01-01 04:00:00  ...       14.5          5.9\n",
              "\n",
              "[5 rows x 7 columns]"
            ]
          },
          "metadata": {
            "tags": []
          },
          "execution_count": 50
        }
      ]
    },
    {
      "cell_type": "code",
      "metadata": {
        "id": "5Nr9GN8Hoe_9",
        "colab": {
          "base_uri": "https://localhost:8080/"
        },
        "outputId": "0ba5c3ef-a84c-45e7-a07d-1862859346b8"
      },
      "source": [
        "del df['Unnamed: 0']\n",
        "# del df['Black Carbon (410)']\n",
        "df = time_features(df,'Start')"
      ],
      "execution_count": 51,
      "outputs": [
        {
          "output_type": "stream",
          "text": [
            "/usr/local/lib/python3.6/dist-packages/ipykernel_launcher.py:10: SettingWithCopyWarning: \n",
            "A value is trying to be set on a copy of a slice from a DataFrame\n",
            "\n",
            "See the caveats in the documentation: https://pandas.pydata.org/pandas-docs/stable/user_guide/indexing.html#returning-a-view-versus-a-copy\n",
            "  # Remove the CWD from sys.path while we load stuff.\n"
          ],
          "name": "stderr"
        }
      ]
    },
    {
      "cell_type": "code",
      "metadata": {
        "id": "4FksZ2yzofAO",
        "colab": {
          "base_uri": "https://localhost:8080/",
          "height": 445
        },
        "outputId": "b795f268-df0d-4f78-e9a4-58068bef4058"
      },
      "source": [
        "df_copy = df.copy()\n",
        "df.head()"
      ],
      "execution_count": 52,
      "outputs": [
        {
          "output_type": "execute_result",
          "data": {
            "text/html": [
              "<div>\n",
              "<style scoped>\n",
              "    .dataframe tbody tr th:only-of-type {\n",
              "        vertical-align: middle;\n",
              "    }\n",
              "\n",
              "    .dataframe tbody tr th {\n",
              "        vertical-align: top;\n",
              "    }\n",
              "\n",
              "    .dataframe thead th {\n",
              "        text-align: right;\n",
              "    }\n",
              "</style>\n",
              "<table border=\"1\" class=\"dataframe\">\n",
              "  <thead>\n",
              "    <tr style=\"text-align: right;\">\n",
              "      <th></th>\n",
              "      <th>Start</th>\n",
              "      <th>Slut</th>\n",
              "      <th>NO2 (183)</th>\n",
              "      <th>NOX as NO2 (184)</th>\n",
              "      <th>PM10 (182)</th>\n",
              "      <th>PM2.5 (181)</th>\n",
              "      <th>Friday</th>\n",
              "      <th>Monday</th>\n",
              "      <th>Saturday</th>\n",
              "      <th>Sunday</th>\n",
              "      <th>Thursday</th>\n",
              "      <th>Tuesday</th>\n",
              "      <th>Wednesday</th>\n",
              "      <th>weekday</th>\n",
              "      <th>weekend</th>\n",
              "      <th>week</th>\n",
              "      <th>April</th>\n",
              "      <th>August</th>\n",
              "      <th>December</th>\n",
              "      <th>February</th>\n",
              "      <th>January</th>\n",
              "      <th>July</th>\n",
              "      <th>June</th>\n",
              "      <th>March</th>\n",
              "      <th>May</th>\n",
              "      <th>November</th>\n",
              "      <th>October</th>\n",
              "      <th>September</th>\n",
              "      <th>Day sin</th>\n",
              "      <th>Day cos</th>\n",
              "      <th>Year sin</th>\n",
              "      <th>Year cos</th>\n",
              "    </tr>\n",
              "  </thead>\n",
              "  <tbody>\n",
              "    <tr>\n",
              "      <th>0</th>\n",
              "      <td>2015-01-01 00:00:00</td>\n",
              "      <td>2015-01-01 01:00:00</td>\n",
              "      <td>33.3</td>\n",
              "      <td>69.5</td>\n",
              "      <td>101.2</td>\n",
              "      <td>51.9</td>\n",
              "      <td>0</td>\n",
              "      <td>0</td>\n",
              "      <td>0</td>\n",
              "      <td>0</td>\n",
              "      <td>1</td>\n",
              "      <td>0</td>\n",
              "      <td>0</td>\n",
              "      <td>1</td>\n",
              "      <td>0</td>\n",
              "      <td>1</td>\n",
              "      <td>0</td>\n",
              "      <td>0</td>\n",
              "      <td>0</td>\n",
              "      <td>0</td>\n",
              "      <td>1</td>\n",
              "      <td>0</td>\n",
              "      <td>0</td>\n",
              "      <td>0</td>\n",
              "      <td>0</td>\n",
              "      <td>0</td>\n",
              "      <td>0</td>\n",
              "      <td>0</td>\n",
              "      <td>1.232357e-12</td>\n",
              "      <td>1.000000</td>\n",
              "      <td>0.001505</td>\n",
              "      <td>0.999999</td>\n",
              "    </tr>\n",
              "    <tr>\n",
              "      <th>1</th>\n",
              "      <td>2015-01-01 01:00:00</td>\n",
              "      <td>2015-01-01 02:00:00</td>\n",
              "      <td>26.1</td>\n",
              "      <td>39.0</td>\n",
              "      <td>12.5</td>\n",
              "      <td>9.3</td>\n",
              "      <td>0</td>\n",
              "      <td>0</td>\n",
              "      <td>0</td>\n",
              "      <td>0</td>\n",
              "      <td>1</td>\n",
              "      <td>0</td>\n",
              "      <td>0</td>\n",
              "      <td>1</td>\n",
              "      <td>0</td>\n",
              "      <td>1</td>\n",
              "      <td>0</td>\n",
              "      <td>0</td>\n",
              "      <td>0</td>\n",
              "      <td>0</td>\n",
              "      <td>1</td>\n",
              "      <td>0</td>\n",
              "      <td>0</td>\n",
              "      <td>0</td>\n",
              "      <td>0</td>\n",
              "      <td>0</td>\n",
              "      <td>0</td>\n",
              "      <td>0</td>\n",
              "      <td>2.588190e-01</td>\n",
              "      <td>0.965926</td>\n",
              "      <td>0.002222</td>\n",
              "      <td>0.999998</td>\n",
              "    </tr>\n",
              "    <tr>\n",
              "      <th>2</th>\n",
              "      <td>2015-01-01 02:00:00</td>\n",
              "      <td>2015-01-01 03:00:00</td>\n",
              "      <td>18.4</td>\n",
              "      <td>25.7</td>\n",
              "      <td>12.2</td>\n",
              "      <td>9.2</td>\n",
              "      <td>0</td>\n",
              "      <td>0</td>\n",
              "      <td>0</td>\n",
              "      <td>0</td>\n",
              "      <td>1</td>\n",
              "      <td>0</td>\n",
              "      <td>0</td>\n",
              "      <td>1</td>\n",
              "      <td>0</td>\n",
              "      <td>1</td>\n",
              "      <td>0</td>\n",
              "      <td>0</td>\n",
              "      <td>0</td>\n",
              "      <td>0</td>\n",
              "      <td>1</td>\n",
              "      <td>0</td>\n",
              "      <td>0</td>\n",
              "      <td>0</td>\n",
              "      <td>0</td>\n",
              "      <td>0</td>\n",
              "      <td>0</td>\n",
              "      <td>0</td>\n",
              "      <td>5.000000e-01</td>\n",
              "      <td>0.866025</td>\n",
              "      <td>0.002939</td>\n",
              "      <td>0.999996</td>\n",
              "    </tr>\n",
              "    <tr>\n",
              "      <th>3</th>\n",
              "      <td>2015-01-01 03:00:00</td>\n",
              "      <td>2015-01-01 04:00:00</td>\n",
              "      <td>18.1</td>\n",
              "      <td>33.5</td>\n",
              "      <td>16.2</td>\n",
              "      <td>8.9</td>\n",
              "      <td>0</td>\n",
              "      <td>0</td>\n",
              "      <td>0</td>\n",
              "      <td>0</td>\n",
              "      <td>1</td>\n",
              "      <td>0</td>\n",
              "      <td>0</td>\n",
              "      <td>1</td>\n",
              "      <td>0</td>\n",
              "      <td>1</td>\n",
              "      <td>0</td>\n",
              "      <td>0</td>\n",
              "      <td>0</td>\n",
              "      <td>0</td>\n",
              "      <td>1</td>\n",
              "      <td>0</td>\n",
              "      <td>0</td>\n",
              "      <td>0</td>\n",
              "      <td>0</td>\n",
              "      <td>0</td>\n",
              "      <td>0</td>\n",
              "      <td>0</td>\n",
              "      <td>7.071068e-01</td>\n",
              "      <td>0.707107</td>\n",
              "      <td>0.003656</td>\n",
              "      <td>0.999993</td>\n",
              "    </tr>\n",
              "    <tr>\n",
              "      <th>4</th>\n",
              "      <td>2015-01-01 04:00:00</td>\n",
              "      <td>2015-01-01 05:00:00</td>\n",
              "      <td>11.0</td>\n",
              "      <td>22.1</td>\n",
              "      <td>14.5</td>\n",
              "      <td>5.9</td>\n",
              "      <td>0</td>\n",
              "      <td>0</td>\n",
              "      <td>0</td>\n",
              "      <td>0</td>\n",
              "      <td>1</td>\n",
              "      <td>0</td>\n",
              "      <td>0</td>\n",
              "      <td>1</td>\n",
              "      <td>0</td>\n",
              "      <td>1</td>\n",
              "      <td>0</td>\n",
              "      <td>0</td>\n",
              "      <td>0</td>\n",
              "      <td>0</td>\n",
              "      <td>1</td>\n",
              "      <td>0</td>\n",
              "      <td>0</td>\n",
              "      <td>0</td>\n",
              "      <td>0</td>\n",
              "      <td>0</td>\n",
              "      <td>0</td>\n",
              "      <td>0</td>\n",
              "      <td>8.660254e-01</td>\n",
              "      <td>0.500000</td>\n",
              "      <td>0.004372</td>\n",
              "      <td>0.999990</td>\n",
              "    </tr>\n",
              "  </tbody>\n",
              "</table>\n",
              "</div>"
            ],
            "text/plain": [
              "                Start                 Slut  ...  Year sin  Year cos\n",
              "0 2015-01-01 00:00:00  2015-01-01 01:00:00  ...  0.001505  0.999999\n",
              "1 2015-01-01 01:00:00  2015-01-01 02:00:00  ...  0.002222  0.999998\n",
              "2 2015-01-01 02:00:00  2015-01-01 03:00:00  ...  0.002939  0.999996\n",
              "3 2015-01-01 03:00:00  2015-01-01 04:00:00  ...  0.003656  0.999993\n",
              "4 2015-01-01 04:00:00  2015-01-01 05:00:00  ...  0.004372  0.999990\n",
              "\n",
              "[5 rows x 32 columns]"
            ]
          },
          "metadata": {
            "tags": []
          },
          "execution_count": 52
        }
      ]
    },
    {
      "cell_type": "markdown",
      "metadata": {
        "id": "8psLM4uxG-hz"
      },
      "source": [
        "# Model DNN\n"
      ]
    },
    {
      "cell_type": "markdown",
      "metadata": {
        "id": "_b45eDMZZ4dq"
      },
      "source": [
        "## Data splitting and windowing\n"
      ]
    },
    {
      "cell_type": "code",
      "metadata": {
        "id": "xYibiFdTnze6"
      },
      "source": [
        "  del df['Start']\n",
        "  del df['Slut']\n",
        "  column_indices = {name: i for i, name in enumerate(df.columns)}\n",
        "\n",
        "  n = len(df)\n",
        "\n",
        "  cols = df.columns\n",
        "  x = df.values #returns a numpy array\n",
        "  sc = StandardScaler()\n",
        "  x_scaled = sc.fit_transform(x)\n",
        "  df = pd.DataFrame(x_scaled)\n",
        "\n",
        "  # y = pm10_test.values\n",
        "  # y_scaled = sc.fit_transform(y)\n",
        "  # pm10_test = \n",
        "  \n",
        "  df.columns = cols\n",
        "  \n",
        "  # Normalising training data\n",
        "  train_df = df[0:int(n*0.8)]\n",
        "  # x = train_df.values\n",
        "  # train_scaled = sc.fit_transform(x)\n",
        "  # train_df = pd.DataFrame(train_scaled,columns=cols)\n",
        "  \n",
        "  # Normalising validation data\n",
        "  val_df = df[int(n*0.80):int(n*0.90)]\n",
        "  # x = val_df.values\n",
        "  # train_scaled = sc.fit_transform(x)\n",
        "  # val_df = pd.DataFrame(train_scaled,columns=cols)\n",
        "  \n",
        "  # Normalising testing data\n",
        "  test_df = df[41000:41100]\n",
        "  # x = test_df.values\n",
        "  # train_scaled = sc.fit_transform(x)\n",
        "  # test_df = pd.DataFrame(train_scaled,columns=cols)\n",
        "\n",
        "\n",
        "  num_features = df.shape[1]\n",
        "  # return(train_df,val_df,test_df,num_features)\n",
        "  train_mean = train_df.mean()\n",
        "  train_std = train_df.std()\n",
        "\n",
        "  df_std = (df - train_mean) / train_std"
      ],
      "execution_count": 53,
      "outputs": []
    },
    {
      "cell_type": "code",
      "metadata": {
        "id": "tQSd0hpTn4ja"
      },
      "source": [
        "class WindowGenerator():\n",
        "  def __init__(self, input_width, label_width, shift,\n",
        "                train_df=train_df, val_df=val_df, test_df=test_df,\n",
        "                label_columns=None):\n",
        "      # Store the raw data.\n",
        "    self.train_df = train_df\n",
        "    self.val_df = val_df\n",
        "    self.test_df = test_df\n",
        "\n",
        "      # Work out the label column indices.\n",
        "    self.label_columns = label_columns\n",
        "    if label_columns is not None:\n",
        "      self.label_columns_indices = {name: i for i, name in\n",
        "                                      enumerate(label_columns)}\n",
        "    self.column_indices = {name: i for i, name in\n",
        "                            enumerate(train_df.columns)}\n",
        "\n",
        "      # Work out the window parameters.\n",
        "    self.input_width = input_width\n",
        "    self.label_width = label_width\n",
        "    self.shift = shift\n",
        "\n",
        "    self.total_window_size = input_width + shift\n",
        "\n",
        "    self.input_slice = slice(0, input_width)\n",
        "    self.input_indices = np.arange(self.total_window_size)[self.input_slice]\n",
        "\n",
        "    self.label_start = self.total_window_size - self.label_width\n",
        "    self.labels_slice = slice(self.label_start, None)\n",
        "    self.label_indices = np.arange(self.total_window_size)[self.labels_slice]\n",
        "\n",
        "  def __repr__(self):\n",
        "    return '\\n'.join([\n",
        "        f'Total window size: {self.total_window_size}',\n",
        "        f'Input indices: {self.input_indices}',\n",
        "        f'Label indices: {self.label_indices}',\n",
        "        f'Label column name(s): {self.label_columns}'])\n",
        "\n",
        "\n",
        "WindowGenerator.split_window = split_window\n",
        "# WindowGenerator.plot = plot\n",
        "WindowGenerator.make_dataset = make_dataset\n",
        "\n",
        "@property\n",
        "def train(self):\n",
        "  return self.make_dataset(self.train_df)\n",
        "\n",
        "@property\n",
        "def val(self):\n",
        "  return self.make_dataset(self.val_df)\n",
        "\n",
        "@property\n",
        "def test(self):\n",
        "  return self.make_dataset(self.test_df)\n",
        "\n",
        "@property\n",
        "def example(self):\n",
        "  \"\"\"Get and cache an example batch of `inputs, labels` for plotting.\"\"\"\n",
        "  result = getattr(self, '_example', None)\n",
        "  if result is None:\n",
        "      # No example batch was found, so get one from the `.train` dataset\n",
        "    result = next(iter(self.train))\n",
        "      # And cache it for next time\n",
        "    self._example = result\n",
        "  return result\n",
        "\n",
        "WindowGenerator.train = train\n",
        "WindowGenerator.val = val\n",
        "WindowGenerator.test = test\n",
        "WindowGenerator.example = example\n",
        "\n",
        "  \n",
        "\n",
        "# single_step_window = WindowGenerator(\n",
        "#       input_width=2, label_width=1, shift=1,\n",
        "#       label_columns=['PM10 (107)'])\n",
        "#   # single_step_window\n",
        "# print(single_step_window.test)\n"
      ],
      "execution_count": 54,
      "outputs": []
    },
    {
      "cell_type": "code",
      "metadata": {
        "id": "vKWma86NoUBo",
        "colab": {
          "base_uri": "https://localhost:8080/"
        },
        "outputId": "df2c92e4-35ca-405f-92ef-15126ac90f09"
      },
      "source": [
        "OUT_STEPS = 24\n",
        "multi_window = WindowGenerator(input_width=24,\n",
        "                               label_width=OUT_STEPS,\n",
        "                               shift=OUT_STEPS,\n",
        "                               label_columns=['NO2 (183)',\t'NOX as NO2 (184)',\t'PM10 (182)',\t'PM2.5 (181)'])\n",
        "\n",
        "# multi_window.plot()\n",
        "multi_window\n",
        "#NO2 (183)\tNOX as NO2 (184)\tPM10 (182)\tPM2.5 (181)"
      ],
      "execution_count": 55,
      "outputs": [
        {
          "output_type": "execute_result",
          "data": {
            "text/plain": [
              "Total window size: 48\n",
              "Input indices: [ 0  1  2  3  4  5  6  7  8  9 10 11 12 13 14 15 16 17 18 19 20 21 22 23]\n",
              "Label indices: [24 25 26 27 28 29 30 31 32 33 34 35 36 37 38 39 40 41 42 43 44 45 46 47]\n",
              "Label column name(s): ['NO2 (183)', 'NOX as NO2 (184)', 'PM10 (182)', 'PM2.5 (181)']"
            ]
          },
          "metadata": {
            "tags": []
          },
          "execution_count": 55
        }
      ]
    },
    {
      "cell_type": "markdown",
      "metadata": {
        "id": "uRMljne5Z_3M"
      },
      "source": [
        "## Model training and prediction using DNN"
      ]
    },
    {
      "cell_type": "code",
      "metadata": {
        "id": "VJubBqxqn85h",
        "colab": {
          "base_uri": "https://localhost:8080/"
        },
        "outputId": "c0369e1c-5bbd-49d9-f81e-1434b4475944"
      },
      "source": [
        "MAX_EPOCHS = 20\n",
        "multi_dense_model = tf.keras.Sequential([\n",
        "    # Take the last time step.\n",
        "    # Shape [batch, time, features] => [batch, 1, features]\n",
        "    tf.keras.layers.Lambda(lambda x: x[:, -1:, :]),\n",
        "    # Shape => [batch, 1, dense_units]\n",
        "    tf.keras.layers.Dense(512, activation='relu'),\n",
        "    # Shape => [batch, out_steps*features]\n",
        "    tf.keras.layers.Dense(OUT_STEPS*4,\n",
        "                          kernel_initializer=tf.initializers.zeros),\n",
        "    # Shape => [batch, out_steps, features]\n",
        "    tf.keras.layers.Reshape([OUT_STEPS, 4])\n",
        "])\n",
        "\n",
        "history = compile_and_fit(multi_dense_model, multi_window)\n",
        "\n",
        "# IPython.display.clear_output()\n",
        "# multi_val_performance['Dense'] = multi_dense_model.evaluate(multi_window.val)\n",
        "# multi_performance = multi_dense_model.predict(multi_window.test)\n",
        "# multi_window.plot(multi_dense_model)"
      ],
      "execution_count": 56,
      "outputs": [
        {
          "output_type": "stream",
          "text": [
            "Epoch 1/20\n",
            "1095/1095 [==============================] - 5s 5ms/step - loss: 0.6522 - mean_absolute_error: 0.5480 - val_loss: 0.8857 - val_mean_absolute_error: 0.6190\n",
            "Epoch 2/20\n",
            "1095/1095 [==============================] - 5s 5ms/step - loss: 0.6066 - mean_absolute_error: 0.5263 - val_loss: 0.8688 - val_mean_absolute_error: 0.6150\n",
            "Epoch 3/20\n",
            "1095/1095 [==============================] - 5s 5ms/step - loss: 0.5899 - mean_absolute_error: 0.5182 - val_loss: 0.8660 - val_mean_absolute_error: 0.6057\n",
            "Epoch 4/20\n",
            "1095/1095 [==============================] - 5s 5ms/step - loss: 0.5762 - mean_absolute_error: 0.5117 - val_loss: 0.8602 - val_mean_absolute_error: 0.5965\n",
            "Epoch 5/20\n",
            "1095/1095 [==============================] - 5s 5ms/step - loss: 0.5667 - mean_absolute_error: 0.5071 - val_loss: 0.8537 - val_mean_absolute_error: 0.6033\n",
            "Epoch 6/20\n",
            "1095/1095 [==============================] - 5s 5ms/step - loss: 0.5598 - mean_absolute_error: 0.5042 - val_loss: 0.8617 - val_mean_absolute_error: 0.6058\n",
            "Epoch 7/20\n",
            "1095/1095 [==============================] - 5s 5ms/step - loss: 0.5540 - mean_absolute_error: 0.5015 - val_loss: 0.8674 - val_mean_absolute_error: 0.6091\n",
            "Epoch 8/20\n",
            "1095/1095 [==============================] - 5s 5ms/step - loss: 0.5490 - mean_absolute_error: 0.4993 - val_loss: 0.8786 - val_mean_absolute_error: 0.6212\n",
            "Epoch 9/20\n",
            "1095/1095 [==============================] - 5s 5ms/step - loss: 0.5445 - mean_absolute_error: 0.4973 - val_loss: 0.8859 - val_mean_absolute_error: 0.6138\n",
            "Epoch 10/20\n",
            "1095/1095 [==============================] - 5s 5ms/step - loss: 0.5400 - mean_absolute_error: 0.4952 - val_loss: 0.8863 - val_mean_absolute_error: 0.6162\n"
          ],
          "name": "stdout"
        }
      ]
    },
    {
      "cell_type": "code",
      "metadata": {
        "id": "1oU-ewPSFfus",
        "colab": {
          "base_uri": "https://localhost:8080/"
        },
        "outputId": "ac460ffb-b25f-4ad6-aa3b-ddf3ebe04277"
      },
      "source": [
        "predictions = dict()\n",
        "for i in range(92):\n",
        "  idx = 41591  + i*24\n",
        "  test_df = df.iloc[idx : idx+48]\n",
        "  \n",
        "  class WindowGenerator():\n",
        "    def __init__(self, input_width, label_width, shift,\n",
        "                  train_df=train_df, val_df=val_df, test_df=test_df,\n",
        "                  label_columns=None):\n",
        "        # Store the raw data.\n",
        "      self.train_df = train_df\n",
        "      self.val_df = val_df\n",
        "      self.test_df = test_df\n",
        "\n",
        "        # Work out the label column indices.\n",
        "      self.label_columns = label_columns\n",
        "      if label_columns is not None:\n",
        "        self.label_columns_indices = {name: i for i, name in\n",
        "                                        enumerate(label_columns)}\n",
        "      self.column_indices = {name: i for i, name in\n",
        "                              enumerate(train_df.columns)}\n",
        "\n",
        "        # Work out the window parameters.\n",
        "      self.input_width = input_width\n",
        "      self.label_width = label_width\n",
        "      self.shift = shift\n",
        "\n",
        "      self.total_window_size = input_width + shift\n",
        "\n",
        "      self.input_slice = slice(0, input_width)\n",
        "      self.input_indices = np.arange(self.total_window_size)[self.input_slice]\n",
        "\n",
        "      self.label_start = self.total_window_size - self.label_width\n",
        "      self.labels_slice = slice(self.label_start, None)\n",
        "      self.label_indices = np.arange(self.total_window_size)[self.labels_slice]\n",
        "\n",
        "    def __repr__(self):\n",
        "      return '\\n'.join([\n",
        "          f'Total window size: {self.total_window_size}',\n",
        "          f'Input indices: {self.input_indices}',\n",
        "          f'Label indices: {self.label_indices}',\n",
        "          f'Label column name(s): {self.label_columns}'])\n",
        "\n",
        "\n",
        "  WindowGenerator.split_window = split_window\n",
        "  # WindowGenerator.plot = plot\n",
        "  WindowGenerator.make_dataset = make_dataset\n",
        "\n",
        "  @property\n",
        "  def train(self):\n",
        "    return self.make_dataset(self.train_df)\n",
        "\n",
        "  @property\n",
        "  def val(self):\n",
        "    return self.make_dataset(self.val_df)\n",
        "\n",
        "  @property\n",
        "  def test(self):\n",
        "    return self.make_dataset(self.test_df)\n",
        "\n",
        "  @property\n",
        "  def example(self):\n",
        "    \"\"\"Get and cache an example batch of `inputs, labels` for plotting.\"\"\"\n",
        "    result = getattr(self, '_example', None)\n",
        "    if result is None:\n",
        "        # No example batch was found, so get one from the `.train` dataset\n",
        "      result = next(iter(self.train))\n",
        "        # And cache it for next time\n",
        "      self._example = result\n",
        "    return result\n",
        "\n",
        "  WindowGenerator.train = train\n",
        "  WindowGenerator.val = val\n",
        "  WindowGenerator.test = test\n",
        "  WindowGenerator.example = example\n",
        "\n",
        "\n",
        "  OUT_STEPS = 24\n",
        "  multi_window = WindowGenerator(input_width=24,\n",
        "                                label_width=OUT_STEPS,\n",
        "                                shift=OUT_STEPS,\n",
        "                                label_columns=['NO2 (183)',\t'NOX as NO2 (184)',\t'PM10 (182)',\t'PM2.5 (181)'])\n",
        "\n",
        "  # multi_window.plot()\n",
        "  # multi_window\n",
        "\n",
        "\n",
        "  pred = multi_dense_model.predict(multi_window.test)\n",
        "  pred = pred.reshape(24,4)\n",
        "  predictions[i] = pred\n",
        "idx"
      ],
      "execution_count": 57,
      "outputs": [
        {
          "output_type": "execute_result",
          "data": {
            "text/plain": [
              "43775"
            ]
          },
          "metadata": {
            "tags": []
          },
          "execution_count": 57
        }
      ]
    },
    {
      "cell_type": "code",
      "metadata": {
        "id": "eEJclJIugKml",
        "colab": {
          "base_uri": "https://localhost:8080/"
        },
        "outputId": "a1f2db32-4014-402c-9978-b79d3485d13c"
      },
      "source": [
        "len(predictions)"
      ],
      "execution_count": 58,
      "outputs": [
        {
          "output_type": "execute_result",
          "data": {
            "text/plain": [
              "92"
            ]
          },
          "metadata": {
            "tags": []
          },
          "execution_count": 58
        }
      ]
    },
    {
      "cell_type": "markdown",
      "metadata": {
        "id": "Vn7AGkswaLKz"
      },
      "source": [
        "## Denormalizing and calculating the smape values"
      ]
    },
    {
      "cell_type": "code",
      "metadata": {
        "id": "LngDnLCb3ujU"
      },
      "source": [
        "idx = 41616\n",
        "for days in range(92):\n",
        "  for hour in range(24):\n",
        "    for feat in range(4):\n",
        "      if feat == 0:\n",
        "        df['NO2 (183)'].iloc[idx] = predictions[days][hour][feat]\n",
        "      elif feat == 1:\n",
        "        df['NOX as NO2 (184)'].iloc[idx] = predictions[days][hour][feat]\n",
        "      elif feat == 2:\n",
        "        df['PM10 (182)'].iloc[idx] = predictions[days][hour][feat]\n",
        "      else:\n",
        "        df['PM2.5 (181)'].iloc[idx] = predictions[days][hour][feat]\n",
        "    idx = idx+1\n",
        "# label_columns=['NO2 (115)',\t'NOX as NO2 (114)',\t'PM10 (116)',\t'PM2.5 (111)']"
      ],
      "execution_count": 59,
      "outputs": []
    },
    {
      "cell_type": "code",
      "metadata": {
        "id": "6tJrHwYY36x0",
        "colab": {
          "base_uri": "https://localhost:8080/",
          "height": 360
        },
        "outputId": "e51ec871-148e-4d60-979d-6d88a77d3ff3"
      },
      "source": [
        "x = df.values\n",
        "x_scaled = sc.inverse_transform(x)\n",
        "df_norm = pd.DataFrame(x_scaled, columns=cols)\n",
        "df_norm.head()"
      ],
      "execution_count": 60,
      "outputs": [
        {
          "output_type": "execute_result",
          "data": {
            "text/html": [
              "<div>\n",
              "<style scoped>\n",
              "    .dataframe tbody tr th:only-of-type {\n",
              "        vertical-align: middle;\n",
              "    }\n",
              "\n",
              "    .dataframe tbody tr th {\n",
              "        vertical-align: top;\n",
              "    }\n",
              "\n",
              "    .dataframe thead th {\n",
              "        text-align: right;\n",
              "    }\n",
              "</style>\n",
              "<table border=\"1\" class=\"dataframe\">\n",
              "  <thead>\n",
              "    <tr style=\"text-align: right;\">\n",
              "      <th></th>\n",
              "      <th>NO2 (183)</th>\n",
              "      <th>NOX as NO2 (184)</th>\n",
              "      <th>PM10 (182)</th>\n",
              "      <th>PM2.5 (181)</th>\n",
              "      <th>Friday</th>\n",
              "      <th>Monday</th>\n",
              "      <th>Saturday</th>\n",
              "      <th>Sunday</th>\n",
              "      <th>Thursday</th>\n",
              "      <th>Tuesday</th>\n",
              "      <th>Wednesday</th>\n",
              "      <th>weekday</th>\n",
              "      <th>weekend</th>\n",
              "      <th>week</th>\n",
              "      <th>April</th>\n",
              "      <th>August</th>\n",
              "      <th>December</th>\n",
              "      <th>February</th>\n",
              "      <th>January</th>\n",
              "      <th>July</th>\n",
              "      <th>June</th>\n",
              "      <th>March</th>\n",
              "      <th>May</th>\n",
              "      <th>November</th>\n",
              "      <th>October</th>\n",
              "      <th>September</th>\n",
              "      <th>Day sin</th>\n",
              "      <th>Day cos</th>\n",
              "      <th>Year sin</th>\n",
              "      <th>Year cos</th>\n",
              "    </tr>\n",
              "  </thead>\n",
              "  <tbody>\n",
              "    <tr>\n",
              "      <th>0</th>\n",
              "      <td>33.3</td>\n",
              "      <td>69.5</td>\n",
              "      <td>101.2</td>\n",
              "      <td>51.9</td>\n",
              "      <td>0.0</td>\n",
              "      <td>0.0</td>\n",
              "      <td>0.0</td>\n",
              "      <td>0.0</td>\n",
              "      <td>1.0</td>\n",
              "      <td>0.0</td>\n",
              "      <td>0.0</td>\n",
              "      <td>1.0</td>\n",
              "      <td>0.0</td>\n",
              "      <td>1.0</td>\n",
              "      <td>0.0</td>\n",
              "      <td>0.0</td>\n",
              "      <td>0.0</td>\n",
              "      <td>0.0</td>\n",
              "      <td>1.0</td>\n",
              "      <td>0.0</td>\n",
              "      <td>0.0</td>\n",
              "      <td>0.0</td>\n",
              "      <td>0.0</td>\n",
              "      <td>0.0</td>\n",
              "      <td>0.0</td>\n",
              "      <td>0.0</td>\n",
              "      <td>1.232357e-12</td>\n",
              "      <td>1.000000</td>\n",
              "      <td>0.001505</td>\n",
              "      <td>0.999999</td>\n",
              "    </tr>\n",
              "    <tr>\n",
              "      <th>1</th>\n",
              "      <td>26.1</td>\n",
              "      <td>39.0</td>\n",
              "      <td>12.5</td>\n",
              "      <td>9.3</td>\n",
              "      <td>0.0</td>\n",
              "      <td>0.0</td>\n",
              "      <td>0.0</td>\n",
              "      <td>0.0</td>\n",
              "      <td>1.0</td>\n",
              "      <td>0.0</td>\n",
              "      <td>0.0</td>\n",
              "      <td>1.0</td>\n",
              "      <td>0.0</td>\n",
              "      <td>1.0</td>\n",
              "      <td>0.0</td>\n",
              "      <td>0.0</td>\n",
              "      <td>0.0</td>\n",
              "      <td>0.0</td>\n",
              "      <td>1.0</td>\n",
              "      <td>0.0</td>\n",
              "      <td>0.0</td>\n",
              "      <td>0.0</td>\n",
              "      <td>0.0</td>\n",
              "      <td>0.0</td>\n",
              "      <td>0.0</td>\n",
              "      <td>0.0</td>\n",
              "      <td>2.588190e-01</td>\n",
              "      <td>0.965926</td>\n",
              "      <td>0.002222</td>\n",
              "      <td>0.999998</td>\n",
              "    </tr>\n",
              "    <tr>\n",
              "      <th>2</th>\n",
              "      <td>18.4</td>\n",
              "      <td>25.7</td>\n",
              "      <td>12.2</td>\n",
              "      <td>9.2</td>\n",
              "      <td>0.0</td>\n",
              "      <td>0.0</td>\n",
              "      <td>0.0</td>\n",
              "      <td>0.0</td>\n",
              "      <td>1.0</td>\n",
              "      <td>0.0</td>\n",
              "      <td>0.0</td>\n",
              "      <td>1.0</td>\n",
              "      <td>0.0</td>\n",
              "      <td>1.0</td>\n",
              "      <td>0.0</td>\n",
              "      <td>0.0</td>\n",
              "      <td>0.0</td>\n",
              "      <td>0.0</td>\n",
              "      <td>1.0</td>\n",
              "      <td>0.0</td>\n",
              "      <td>0.0</td>\n",
              "      <td>0.0</td>\n",
              "      <td>0.0</td>\n",
              "      <td>0.0</td>\n",
              "      <td>0.0</td>\n",
              "      <td>0.0</td>\n",
              "      <td>5.000000e-01</td>\n",
              "      <td>0.866025</td>\n",
              "      <td>0.002939</td>\n",
              "      <td>0.999996</td>\n",
              "    </tr>\n",
              "    <tr>\n",
              "      <th>3</th>\n",
              "      <td>18.1</td>\n",
              "      <td>33.5</td>\n",
              "      <td>16.2</td>\n",
              "      <td>8.9</td>\n",
              "      <td>0.0</td>\n",
              "      <td>0.0</td>\n",
              "      <td>0.0</td>\n",
              "      <td>0.0</td>\n",
              "      <td>1.0</td>\n",
              "      <td>0.0</td>\n",
              "      <td>0.0</td>\n",
              "      <td>1.0</td>\n",
              "      <td>0.0</td>\n",
              "      <td>1.0</td>\n",
              "      <td>0.0</td>\n",
              "      <td>0.0</td>\n",
              "      <td>0.0</td>\n",
              "      <td>0.0</td>\n",
              "      <td>1.0</td>\n",
              "      <td>0.0</td>\n",
              "      <td>0.0</td>\n",
              "      <td>0.0</td>\n",
              "      <td>0.0</td>\n",
              "      <td>0.0</td>\n",
              "      <td>0.0</td>\n",
              "      <td>0.0</td>\n",
              "      <td>7.071068e-01</td>\n",
              "      <td>0.707107</td>\n",
              "      <td>0.003656</td>\n",
              "      <td>0.999993</td>\n",
              "    </tr>\n",
              "    <tr>\n",
              "      <th>4</th>\n",
              "      <td>11.0</td>\n",
              "      <td>22.1</td>\n",
              "      <td>14.5</td>\n",
              "      <td>5.9</td>\n",
              "      <td>0.0</td>\n",
              "      <td>0.0</td>\n",
              "      <td>0.0</td>\n",
              "      <td>0.0</td>\n",
              "      <td>1.0</td>\n",
              "      <td>0.0</td>\n",
              "      <td>0.0</td>\n",
              "      <td>1.0</td>\n",
              "      <td>0.0</td>\n",
              "      <td>1.0</td>\n",
              "      <td>0.0</td>\n",
              "      <td>0.0</td>\n",
              "      <td>0.0</td>\n",
              "      <td>0.0</td>\n",
              "      <td>1.0</td>\n",
              "      <td>0.0</td>\n",
              "      <td>0.0</td>\n",
              "      <td>0.0</td>\n",
              "      <td>0.0</td>\n",
              "      <td>0.0</td>\n",
              "      <td>0.0</td>\n",
              "      <td>0.0</td>\n",
              "      <td>8.660254e-01</td>\n",
              "      <td>0.500000</td>\n",
              "      <td>0.004372</td>\n",
              "      <td>0.999990</td>\n",
              "    </tr>\n",
              "  </tbody>\n",
              "</table>\n",
              "</div>"
            ],
            "text/plain": [
              "   NO2 (183)  NOX as NO2 (184)  PM10 (182)  ...   Day cos  Year sin  Year cos\n",
              "0       33.3              69.5       101.2  ...  1.000000  0.001505  0.999999\n",
              "1       26.1              39.0        12.5  ...  0.965926  0.002222  0.999998\n",
              "2       18.4              25.7        12.2  ...  0.866025  0.002939  0.999996\n",
              "3       18.1              33.5        16.2  ...  0.707107  0.003656  0.999993\n",
              "4       11.0              22.1        14.5  ...  0.500000  0.004372  0.999990\n",
              "\n",
              "[5 rows x 30 columns]"
            ]
          },
          "metadata": {
            "tags": []
          },
          "execution_count": 60
        }
      ]
    },
    {
      "cell_type": "code",
      "metadata": {
        "id": "0ufpwECf4jv-",
        "colab": {
          "base_uri": "https://localhost:8080/",
          "height": 360
        },
        "outputId": "124afaed-bbfb-400e-bef7-c36fb5f822ca"
      },
      "source": [
        "del df_copy['Slut']\n",
        "del df_copy['Start']\n",
        "df_copy.head()"
      ],
      "execution_count": 61,
      "outputs": [
        {
          "output_type": "execute_result",
          "data": {
            "text/html": [
              "<div>\n",
              "<style scoped>\n",
              "    .dataframe tbody tr th:only-of-type {\n",
              "        vertical-align: middle;\n",
              "    }\n",
              "\n",
              "    .dataframe tbody tr th {\n",
              "        vertical-align: top;\n",
              "    }\n",
              "\n",
              "    .dataframe thead th {\n",
              "        text-align: right;\n",
              "    }\n",
              "</style>\n",
              "<table border=\"1\" class=\"dataframe\">\n",
              "  <thead>\n",
              "    <tr style=\"text-align: right;\">\n",
              "      <th></th>\n",
              "      <th>NO2 (183)</th>\n",
              "      <th>NOX as NO2 (184)</th>\n",
              "      <th>PM10 (182)</th>\n",
              "      <th>PM2.5 (181)</th>\n",
              "      <th>Friday</th>\n",
              "      <th>Monday</th>\n",
              "      <th>Saturday</th>\n",
              "      <th>Sunday</th>\n",
              "      <th>Thursday</th>\n",
              "      <th>Tuesday</th>\n",
              "      <th>Wednesday</th>\n",
              "      <th>weekday</th>\n",
              "      <th>weekend</th>\n",
              "      <th>week</th>\n",
              "      <th>April</th>\n",
              "      <th>August</th>\n",
              "      <th>December</th>\n",
              "      <th>February</th>\n",
              "      <th>January</th>\n",
              "      <th>July</th>\n",
              "      <th>June</th>\n",
              "      <th>March</th>\n",
              "      <th>May</th>\n",
              "      <th>November</th>\n",
              "      <th>October</th>\n",
              "      <th>September</th>\n",
              "      <th>Day sin</th>\n",
              "      <th>Day cos</th>\n",
              "      <th>Year sin</th>\n",
              "      <th>Year cos</th>\n",
              "    </tr>\n",
              "  </thead>\n",
              "  <tbody>\n",
              "    <tr>\n",
              "      <th>0</th>\n",
              "      <td>33.3</td>\n",
              "      <td>69.5</td>\n",
              "      <td>101.2</td>\n",
              "      <td>51.9</td>\n",
              "      <td>0</td>\n",
              "      <td>0</td>\n",
              "      <td>0</td>\n",
              "      <td>0</td>\n",
              "      <td>1</td>\n",
              "      <td>0</td>\n",
              "      <td>0</td>\n",
              "      <td>1</td>\n",
              "      <td>0</td>\n",
              "      <td>1</td>\n",
              "      <td>0</td>\n",
              "      <td>0</td>\n",
              "      <td>0</td>\n",
              "      <td>0</td>\n",
              "      <td>1</td>\n",
              "      <td>0</td>\n",
              "      <td>0</td>\n",
              "      <td>0</td>\n",
              "      <td>0</td>\n",
              "      <td>0</td>\n",
              "      <td>0</td>\n",
              "      <td>0</td>\n",
              "      <td>1.232357e-12</td>\n",
              "      <td>1.000000</td>\n",
              "      <td>0.001505</td>\n",
              "      <td>0.999999</td>\n",
              "    </tr>\n",
              "    <tr>\n",
              "      <th>1</th>\n",
              "      <td>26.1</td>\n",
              "      <td>39.0</td>\n",
              "      <td>12.5</td>\n",
              "      <td>9.3</td>\n",
              "      <td>0</td>\n",
              "      <td>0</td>\n",
              "      <td>0</td>\n",
              "      <td>0</td>\n",
              "      <td>1</td>\n",
              "      <td>0</td>\n",
              "      <td>0</td>\n",
              "      <td>1</td>\n",
              "      <td>0</td>\n",
              "      <td>1</td>\n",
              "      <td>0</td>\n",
              "      <td>0</td>\n",
              "      <td>0</td>\n",
              "      <td>0</td>\n",
              "      <td>1</td>\n",
              "      <td>0</td>\n",
              "      <td>0</td>\n",
              "      <td>0</td>\n",
              "      <td>0</td>\n",
              "      <td>0</td>\n",
              "      <td>0</td>\n",
              "      <td>0</td>\n",
              "      <td>2.588190e-01</td>\n",
              "      <td>0.965926</td>\n",
              "      <td>0.002222</td>\n",
              "      <td>0.999998</td>\n",
              "    </tr>\n",
              "    <tr>\n",
              "      <th>2</th>\n",
              "      <td>18.4</td>\n",
              "      <td>25.7</td>\n",
              "      <td>12.2</td>\n",
              "      <td>9.2</td>\n",
              "      <td>0</td>\n",
              "      <td>0</td>\n",
              "      <td>0</td>\n",
              "      <td>0</td>\n",
              "      <td>1</td>\n",
              "      <td>0</td>\n",
              "      <td>0</td>\n",
              "      <td>1</td>\n",
              "      <td>0</td>\n",
              "      <td>1</td>\n",
              "      <td>0</td>\n",
              "      <td>0</td>\n",
              "      <td>0</td>\n",
              "      <td>0</td>\n",
              "      <td>1</td>\n",
              "      <td>0</td>\n",
              "      <td>0</td>\n",
              "      <td>0</td>\n",
              "      <td>0</td>\n",
              "      <td>0</td>\n",
              "      <td>0</td>\n",
              "      <td>0</td>\n",
              "      <td>5.000000e-01</td>\n",
              "      <td>0.866025</td>\n",
              "      <td>0.002939</td>\n",
              "      <td>0.999996</td>\n",
              "    </tr>\n",
              "    <tr>\n",
              "      <th>3</th>\n",
              "      <td>18.1</td>\n",
              "      <td>33.5</td>\n",
              "      <td>16.2</td>\n",
              "      <td>8.9</td>\n",
              "      <td>0</td>\n",
              "      <td>0</td>\n",
              "      <td>0</td>\n",
              "      <td>0</td>\n",
              "      <td>1</td>\n",
              "      <td>0</td>\n",
              "      <td>0</td>\n",
              "      <td>1</td>\n",
              "      <td>0</td>\n",
              "      <td>1</td>\n",
              "      <td>0</td>\n",
              "      <td>0</td>\n",
              "      <td>0</td>\n",
              "      <td>0</td>\n",
              "      <td>1</td>\n",
              "      <td>0</td>\n",
              "      <td>0</td>\n",
              "      <td>0</td>\n",
              "      <td>0</td>\n",
              "      <td>0</td>\n",
              "      <td>0</td>\n",
              "      <td>0</td>\n",
              "      <td>7.071068e-01</td>\n",
              "      <td>0.707107</td>\n",
              "      <td>0.003656</td>\n",
              "      <td>0.999993</td>\n",
              "    </tr>\n",
              "    <tr>\n",
              "      <th>4</th>\n",
              "      <td>11.0</td>\n",
              "      <td>22.1</td>\n",
              "      <td>14.5</td>\n",
              "      <td>5.9</td>\n",
              "      <td>0</td>\n",
              "      <td>0</td>\n",
              "      <td>0</td>\n",
              "      <td>0</td>\n",
              "      <td>1</td>\n",
              "      <td>0</td>\n",
              "      <td>0</td>\n",
              "      <td>1</td>\n",
              "      <td>0</td>\n",
              "      <td>1</td>\n",
              "      <td>0</td>\n",
              "      <td>0</td>\n",
              "      <td>0</td>\n",
              "      <td>0</td>\n",
              "      <td>1</td>\n",
              "      <td>0</td>\n",
              "      <td>0</td>\n",
              "      <td>0</td>\n",
              "      <td>0</td>\n",
              "      <td>0</td>\n",
              "      <td>0</td>\n",
              "      <td>0</td>\n",
              "      <td>8.660254e-01</td>\n",
              "      <td>0.500000</td>\n",
              "      <td>0.004372</td>\n",
              "      <td>0.999990</td>\n",
              "    </tr>\n",
              "  </tbody>\n",
              "</table>\n",
              "</div>"
            ],
            "text/plain": [
              "   NO2 (183)  NOX as NO2 (184)  PM10 (182)  ...   Day cos  Year sin  Year cos\n",
              "0       33.3              69.5       101.2  ...  1.000000  0.001505  0.999999\n",
              "1       26.1              39.0        12.5  ...  0.965926  0.002222  0.999998\n",
              "2       18.4              25.7        12.2  ...  0.866025  0.002939  0.999996\n",
              "3       18.1              33.5        16.2  ...  0.707107  0.003656  0.999993\n",
              "4       11.0              22.1        14.5  ...  0.500000  0.004372  0.999990\n",
              "\n",
              "[5 rows x 30 columns]"
            ]
          },
          "metadata": {
            "tags": []
          },
          "execution_count": 61
        }
      ]
    },
    {
      "cell_type": "code",
      "metadata": {
        "id": "8texBSXMXejJ"
      },
      "source": [
        "y_test = df_copy[41616:]\n",
        "y_pred = df_norm[41616:]"
      ],
      "execution_count": 62,
      "outputs": []
    },
    {
      "cell_type": "code",
      "metadata": {
        "id": "dElqYoxXYKzl",
        "colab": {
          "base_uri": "https://localhost:8080/",
          "height": 360
        },
        "outputId": "b7a56248-1dc2-4114-b4df-918259a65de1"
      },
      "source": [
        "y_test.head()"
      ],
      "execution_count": 65,
      "outputs": [
        {
          "output_type": "execute_result",
          "data": {
            "text/html": [
              "<div>\n",
              "<style scoped>\n",
              "    .dataframe tbody tr th:only-of-type {\n",
              "        vertical-align: middle;\n",
              "    }\n",
              "\n",
              "    .dataframe tbody tr th {\n",
              "        vertical-align: top;\n",
              "    }\n",
              "\n",
              "    .dataframe thead th {\n",
              "        text-align: right;\n",
              "    }\n",
              "</style>\n",
              "<table border=\"1\" class=\"dataframe\">\n",
              "  <thead>\n",
              "    <tr style=\"text-align: right;\">\n",
              "      <th></th>\n",
              "      <th>NO2 (183)</th>\n",
              "      <th>NOX as NO2 (184)</th>\n",
              "      <th>PM10 (182)</th>\n",
              "      <th>PM2.5 (181)</th>\n",
              "      <th>Friday</th>\n",
              "      <th>Monday</th>\n",
              "      <th>Saturday</th>\n",
              "      <th>Sunday</th>\n",
              "      <th>Thursday</th>\n",
              "      <th>Tuesday</th>\n",
              "      <th>Wednesday</th>\n",
              "      <th>weekday</th>\n",
              "      <th>weekend</th>\n",
              "      <th>week</th>\n",
              "      <th>April</th>\n",
              "      <th>August</th>\n",
              "      <th>December</th>\n",
              "      <th>February</th>\n",
              "      <th>January</th>\n",
              "      <th>July</th>\n",
              "      <th>June</th>\n",
              "      <th>March</th>\n",
              "      <th>May</th>\n",
              "      <th>November</th>\n",
              "      <th>October</th>\n",
              "      <th>September</th>\n",
              "      <th>Day sin</th>\n",
              "      <th>Day cos</th>\n",
              "      <th>Year sin</th>\n",
              "      <th>Year cos</th>\n",
              "    </tr>\n",
              "  </thead>\n",
              "  <tbody>\n",
              "    <tr>\n",
              "      <th>41616</th>\n",
              "      <td>8.1</td>\n",
              "      <td>13.8</td>\n",
              "      <td>0.9</td>\n",
              "      <td>0.0</td>\n",
              "      <td>0</td>\n",
              "      <td>0</td>\n",
              "      <td>0</td>\n",
              "      <td>0</td>\n",
              "      <td>0</td>\n",
              "      <td>1</td>\n",
              "      <td>0</td>\n",
              "      <td>1</td>\n",
              "      <td>0</td>\n",
              "      <td>40</td>\n",
              "      <td>0</td>\n",
              "      <td>0</td>\n",
              "      <td>0</td>\n",
              "      <td>0</td>\n",
              "      <td>0</td>\n",
              "      <td>0</td>\n",
              "      <td>0</td>\n",
              "      <td>0</td>\n",
              "      <td>0</td>\n",
              "      <td>0</td>\n",
              "      <td>1</td>\n",
              "      <td>0</td>\n",
              "      <td>-1.023418e-11</td>\n",
              "      <td>1.000000</td>\n",
              "      <td>-0.999902</td>\n",
              "      <td>-0.014009</td>\n",
              "    </tr>\n",
              "    <tr>\n",
              "      <th>41617</th>\n",
              "      <td>7.4</td>\n",
              "      <td>12.6</td>\n",
              "      <td>2.6</td>\n",
              "      <td>0.7</td>\n",
              "      <td>0</td>\n",
              "      <td>0</td>\n",
              "      <td>0</td>\n",
              "      <td>0</td>\n",
              "      <td>0</td>\n",
              "      <td>1</td>\n",
              "      <td>0</td>\n",
              "      <td>1</td>\n",
              "      <td>0</td>\n",
              "      <td>40</td>\n",
              "      <td>0</td>\n",
              "      <td>0</td>\n",
              "      <td>0</td>\n",
              "      <td>0</td>\n",
              "      <td>0</td>\n",
              "      <td>0</td>\n",
              "      <td>0</td>\n",
              "      <td>0</td>\n",
              "      <td>0</td>\n",
              "      <td>0</td>\n",
              "      <td>1</td>\n",
              "      <td>0</td>\n",
              "      <td>2.588190e-01</td>\n",
              "      <td>0.965926</td>\n",
              "      <td>-0.999912</td>\n",
              "      <td>-0.013292</td>\n",
              "    </tr>\n",
              "    <tr>\n",
              "      <th>41618</th>\n",
              "      <td>8.7</td>\n",
              "      <td>14.7</td>\n",
              "      <td>1.5</td>\n",
              "      <td>0.0</td>\n",
              "      <td>0</td>\n",
              "      <td>0</td>\n",
              "      <td>0</td>\n",
              "      <td>0</td>\n",
              "      <td>0</td>\n",
              "      <td>1</td>\n",
              "      <td>0</td>\n",
              "      <td>1</td>\n",
              "      <td>0</td>\n",
              "      <td>40</td>\n",
              "      <td>0</td>\n",
              "      <td>0</td>\n",
              "      <td>0</td>\n",
              "      <td>0</td>\n",
              "      <td>0</td>\n",
              "      <td>0</td>\n",
              "      <td>0</td>\n",
              "      <td>0</td>\n",
              "      <td>0</td>\n",
              "      <td>0</td>\n",
              "      <td>1</td>\n",
              "      <td>0</td>\n",
              "      <td>5.000000e-01</td>\n",
              "      <td>0.866025</td>\n",
              "      <td>-0.999921</td>\n",
              "      <td>-0.012576</td>\n",
              "    </tr>\n",
              "    <tr>\n",
              "      <th>41619</th>\n",
              "      <td>7.9</td>\n",
              "      <td>15.0</td>\n",
              "      <td>2.3</td>\n",
              "      <td>0.0</td>\n",
              "      <td>0</td>\n",
              "      <td>0</td>\n",
              "      <td>0</td>\n",
              "      <td>0</td>\n",
              "      <td>0</td>\n",
              "      <td>1</td>\n",
              "      <td>0</td>\n",
              "      <td>1</td>\n",
              "      <td>0</td>\n",
              "      <td>40</td>\n",
              "      <td>0</td>\n",
              "      <td>0</td>\n",
              "      <td>0</td>\n",
              "      <td>0</td>\n",
              "      <td>0</td>\n",
              "      <td>0</td>\n",
              "      <td>0</td>\n",
              "      <td>0</td>\n",
              "      <td>0</td>\n",
              "      <td>0</td>\n",
              "      <td>1</td>\n",
              "      <td>0</td>\n",
              "      <td>7.071068e-01</td>\n",
              "      <td>0.707107</td>\n",
              "      <td>-0.999930</td>\n",
              "      <td>-0.011859</td>\n",
              "    </tr>\n",
              "    <tr>\n",
              "      <th>41620</th>\n",
              "      <td>5.5</td>\n",
              "      <td>14.4</td>\n",
              "      <td>1.2</td>\n",
              "      <td>0.0</td>\n",
              "      <td>0</td>\n",
              "      <td>0</td>\n",
              "      <td>0</td>\n",
              "      <td>0</td>\n",
              "      <td>0</td>\n",
              "      <td>1</td>\n",
              "      <td>0</td>\n",
              "      <td>1</td>\n",
              "      <td>0</td>\n",
              "      <td>40</td>\n",
              "      <td>0</td>\n",
              "      <td>0</td>\n",
              "      <td>0</td>\n",
              "      <td>0</td>\n",
              "      <td>0</td>\n",
              "      <td>0</td>\n",
              "      <td>0</td>\n",
              "      <td>0</td>\n",
              "      <td>0</td>\n",
              "      <td>0</td>\n",
              "      <td>1</td>\n",
              "      <td>0</td>\n",
              "      <td>8.660254e-01</td>\n",
              "      <td>0.500000</td>\n",
              "      <td>-0.999938</td>\n",
              "      <td>-0.011142</td>\n",
              "    </tr>\n",
              "  </tbody>\n",
              "</table>\n",
              "</div>"
            ],
            "text/plain": [
              "       NO2 (183)  NOX as NO2 (184)  PM10 (182)  ...   Day cos  Year sin  Year cos\n",
              "41616        8.1              13.8         0.9  ...  1.000000 -0.999902 -0.014009\n",
              "41617        7.4              12.6         2.6  ...  0.965926 -0.999912 -0.013292\n",
              "41618        8.7              14.7         1.5  ...  0.866025 -0.999921 -0.012576\n",
              "41619        7.9              15.0         2.3  ...  0.707107 -0.999930 -0.011859\n",
              "41620        5.5              14.4         1.2  ...  0.500000 -0.999938 -0.011142\n",
              "\n",
              "[5 rows x 30 columns]"
            ]
          },
          "metadata": {
            "tags": []
          },
          "execution_count": 65
        }
      ]
    },
    {
      "cell_type": "code",
      "metadata": {
        "id": "s63rPkFOYNz2",
        "colab": {
          "base_uri": "https://localhost:8080/",
          "height": 343
        },
        "outputId": "edfba2c2-7ad1-43b1-c35d-cd39bcb6142b"
      },
      "source": [
        "y_pred.head()"
      ],
      "execution_count": 66,
      "outputs": [
        {
          "output_type": "execute_result",
          "data": {
            "text/html": [
              "<div>\n",
              "<style scoped>\n",
              "    .dataframe tbody tr th:only-of-type {\n",
              "        vertical-align: middle;\n",
              "    }\n",
              "\n",
              "    .dataframe tbody tr th {\n",
              "        vertical-align: top;\n",
              "    }\n",
              "\n",
              "    .dataframe thead th {\n",
              "        text-align: right;\n",
              "    }\n",
              "</style>\n",
              "<table border=\"1\" class=\"dataframe\">\n",
              "  <thead>\n",
              "    <tr style=\"text-align: right;\">\n",
              "      <th></th>\n",
              "      <th>NO2 (183)</th>\n",
              "      <th>NOX as NO2 (184)</th>\n",
              "      <th>PM10 (182)</th>\n",
              "      <th>PM2.5 (181)</th>\n",
              "      <th>Friday</th>\n",
              "      <th>Monday</th>\n",
              "      <th>Saturday</th>\n",
              "      <th>Sunday</th>\n",
              "      <th>Thursday</th>\n",
              "      <th>Tuesday</th>\n",
              "      <th>Wednesday</th>\n",
              "      <th>weekday</th>\n",
              "      <th>weekend</th>\n",
              "      <th>week</th>\n",
              "      <th>April</th>\n",
              "      <th>August</th>\n",
              "      <th>December</th>\n",
              "      <th>February</th>\n",
              "      <th>January</th>\n",
              "      <th>July</th>\n",
              "      <th>June</th>\n",
              "      <th>March</th>\n",
              "      <th>May</th>\n",
              "      <th>November</th>\n",
              "      <th>October</th>\n",
              "      <th>September</th>\n",
              "      <th>Day sin</th>\n",
              "      <th>Day cos</th>\n",
              "      <th>Year sin</th>\n",
              "      <th>Year cos</th>\n",
              "    </tr>\n",
              "  </thead>\n",
              "  <tbody>\n",
              "    <tr>\n",
              "      <th>41616</th>\n",
              "      <td>9.565182</td>\n",
              "      <td>22.012958</td>\n",
              "      <td>2.949195</td>\n",
              "      <td>0.179437</td>\n",
              "      <td>0.0</td>\n",
              "      <td>0.0</td>\n",
              "      <td>0.0</td>\n",
              "      <td>0.0</td>\n",
              "      <td>0.0</td>\n",
              "      <td>1.0</td>\n",
              "      <td>0.0</td>\n",
              "      <td>1.0</td>\n",
              "      <td>0.0</td>\n",
              "      <td>40.0</td>\n",
              "      <td>0.0</td>\n",
              "      <td>0.0</td>\n",
              "      <td>0.0</td>\n",
              "      <td>0.0</td>\n",
              "      <td>0.0</td>\n",
              "      <td>0.0</td>\n",
              "      <td>0.0</td>\n",
              "      <td>0.0</td>\n",
              "      <td>0.0</td>\n",
              "      <td>0.0</td>\n",
              "      <td>1.0</td>\n",
              "      <td>0.0</td>\n",
              "      <td>-1.023418e-11</td>\n",
              "      <td>1.000000</td>\n",
              "      <td>-0.999902</td>\n",
              "      <td>-0.014009</td>\n",
              "    </tr>\n",
              "    <tr>\n",
              "      <th>41617</th>\n",
              "      <td>6.401556</td>\n",
              "      <td>15.304794</td>\n",
              "      <td>1.929859</td>\n",
              "      <td>0.762254</td>\n",
              "      <td>0.0</td>\n",
              "      <td>0.0</td>\n",
              "      <td>0.0</td>\n",
              "      <td>0.0</td>\n",
              "      <td>0.0</td>\n",
              "      <td>1.0</td>\n",
              "      <td>0.0</td>\n",
              "      <td>1.0</td>\n",
              "      <td>0.0</td>\n",
              "      <td>40.0</td>\n",
              "      <td>0.0</td>\n",
              "      <td>0.0</td>\n",
              "      <td>0.0</td>\n",
              "      <td>0.0</td>\n",
              "      <td>0.0</td>\n",
              "      <td>0.0</td>\n",
              "      <td>0.0</td>\n",
              "      <td>0.0</td>\n",
              "      <td>0.0</td>\n",
              "      <td>0.0</td>\n",
              "      <td>1.0</td>\n",
              "      <td>0.0</td>\n",
              "      <td>2.588190e-01</td>\n",
              "      <td>0.965926</td>\n",
              "      <td>-0.999912</td>\n",
              "      <td>-0.013292</td>\n",
              "    </tr>\n",
              "    <tr>\n",
              "      <th>41618</th>\n",
              "      <td>4.940440</td>\n",
              "      <td>4.320073</td>\n",
              "      <td>1.808226</td>\n",
              "      <td>1.053698</td>\n",
              "      <td>0.0</td>\n",
              "      <td>0.0</td>\n",
              "      <td>0.0</td>\n",
              "      <td>0.0</td>\n",
              "      <td>0.0</td>\n",
              "      <td>1.0</td>\n",
              "      <td>0.0</td>\n",
              "      <td>1.0</td>\n",
              "      <td>0.0</td>\n",
              "      <td>40.0</td>\n",
              "      <td>0.0</td>\n",
              "      <td>0.0</td>\n",
              "      <td>0.0</td>\n",
              "      <td>0.0</td>\n",
              "      <td>0.0</td>\n",
              "      <td>0.0</td>\n",
              "      <td>0.0</td>\n",
              "      <td>0.0</td>\n",
              "      <td>0.0</td>\n",
              "      <td>0.0</td>\n",
              "      <td>1.0</td>\n",
              "      <td>0.0</td>\n",
              "      <td>5.000000e-01</td>\n",
              "      <td>0.866025</td>\n",
              "      <td>-0.999921</td>\n",
              "      <td>-0.012576</td>\n",
              "    </tr>\n",
              "    <tr>\n",
              "      <th>41619</th>\n",
              "      <td>3.220639</td>\n",
              "      <td>2.769098</td>\n",
              "      <td>-0.478331</td>\n",
              "      <td>0.916951</td>\n",
              "      <td>0.0</td>\n",
              "      <td>0.0</td>\n",
              "      <td>0.0</td>\n",
              "      <td>0.0</td>\n",
              "      <td>0.0</td>\n",
              "      <td>1.0</td>\n",
              "      <td>0.0</td>\n",
              "      <td>1.0</td>\n",
              "      <td>0.0</td>\n",
              "      <td>40.0</td>\n",
              "      <td>0.0</td>\n",
              "      <td>0.0</td>\n",
              "      <td>0.0</td>\n",
              "      <td>0.0</td>\n",
              "      <td>0.0</td>\n",
              "      <td>0.0</td>\n",
              "      <td>0.0</td>\n",
              "      <td>0.0</td>\n",
              "      <td>0.0</td>\n",
              "      <td>0.0</td>\n",
              "      <td>1.0</td>\n",
              "      <td>0.0</td>\n",
              "      <td>7.071068e-01</td>\n",
              "      <td>0.707107</td>\n",
              "      <td>-0.999930</td>\n",
              "      <td>-0.011859</td>\n",
              "    </tr>\n",
              "    <tr>\n",
              "      <th>41620</th>\n",
              "      <td>0.088982</td>\n",
              "      <td>-5.294693</td>\n",
              "      <td>-0.778785</td>\n",
              "      <td>1.372186</td>\n",
              "      <td>0.0</td>\n",
              "      <td>0.0</td>\n",
              "      <td>0.0</td>\n",
              "      <td>0.0</td>\n",
              "      <td>0.0</td>\n",
              "      <td>1.0</td>\n",
              "      <td>0.0</td>\n",
              "      <td>1.0</td>\n",
              "      <td>0.0</td>\n",
              "      <td>40.0</td>\n",
              "      <td>0.0</td>\n",
              "      <td>0.0</td>\n",
              "      <td>0.0</td>\n",
              "      <td>0.0</td>\n",
              "      <td>0.0</td>\n",
              "      <td>0.0</td>\n",
              "      <td>0.0</td>\n",
              "      <td>0.0</td>\n",
              "      <td>0.0</td>\n",
              "      <td>0.0</td>\n",
              "      <td>1.0</td>\n",
              "      <td>0.0</td>\n",
              "      <td>8.660254e-01</td>\n",
              "      <td>0.500000</td>\n",
              "      <td>-0.999938</td>\n",
              "      <td>-0.011142</td>\n",
              "    </tr>\n",
              "  </tbody>\n",
              "</table>\n",
              "</div>"
            ],
            "text/plain": [
              "       NO2 (183)  NOX as NO2 (184)  PM10 (182)  ...   Day cos  Year sin  Year cos\n",
              "41616   9.565182         22.012958    2.949195  ...  1.000000 -0.999902 -0.014009\n",
              "41617   6.401556         15.304794    1.929859  ...  0.965926 -0.999912 -0.013292\n",
              "41618   4.940440          4.320073    1.808226  ...  0.866025 -0.999921 -0.012576\n",
              "41619   3.220639          2.769098   -0.478331  ...  0.707107 -0.999930 -0.011859\n",
              "41620   0.088982         -5.294693   -0.778785  ...  0.500000 -0.999938 -0.011142\n",
              "\n",
              "[5 rows x 30 columns]"
            ]
          },
          "metadata": {
            "tags": []
          },
          "execution_count": 66
        }
      ]
    },
    {
      "cell_type": "code",
      "metadata": {
        "id": "A34zSiZjfvnm"
      },
      "source": [
        "col = 'NOX as NO2 (184)'"
      ],
      "execution_count": 85,
      "outputs": []
    },
    {
      "cell_type": "code",
      "metadata": {
        "colab": {
          "base_uri": "https://localhost:8080/"
        },
        "id": "i9gt_-u5eddK",
        "outputId": "0d6edc6b-1d8f-478e-a9ae-4b75a90a3ef1"
      },
      "source": [
        "negative_index = []\n",
        "for idx,val in enumerate(y_pred[col]):\n",
        "  if val < 0:\n",
        "    negative_index.append(idx)\n",
        "\n",
        "print(len(negative_index))"
      ],
      "execution_count": 86,
      "outputs": [
        {
          "output_type": "stream",
          "text": [
            "79\n"
          ],
          "name": "stdout"
        }
      ]
    },
    {
      "cell_type": "code",
      "metadata": {
        "colab": {
          "base_uri": "https://localhost:8080/"
        },
        "id": "NC-p2rl-fsb3",
        "outputId": "4b870327-43b3-46f2-d373-25edf95dd52b"
      },
      "source": [
        "y_pred[col] = y_pred[col].apply(lambda x: abs(x*0) if x<0 else x)\n",
        "\n",
        "negative_index = []\n",
        "for idx,val in enumerate(y_pred[col]):\n",
        "  if val < 0:\n",
        "    negative_index.append(idx)\n",
        "\n",
        "print(len(negative_index))"
      ],
      "execution_count": 87,
      "outputs": [
        {
          "output_type": "stream",
          "text": [
            "0\n"
          ],
          "name": "stdout"
        },
        {
          "output_type": "stream",
          "text": [
            "/usr/local/lib/python3.6/dist-packages/ipykernel_launcher.py:1: SettingWithCopyWarning: \n",
            "A value is trying to be set on a copy of a slice from a DataFrame.\n",
            "Try using .loc[row_indexer,col_indexer] = value instead\n",
            "\n",
            "See the caveats in the documentation: https://pandas.pydata.org/pandas-docs/stable/user_guide/indexing.html#returning-a-view-versus-a-copy\n",
            "  \"\"\"Entry point for launching an IPython kernel.\n"
          ],
          "name": "stderr"
        }
      ]
    },
    {
      "cell_type": "code",
      "metadata": {
        "id": "jeOGtAcVYtS8"
      },
      "source": [
        "def smape(y_true, y_pred):\n",
        "  return tf.reduce_mean(2 * tf.abs(y_true - y_pred)\n",
        "                          / (tf.abs(y_pred) + tf.abs(y_true)) , axis=-1)\n"
      ],
      "execution_count": 88,
      "outputs": []
    },
    {
      "cell_type": "code",
      "metadata": {
        "id": "NAj0FixvYwfu",
        "colab": {
          "base_uri": "https://localhost:8080/"
        },
        "outputId": "0c524255-b3b2-4e34-a67d-04bec8872889"
      },
      "source": [
        "smape(y_test['NO2 (183)'],y_pred['NO2 (183)'])"
      ],
      "execution_count": 89,
      "outputs": [
        {
          "output_type": "execute_result",
          "data": {
            "text/plain": [
              "<tf.Tensor: shape=(), dtype=float64, numpy=0.51868599561753>"
            ]
          },
          "metadata": {
            "tags": []
          },
          "execution_count": 89
        }
      ]
    },
    {
      "cell_type": "code",
      "metadata": {
        "id": "gPxEPD32Y9JB",
        "colab": {
          "base_uri": "https://localhost:8080/"
        },
        "outputId": "08279f1a-33c7-4813-cccf-6ebdc06a2065"
      },
      "source": [
        "smape(y_test['NOX as NO2 (184)'],y_pred['NOX as NO2 (184)'])"
      ],
      "execution_count": 90,
      "outputs": [
        {
          "output_type": "execute_result",
          "data": {
            "text/plain": [
              "<tf.Tensor: shape=(), dtype=float64, numpy=0.7180070422380903>"
            ]
          },
          "metadata": {
            "tags": []
          },
          "execution_count": 90
        }
      ]
    },
    {
      "cell_type": "code",
      "metadata": {
        "id": "9eEq5VhfZMbf",
        "colab": {
          "base_uri": "https://localhost:8080/"
        },
        "outputId": "da42afa4-d36a-4520-b027-f1abaa6da003"
      },
      "source": [
        "smape(y_test['PM10 (182)'],y_pred['PM10 (182)'])"
      ],
      "execution_count": 70,
      "outputs": [
        {
          "output_type": "execute_result",
          "data": {
            "text/plain": [
              "<tf.Tensor: shape=(), dtype=float64, numpy=0.49148945626608126>"
            ]
          },
          "metadata": {
            "tags": []
          },
          "execution_count": 70
        }
      ]
    },
    {
      "cell_type": "code",
      "metadata": {
        "id": "oRZZxS4iZXlz",
        "colab": {
          "base_uri": "https://localhost:8080/"
        },
        "outputId": "6d307485-eabf-487c-e3ad-25b8deb59d95"
      },
      "source": [
        "smape(y_test['PM2.5 (181)'],y_pred['PM2.5 (181)'])"
      ],
      "execution_count": 71,
      "outputs": [
        {
          "output_type": "execute_result",
          "data": {
            "text/plain": [
              "<tf.Tensor: shape=(), dtype=float64, numpy=0.5692471260605517>"
            ]
          },
          "metadata": {
            "tags": []
          },
          "execution_count": 71
        }
      ]
    },
    {
      "cell_type": "code",
      "metadata": {
        "id": "OExyNqEiZdex",
        "colab": {
          "base_uri": "https://localhost:8080/"
        },
        "outputId": "9efded6e-0cf6-4494-9b8e-ad3e7d954e85"
      },
      "source": [
        "(0.48324000238497156 + 0.6622102969509207 + 0.4914233785283172 + 0.565974910449472)/4"
      ],
      "execution_count": 666,
      "outputs": [
        {
          "output_type": "execute_result",
          "data": {
            "text/plain": [
              "0.5507121470784204"
            ]
          },
          "metadata": {
            "tags": []
          },
          "execution_count": 666
        }
      ]
    },
    {
      "cell_type": "code",
      "metadata": {
        "id": "nTvM2pNtZqyJ"
      },
      "source": [
        "# y_pred.to_csv(\"test_values_8779.csv\")"
      ],
      "execution_count": 667,
      "outputs": []
    },
    {
      "cell_type": "code",
      "metadata": {
        "id": "yD6Uu1oIbRzi",
        "colab": {
          "base_uri": "https://localhost:8080/"
        },
        "outputId": "8290b79b-332a-41d8-eaf9-cb72cb19c512"
      },
      "source": [
        "len(y_pred)"
      ],
      "execution_count": 664,
      "outputs": [
        {
          "output_type": "execute_result",
          "data": {
            "text/plain": [
              "2208"
            ]
          },
          "metadata": {
            "tags": []
          },
          "execution_count": 664
        }
      ]
    },
    {
      "cell_type": "code",
      "metadata": {
        "id": "-sbAGX8Dp2hQ",
        "colab": {
          "base_uri": "https://localhost:8080/",
          "height": 343
        },
        "outputId": "9345fb77-b0ac-496c-be4f-f94f56fe6cc4"
      },
      "source": [
        "y_pred.head()"
      ],
      "execution_count": 665,
      "outputs": [
        {
          "output_type": "execute_result",
          "data": {
            "text/html": [
              "<div>\n",
              "<style scoped>\n",
              "    .dataframe tbody tr th:only-of-type {\n",
              "        vertical-align: middle;\n",
              "    }\n",
              "\n",
              "    .dataframe tbody tr th {\n",
              "        vertical-align: top;\n",
              "    }\n",
              "\n",
              "    .dataframe thead th {\n",
              "        text-align: right;\n",
              "    }\n",
              "</style>\n",
              "<table border=\"1\" class=\"dataframe\">\n",
              "  <thead>\n",
              "    <tr style=\"text-align: right;\">\n",
              "      <th></th>\n",
              "      <th>NO2 (183)</th>\n",
              "      <th>NOX as NO2 (184)</th>\n",
              "      <th>PM10 (182)</th>\n",
              "      <th>PM2.5 (181)</th>\n",
              "      <th>Friday</th>\n",
              "      <th>Monday</th>\n",
              "      <th>Saturday</th>\n",
              "      <th>Sunday</th>\n",
              "      <th>Thursday</th>\n",
              "      <th>Tuesday</th>\n",
              "      <th>Wednesday</th>\n",
              "      <th>weekday</th>\n",
              "      <th>weekend</th>\n",
              "      <th>week</th>\n",
              "      <th>April</th>\n",
              "      <th>August</th>\n",
              "      <th>December</th>\n",
              "      <th>February</th>\n",
              "      <th>January</th>\n",
              "      <th>July</th>\n",
              "      <th>June</th>\n",
              "      <th>March</th>\n",
              "      <th>May</th>\n",
              "      <th>November</th>\n",
              "      <th>October</th>\n",
              "      <th>September</th>\n",
              "      <th>Day sin</th>\n",
              "      <th>Day cos</th>\n",
              "      <th>Year sin</th>\n",
              "      <th>Year cos</th>\n",
              "    </tr>\n",
              "  </thead>\n",
              "  <tbody>\n",
              "    <tr>\n",
              "      <th>41616</th>\n",
              "      <td>11.094571</td>\n",
              "      <td>15.664850</td>\n",
              "      <td>4.798539</td>\n",
              "      <td>0.125053</td>\n",
              "      <td>0.0</td>\n",
              "      <td>0.0</td>\n",
              "      <td>0.0</td>\n",
              "      <td>0.0</td>\n",
              "      <td>0.0</td>\n",
              "      <td>1.0</td>\n",
              "      <td>0.0</td>\n",
              "      <td>1.0</td>\n",
              "      <td>0.0</td>\n",
              "      <td>40.0</td>\n",
              "      <td>0.0</td>\n",
              "      <td>0.0</td>\n",
              "      <td>0.0</td>\n",
              "      <td>0.0</td>\n",
              "      <td>0.0</td>\n",
              "      <td>0.0</td>\n",
              "      <td>0.0</td>\n",
              "      <td>0.0</td>\n",
              "      <td>0.0</td>\n",
              "      <td>0.0</td>\n",
              "      <td>1.0</td>\n",
              "      <td>0.0</td>\n",
              "      <td>-1.023418e-11</td>\n",
              "      <td>1.000000</td>\n",
              "      <td>-0.999902</td>\n",
              "      <td>-0.014009</td>\n",
              "    </tr>\n",
              "    <tr>\n",
              "      <th>41617</th>\n",
              "      <td>9.478485</td>\n",
              "      <td>15.904051</td>\n",
              "      <td>6.392095</td>\n",
              "      <td>0.363726</td>\n",
              "      <td>0.0</td>\n",
              "      <td>0.0</td>\n",
              "      <td>0.0</td>\n",
              "      <td>0.0</td>\n",
              "      <td>0.0</td>\n",
              "      <td>1.0</td>\n",
              "      <td>0.0</td>\n",
              "      <td>1.0</td>\n",
              "      <td>0.0</td>\n",
              "      <td>40.0</td>\n",
              "      <td>0.0</td>\n",
              "      <td>0.0</td>\n",
              "      <td>0.0</td>\n",
              "      <td>0.0</td>\n",
              "      <td>0.0</td>\n",
              "      <td>0.0</td>\n",
              "      <td>0.0</td>\n",
              "      <td>0.0</td>\n",
              "      <td>0.0</td>\n",
              "      <td>0.0</td>\n",
              "      <td>1.0</td>\n",
              "      <td>0.0</td>\n",
              "      <td>2.588190e-01</td>\n",
              "      <td>0.965926</td>\n",
              "      <td>-0.999912</td>\n",
              "      <td>-0.013292</td>\n",
              "    </tr>\n",
              "    <tr>\n",
              "      <th>41618</th>\n",
              "      <td>8.585893</td>\n",
              "      <td>10.276290</td>\n",
              "      <td>7.858934</td>\n",
              "      <td>1.088547</td>\n",
              "      <td>0.0</td>\n",
              "      <td>0.0</td>\n",
              "      <td>0.0</td>\n",
              "      <td>0.0</td>\n",
              "      <td>0.0</td>\n",
              "      <td>1.0</td>\n",
              "      <td>0.0</td>\n",
              "      <td>1.0</td>\n",
              "      <td>0.0</td>\n",
              "      <td>40.0</td>\n",
              "      <td>0.0</td>\n",
              "      <td>0.0</td>\n",
              "      <td>0.0</td>\n",
              "      <td>0.0</td>\n",
              "      <td>0.0</td>\n",
              "      <td>0.0</td>\n",
              "      <td>0.0</td>\n",
              "      <td>0.0</td>\n",
              "      <td>0.0</td>\n",
              "      <td>0.0</td>\n",
              "      <td>1.0</td>\n",
              "      <td>0.0</td>\n",
              "      <td>5.000000e-01</td>\n",
              "      <td>0.866025</td>\n",
              "      <td>-0.999921</td>\n",
              "      <td>-0.012576</td>\n",
              "    </tr>\n",
              "    <tr>\n",
              "      <th>41619</th>\n",
              "      <td>7.697448</td>\n",
              "      <td>7.251410</td>\n",
              "      <td>4.388444</td>\n",
              "      <td>1.322334</td>\n",
              "      <td>0.0</td>\n",
              "      <td>0.0</td>\n",
              "      <td>0.0</td>\n",
              "      <td>0.0</td>\n",
              "      <td>0.0</td>\n",
              "      <td>1.0</td>\n",
              "      <td>0.0</td>\n",
              "      <td>1.0</td>\n",
              "      <td>0.0</td>\n",
              "      <td>40.0</td>\n",
              "      <td>0.0</td>\n",
              "      <td>0.0</td>\n",
              "      <td>0.0</td>\n",
              "      <td>0.0</td>\n",
              "      <td>0.0</td>\n",
              "      <td>0.0</td>\n",
              "      <td>0.0</td>\n",
              "      <td>0.0</td>\n",
              "      <td>0.0</td>\n",
              "      <td>0.0</td>\n",
              "      <td>1.0</td>\n",
              "      <td>0.0</td>\n",
              "      <td>7.071068e-01</td>\n",
              "      <td>0.707107</td>\n",
              "      <td>-0.999930</td>\n",
              "      <td>-0.011859</td>\n",
              "    </tr>\n",
              "    <tr>\n",
              "      <th>41620</th>\n",
              "      <td>5.628818</td>\n",
              "      <td>0.662203</td>\n",
              "      <td>2.755216</td>\n",
              "      <td>1.156763</td>\n",
              "      <td>0.0</td>\n",
              "      <td>0.0</td>\n",
              "      <td>0.0</td>\n",
              "      <td>0.0</td>\n",
              "      <td>0.0</td>\n",
              "      <td>1.0</td>\n",
              "      <td>0.0</td>\n",
              "      <td>1.0</td>\n",
              "      <td>0.0</td>\n",
              "      <td>40.0</td>\n",
              "      <td>0.0</td>\n",
              "      <td>0.0</td>\n",
              "      <td>0.0</td>\n",
              "      <td>0.0</td>\n",
              "      <td>0.0</td>\n",
              "      <td>0.0</td>\n",
              "      <td>0.0</td>\n",
              "      <td>0.0</td>\n",
              "      <td>0.0</td>\n",
              "      <td>0.0</td>\n",
              "      <td>1.0</td>\n",
              "      <td>0.0</td>\n",
              "      <td>8.660254e-01</td>\n",
              "      <td>0.500000</td>\n",
              "      <td>-0.999938</td>\n",
              "      <td>-0.011142</td>\n",
              "    </tr>\n",
              "  </tbody>\n",
              "</table>\n",
              "</div>"
            ],
            "text/plain": [
              "       NO2 (183)  NOX as NO2 (184)  PM10 (182)  ...   Day cos  Year sin  Year cos\n",
              "41616  11.094571         15.664850    4.798539  ...  1.000000 -0.999902 -0.014009\n",
              "41617   9.478485         15.904051    6.392095  ...  0.965926 -0.999912 -0.013292\n",
              "41618   8.585893         10.276290    7.858934  ...  0.866025 -0.999921 -0.012576\n",
              "41619   7.697448          7.251410    4.388444  ...  0.707107 -0.999930 -0.011859\n",
              "41620   5.628818          0.662203    2.755216  ...  0.500000 -0.999938 -0.011142\n",
              "\n",
              "[5 rows x 30 columns]"
            ]
          },
          "metadata": {
            "tags": []
          },
          "execution_count": 665
        }
      ]
    },
    {
      "cell_type": "markdown",
      "metadata": {
        "id": "ycnNZh0foK3M"
      },
      "source": [
        "# Model LSTM\n"
      ]
    },
    {
      "cell_type": "markdown",
      "metadata": {
        "id": "MVOJ-ZJooS7C"
      },
      "source": [
        "## Data splitting and windowing\n"
      ]
    },
    {
      "cell_type": "code",
      "metadata": {
        "id": "L5qp5fkboS7H"
      },
      "source": [
        "  del df['Start']\n",
        "  del df['Slut']\n",
        "  column_indices = {name: i for i, name in enumerate(df.columns)}\n",
        "\n",
        "  n = len(df)\n",
        "\n",
        "  cols = df.columns\n",
        "  x = df.values #returns a numpy array\n",
        "  sc = StandardScaler()\n",
        "  x_scaled = sc.fit_transform(x)\n",
        "  df = pd.DataFrame(x_scaled)\n",
        "\n",
        "  # y = pm10_test.values\n",
        "  # y_scaled = sc.fit_transform(y)\n",
        "  # pm10_test = \n",
        "  \n",
        "  df.columns = cols\n",
        "  \n",
        "  # Normalising training data\n",
        "  train_df = df[0:int(n*0.8)]\n",
        "  # x = train_df.values\n",
        "  # train_scaled = sc.fit_transform(x)\n",
        "  # train_df = pd.DataFrame(train_scaled,columns=cols)\n",
        "  \n",
        "  # Normalising validation data\n",
        "  val_df = df[int(n*0.80):int(n*0.90)]\n",
        "  # x = val_df.values\n",
        "  # train_scaled = sc.fit_transform(x)\n",
        "  # val_df = pd.DataFrame(train_scaled,columns=cols)\n",
        "  \n",
        "  # Normalising testing data\n",
        "  test_df = df[41000:41100]\n",
        "  # x = test_df.values\n",
        "  # train_scaled = sc.fit_transform(x)\n",
        "  # test_df = pd.DataFrame(train_scaled,columns=cols)\n",
        "\n",
        "\n",
        "  num_features = df.shape[1]\n",
        "  # return(train_df,val_df,test_df,num_features)\n",
        "  train_mean = train_df.mean()\n",
        "  train_std = train_df.std()\n",
        "\n",
        "  df_std = (df - train_mean) / train_std"
      ],
      "execution_count": null,
      "outputs": []
    },
    {
      "cell_type": "code",
      "metadata": {
        "id": "6ERMFcPsoS7X"
      },
      "source": [
        "class WindowGenerator():\n",
        "  def __init__(self, input_width, label_width, shift,\n",
        "                train_df=train_df, val_df=val_df, test_df=test_df,\n",
        "                label_columns=None):\n",
        "      # Store the raw data.\n",
        "    self.train_df = train_df\n",
        "    self.val_df = val_df\n",
        "    self.test_df = test_df\n",
        "\n",
        "      # Work out the label column indices.\n",
        "    self.label_columns = label_columns\n",
        "    if label_columns is not None:\n",
        "      self.label_columns_indices = {name: i for i, name in\n",
        "                                      enumerate(label_columns)}\n",
        "    self.column_indices = {name: i for i, name in\n",
        "                            enumerate(train_df.columns)}\n",
        "\n",
        "      # Work out the window parameters.\n",
        "    self.input_width = input_width\n",
        "    self.label_width = label_width\n",
        "    self.shift = shift\n",
        "\n",
        "    self.total_window_size = input_width + shift\n",
        "\n",
        "    self.input_slice = slice(0, input_width)\n",
        "    self.input_indices = np.arange(self.total_window_size)[self.input_slice]\n",
        "\n",
        "    self.label_start = self.total_window_size - self.label_width\n",
        "    self.labels_slice = slice(self.label_start, None)\n",
        "    self.label_indices = np.arange(self.total_window_size)[self.labels_slice]\n",
        "\n",
        "  def __repr__(self):\n",
        "    return '\\n'.join([\n",
        "        f'Total window size: {self.total_window_size}',\n",
        "        f'Input indices: {self.input_indices}',\n",
        "        f'Label indices: {self.label_indices}',\n",
        "        f'Label column name(s): {self.label_columns}'])\n",
        "\n",
        "\n",
        "WindowGenerator.split_window = split_window\n",
        "# WindowGenerator.plot = plot\n",
        "WindowGenerator.make_dataset = make_dataset\n",
        "\n",
        "@property\n",
        "def train(self):\n",
        "  return self.make_dataset(self.train_df)\n",
        "\n",
        "@property\n",
        "def val(self):\n",
        "  return self.make_dataset(self.val_df)\n",
        "\n",
        "@property\n",
        "def test(self):\n",
        "  return self.make_dataset(self.test_df)\n",
        "\n",
        "@property\n",
        "def example(self):\n",
        "  \"\"\"Get and cache an example batch of `inputs, labels` for plotting.\"\"\"\n",
        "  result = getattr(self, '_example', None)\n",
        "  if result is None:\n",
        "      # No example batch was found, so get one from the `.train` dataset\n",
        "    result = next(iter(self.train))\n",
        "      # And cache it for next time\n",
        "    self._example = result\n",
        "  return result\n",
        "\n",
        "WindowGenerator.train = train\n",
        "WindowGenerator.val = val\n",
        "WindowGenerator.test = test\n",
        "WindowGenerator.example = example\n",
        "\n",
        "  \n",
        "\n",
        "# single_step_window = WindowGenerator(\n",
        "#       input_width=2, label_width=1, shift=1,\n",
        "#       label_columns=['PM10 (107)'])\n",
        "#   # single_step_window\n",
        "# print(single_step_window.test)\n"
      ],
      "execution_count": null,
      "outputs": []
    },
    {
      "cell_type": "code",
      "metadata": {
        "id": "Na9dDgRZoS7f",
        "colab": {
          "base_uri": "https://localhost:8080/"
        },
        "outputId": "b0080870-0e1d-40be-e3d3-fc402e1050e7"
      },
      "source": [
        "OUT_STEPS = 24\n",
        "multi_window = WindowGenerator(input_width=24,\n",
        "                               label_width=OUT_STEPS,\n",
        "                               shift=OUT_STEPS)\n",
        "\n",
        "# multi_window.plot()\n",
        "multi_window"
      ],
      "execution_count": null,
      "outputs": [
        {
          "output_type": "execute_result",
          "data": {
            "text/plain": [
              "Total window size: 48\n",
              "Input indices: [ 0  1  2  3  4  5  6  7  8  9 10 11 12 13 14 15 16 17 18 19 20 21 22 23]\n",
              "Label indices: [24 25 26 27 28 29 30 31 32 33 34 35 36 37 38 39 40 41 42 43 44 45 46 47]\n",
              "Label column name(s): None"
            ]
          },
          "metadata": {
            "tags": []
          },
          "execution_count": 9
        }
      ]
    },
    {
      "cell_type": "markdown",
      "metadata": {
        "id": "J0GJgfQJoS7k"
      },
      "source": [
        "## Model training and prediction using LSTM\n"
      ]
    },
    {
      "cell_type": "code",
      "metadata": {
        "id": "zjswRjdzoS7l",
        "colab": {
          "base_uri": "https://localhost:8080/"
        },
        "outputId": "eba17121-332a-4b55-9748-43cb3f0d9c2f"
      },
      "source": [
        "MAX_EPOCHS = 20\n",
        "multi_dense_model = tf.keras.Sequential([\n",
        "    # Take the last time step.\n",
        "    # Shape [batch, time, features] => [batch, 1, features]\n",
        "    tf.keras.layers.Lambda(lambda x: x[:, -1:, :]),\n",
        "    # Shape => [batch, 1, dense_units]\n",
        "    tf.keras.layers.Dense(512, activation='relu'),\n",
        "    # Shape => [batch, out_steps*features]\n",
        "    tf.keras.layers.Dense(OUT_STEPS*num_features,\n",
        "                          kernel_initializer=tf.initializers.zeros),\n",
        "    # Shape => [batch, out_steps, features]\n",
        "    tf.keras.layers.Reshape([OUT_STEPS, num_features])\n",
        "])\n",
        "\n",
        "history = compile_and_fit(multi_dense_model, multi_window)\n",
        "\n",
        "# IPython.display.clear_output()\n",
        "# multi_val_performance['Dense'] = multi_dense_model.evaluate(multi_window.val)\n",
        "# multi_performance = multi_dense_model.predict(multi_window.test)\n",
        "# multi_window.plot(multi_dense_model)"
      ],
      "execution_count": null,
      "outputs": [
        {
          "output_type": "stream",
          "text": [
            "Epoch 1/20\n",
            "1095/1095 [==============================] - 6s 5ms/step - loss: 0.8283 - mean_absolute_error: 0.6336 - val_loss: 0.8594 - val_mean_absolute_error: 0.6585\n",
            "Epoch 2/20\n",
            "1095/1095 [==============================] - 5s 5ms/step - loss: 0.8136 - mean_absolute_error: 0.6264 - val_loss: 0.8560 - val_mean_absolute_error: 0.6551\n",
            "Epoch 3/20\n",
            "1095/1095 [==============================] - 5s 5ms/step - loss: 0.8103 - mean_absolute_error: 0.6248 - val_loss: 0.8578 - val_mean_absolute_error: 0.6576\n",
            "Epoch 4/20\n",
            "1095/1095 [==============================] - 5s 5ms/step - loss: 0.8079 - mean_absolute_error: 0.6237 - val_loss: 0.8548 - val_mean_absolute_error: 0.6556\n",
            "Epoch 5/20\n",
            "1095/1095 [==============================] - 5s 5ms/step - loss: 0.8062 - mean_absolute_error: 0.6232 - val_loss: 0.8580 - val_mean_absolute_error: 0.6598\n",
            "Epoch 6/20\n",
            "1095/1095 [==============================] - 5s 5ms/step - loss: 0.8050 - mean_absolute_error: 0.6228 - val_loss: 0.8548 - val_mean_absolute_error: 0.6556\n",
            "Epoch 7/20\n",
            "1095/1095 [==============================] - 5s 5ms/step - loss: 0.8040 - mean_absolute_error: 0.6224 - val_loss: 0.8561 - val_mean_absolute_error: 0.6586\n",
            "Epoch 8/20\n",
            "1095/1095 [==============================] - 5s 5ms/step - loss: 0.8029 - mean_absolute_error: 0.6218 - val_loss: 0.8559 - val_mean_absolute_error: 0.6578\n",
            "Epoch 9/20\n",
            "1095/1095 [==============================] - 5s 5ms/step - loss: 0.8019 - mean_absolute_error: 0.6217 - val_loss: 0.8552 - val_mean_absolute_error: 0.6563\n"
          ],
          "name": "stdout"
        }
      ]
    },
    {
      "cell_type": "code",
      "metadata": {
        "id": "0-C3qKZ9oS7p",
        "colab": {
          "base_uri": "https://localhost:8080/"
        },
        "outputId": "9b002a71-2b2c-4228-9f4e-d4b0042c0022"
      },
      "source": [
        "predictions = dict()\n",
        "for i in range(92):\n",
        "  idx = 41591  + i*24\n",
        "  test_df = df.iloc[idx : idx+48]\n",
        "  \n",
        "  class WindowGenerator():\n",
        "    def __init__(self, input_width, label_width, shift,\n",
        "                  train_df=train_df, val_df=val_df, test_df=test_df,\n",
        "                  label_columns=None):\n",
        "        # Store the raw data.\n",
        "      self.train_df = train_df\n",
        "      self.val_df = val_df\n",
        "      self.test_df = test_df\n",
        "\n",
        "        # Work out the label column indices.\n",
        "      self.label_columns = label_columns\n",
        "      if label_columns is not None:\n",
        "        self.label_columns_indices = {name: i for i, name in\n",
        "                                        enumerate(label_columns)}\n",
        "      self.column_indices = {name: i for i, name in\n",
        "                              enumerate(train_df.columns)}\n",
        "\n",
        "        # Work out the window parameters.\n",
        "      self.input_width = input_width\n",
        "      self.label_width = label_width\n",
        "      self.shift = shift\n",
        "\n",
        "      self.total_window_size = input_width + shift\n",
        "\n",
        "      self.input_slice = slice(0, input_width)\n",
        "      self.input_indices = np.arange(self.total_window_size)[self.input_slice]\n",
        "\n",
        "      self.label_start = self.total_window_size - self.label_width\n",
        "      self.labels_slice = slice(self.label_start, None)\n",
        "      self.label_indices = np.arange(self.total_window_size)[self.labels_slice]\n",
        "\n",
        "    def __repr__(self):\n",
        "      return '\\n'.join([\n",
        "          f'Total window size: {self.total_window_size}',\n",
        "          f'Input indices: {self.input_indices}',\n",
        "          f'Label indices: {self.label_indices}',\n",
        "          f'Label column name(s): {self.label_columns}'])\n",
        "\n",
        "\n",
        "  WindowGenerator.split_window = split_window\n",
        "  # WindowGenerator.plot = plot\n",
        "  WindowGenerator.make_dataset = make_dataset\n",
        "\n",
        "  @property\n",
        "  def train(self):\n",
        "    return self.make_dataset(self.train_df)\n",
        "\n",
        "  @property\n",
        "  def val(self):\n",
        "    return self.make_dataset(self.val_df)\n",
        "\n",
        "  @property\n",
        "  def test(self):\n",
        "    return self.make_dataset(self.test_df)\n",
        "\n",
        "  @property\n",
        "  def example(self):\n",
        "    \"\"\"Get and cache an example batch of `inputs, labels` for plotting.\"\"\"\n",
        "    result = getattr(self, '_example', None)\n",
        "    if result is None:\n",
        "        # No example batch was found, so get one from the `.train` dataset\n",
        "      result = next(iter(self.train))\n",
        "        # And cache it for next time\n",
        "      self._example = result\n",
        "    return result\n",
        "\n",
        "  WindowGenerator.train = train\n",
        "  WindowGenerator.val = val\n",
        "  WindowGenerator.test = test\n",
        "  WindowGenerator.example = example\n",
        "\n",
        "\n",
        "  OUT_STEPS = 24\n",
        "  multi_window = WindowGenerator(input_width=24,\n",
        "                                label_width=OUT_STEPS,\n",
        "                                shift=OUT_STEPS)\n",
        "\n",
        "  # multi_window.plot()\n",
        "  # multi_window\n",
        "\n",
        "\n",
        "  pred = multi_dense_model.predict(multi_window.test)\n",
        "  pred = pred.reshape(24,4)\n",
        "  predictions[i] = pred\n",
        "idx"
      ],
      "execution_count": null,
      "outputs": [
        {
          "output_type": "execute_result",
          "data": {
            "text/plain": [
              "43775"
            ]
          },
          "metadata": {
            "tags": []
          },
          "execution_count": 11
        }
      ]
    },
    {
      "cell_type": "code",
      "metadata": {
        "id": "PioW4kHooS7s",
        "colab": {
          "base_uri": "https://localhost:8080/"
        },
        "outputId": "306d01f0-3de6-4f5c-8c7a-4f375991b4df"
      },
      "source": [
        "test_df.shape"
      ],
      "execution_count": null,
      "outputs": [
        {
          "output_type": "execute_result",
          "data": {
            "text/plain": [
              "(48, 4)"
            ]
          },
          "metadata": {
            "tags": []
          },
          "execution_count": 12
        }
      ]
    },
    {
      "cell_type": "markdown",
      "metadata": {
        "id": "hxz8FwzGoS7v"
      },
      "source": [
        "## Denormalizing and calculating the smape values"
      ]
    },
    {
      "cell_type": "code",
      "metadata": {
        "id": "sSu88V29oS7w"
      },
      "source": [
        "idx = 41616\n",
        "for days in range(92):\n",
        "  for hour in range(24):\n",
        "    for feat in range(4):\n",
        "      if feat == 0:\n",
        "        df['NO2 (344)'].iloc[idx] = predictions[days][hour][feat]\n",
        "      elif feat == 1:\n",
        "        df['NOX as NO2 (345)'].iloc[idx] = predictions[days][hour][feat]\n",
        "      elif feat == 2:\n",
        "        df['PM10 (342)'].iloc[idx] = predictions[days][hour][feat]\n",
        "      else:\n",
        "        df['PM2.5 (343)'].iloc[idx] = predictions[days][hour][feat]\n",
        "    idx = idx+1\n"
      ],
      "execution_count": null,
      "outputs": []
    },
    {
      "cell_type": "code",
      "metadata": {
        "id": "DIPQ62WGoS71",
        "colab": {
          "base_uri": "https://localhost:8080/",
          "height": 204
        },
        "outputId": "3fe8f568-74ba-46e2-ad75-2556961a1442"
      },
      "source": [
        "x = df.values\n",
        "x_scaled = sc.inverse_transform(x)\n",
        "df_norm = pd.DataFrame(x_scaled, columns=cols)\n",
        "df_norm.head()"
      ],
      "execution_count": null,
      "outputs": [
        {
          "output_type": "execute_result",
          "data": {
            "text/html": [
              "<div>\n",
              "<style scoped>\n",
              "    .dataframe tbody tr th:only-of-type {\n",
              "        vertical-align: middle;\n",
              "    }\n",
              "\n",
              "    .dataframe tbody tr th {\n",
              "        vertical-align: top;\n",
              "    }\n",
              "\n",
              "    .dataframe thead th {\n",
              "        text-align: right;\n",
              "    }\n",
              "</style>\n",
              "<table border=\"1\" class=\"dataframe\">\n",
              "  <thead>\n",
              "    <tr style=\"text-align: right;\">\n",
              "      <th></th>\n",
              "      <th>NO2 (344)</th>\n",
              "      <th>NOX as NO2 (345)</th>\n",
              "      <th>PM10 (342)</th>\n",
              "      <th>PM2.5 (343)</th>\n",
              "    </tr>\n",
              "  </thead>\n",
              "  <tbody>\n",
              "    <tr>\n",
              "      <th>0</th>\n",
              "      <td>11.0</td>\n",
              "      <td>18.8</td>\n",
              "      <td>27.9</td>\n",
              "      <td>19.8</td>\n",
              "    </tr>\n",
              "    <tr>\n",
              "      <th>1</th>\n",
              "      <td>15.3</td>\n",
              "      <td>25.0</td>\n",
              "      <td>15.5</td>\n",
              "      <td>4.5</td>\n",
              "    </tr>\n",
              "    <tr>\n",
              "      <th>2</th>\n",
              "      <td>13.4</td>\n",
              "      <td>19.8</td>\n",
              "      <td>17.1</td>\n",
              "      <td>4.6</td>\n",
              "    </tr>\n",
              "    <tr>\n",
              "      <th>3</th>\n",
              "      <td>9.6</td>\n",
              "      <td>13.8</td>\n",
              "      <td>15.2</td>\n",
              "      <td>5.3</td>\n",
              "    </tr>\n",
              "    <tr>\n",
              "      <th>4</th>\n",
              "      <td>3.5</td>\n",
              "      <td>5.8</td>\n",
              "      <td>16.3</td>\n",
              "      <td>6.6</td>\n",
              "    </tr>\n",
              "  </tbody>\n",
              "</table>\n",
              "</div>"
            ],
            "text/plain": [
              "   NO2 (344)  NOX as NO2 (345)  PM10 (342)  PM2.5 (343)\n",
              "0       11.0              18.8        27.9         19.8\n",
              "1       15.3              25.0        15.5          4.5\n",
              "2       13.4              19.8        17.1          4.6\n",
              "3        9.6              13.8        15.2          5.3\n",
              "4        3.5               5.8        16.3          6.6"
            ]
          },
          "metadata": {
            "tags": []
          },
          "execution_count": 14
        }
      ]
    },
    {
      "cell_type": "code",
      "metadata": {
        "id": "LEzwccHSoS74",
        "colab": {
          "base_uri": "https://localhost:8080/",
          "height": 204
        },
        "outputId": "8d6524d0-726b-47d0-afe7-4b674fe82e18"
      },
      "source": [
        "del df_copy['Slut']\n",
        "del df_copy['Start']\n",
        "df_copy.head()"
      ],
      "execution_count": null,
      "outputs": [
        {
          "output_type": "execute_result",
          "data": {
            "text/html": [
              "<div>\n",
              "<style scoped>\n",
              "    .dataframe tbody tr th:only-of-type {\n",
              "        vertical-align: middle;\n",
              "    }\n",
              "\n",
              "    .dataframe tbody tr th {\n",
              "        vertical-align: top;\n",
              "    }\n",
              "\n",
              "    .dataframe thead th {\n",
              "        text-align: right;\n",
              "    }\n",
              "</style>\n",
              "<table border=\"1\" class=\"dataframe\">\n",
              "  <thead>\n",
              "    <tr style=\"text-align: right;\">\n",
              "      <th></th>\n",
              "      <th>NO2 (344)</th>\n",
              "      <th>NOX as NO2 (345)</th>\n",
              "      <th>PM10 (342)</th>\n",
              "      <th>PM2.5 (343)</th>\n",
              "    </tr>\n",
              "  </thead>\n",
              "  <tbody>\n",
              "    <tr>\n",
              "      <th>0</th>\n",
              "      <td>11.0</td>\n",
              "      <td>18.8</td>\n",
              "      <td>27.9</td>\n",
              "      <td>19.8</td>\n",
              "    </tr>\n",
              "    <tr>\n",
              "      <th>1</th>\n",
              "      <td>15.3</td>\n",
              "      <td>25.0</td>\n",
              "      <td>15.5</td>\n",
              "      <td>4.5</td>\n",
              "    </tr>\n",
              "    <tr>\n",
              "      <th>2</th>\n",
              "      <td>13.4</td>\n",
              "      <td>19.8</td>\n",
              "      <td>17.1</td>\n",
              "      <td>4.6</td>\n",
              "    </tr>\n",
              "    <tr>\n",
              "      <th>3</th>\n",
              "      <td>9.6</td>\n",
              "      <td>13.8</td>\n",
              "      <td>15.2</td>\n",
              "      <td>5.3</td>\n",
              "    </tr>\n",
              "    <tr>\n",
              "      <th>4</th>\n",
              "      <td>3.5</td>\n",
              "      <td>5.8</td>\n",
              "      <td>16.3</td>\n",
              "      <td>6.6</td>\n",
              "    </tr>\n",
              "  </tbody>\n",
              "</table>\n",
              "</div>"
            ],
            "text/plain": [
              "   NO2 (344)  NOX as NO2 (345)  PM10 (342)  PM2.5 (343)\n",
              "0       11.0              18.8        27.9         19.8\n",
              "1       15.3              25.0        15.5          4.5\n",
              "2       13.4              19.8        17.1          4.6\n",
              "3        9.6              13.8        15.2          5.3\n",
              "4        3.5               5.8        16.3          6.6"
            ]
          },
          "metadata": {
            "tags": []
          },
          "execution_count": 15
        }
      ]
    },
    {
      "cell_type": "code",
      "metadata": {
        "id": "8F_F8W-_oS77"
      },
      "source": [
        "y_test = df_copy[41616:]\n",
        "y_pred = df_norm[41616:]"
      ],
      "execution_count": null,
      "outputs": []
    },
    {
      "cell_type": "code",
      "metadata": {
        "id": "d2Pc9TI4oS7_",
        "colab": {
          "base_uri": "https://localhost:8080/",
          "height": 204
        },
        "outputId": "1ab881bc-fccb-4432-e686-dc2c4609a6ab"
      },
      "source": [
        "y_test.head()"
      ],
      "execution_count": null,
      "outputs": [
        {
          "output_type": "execute_result",
          "data": {
            "text/html": [
              "<div>\n",
              "<style scoped>\n",
              "    .dataframe tbody tr th:only-of-type {\n",
              "        vertical-align: middle;\n",
              "    }\n",
              "\n",
              "    .dataframe tbody tr th {\n",
              "        vertical-align: top;\n",
              "    }\n",
              "\n",
              "    .dataframe thead th {\n",
              "        text-align: right;\n",
              "    }\n",
              "</style>\n",
              "<table border=\"1\" class=\"dataframe\">\n",
              "  <thead>\n",
              "    <tr style=\"text-align: right;\">\n",
              "      <th></th>\n",
              "      <th>NO2 (344)</th>\n",
              "      <th>NOX as NO2 (345)</th>\n",
              "      <th>PM10 (342)</th>\n",
              "      <th>PM2.5 (343)</th>\n",
              "    </tr>\n",
              "  </thead>\n",
              "  <tbody>\n",
              "    <tr>\n",
              "      <th>41616</th>\n",
              "      <td>4.7</td>\n",
              "      <td>7.7</td>\n",
              "      <td>2.0</td>\n",
              "      <td>0.000000</td>\n",
              "    </tr>\n",
              "    <tr>\n",
              "      <th>41617</th>\n",
              "      <td>1.8</td>\n",
              "      <td>3.2</td>\n",
              "      <td>2.3</td>\n",
              "      <td>0.000000</td>\n",
              "    </tr>\n",
              "    <tr>\n",
              "      <th>41618</th>\n",
              "      <td>1.3</td>\n",
              "      <td>1.9</td>\n",
              "      <td>2.2</td>\n",
              "      <td>0.053142</td>\n",
              "    </tr>\n",
              "    <tr>\n",
              "      <th>41619</th>\n",
              "      <td>3.5</td>\n",
              "      <td>6.0</td>\n",
              "      <td>3.8</td>\n",
              "      <td>0.400000</td>\n",
              "    </tr>\n",
              "    <tr>\n",
              "      <th>41620</th>\n",
              "      <td>4.8</td>\n",
              "      <td>8.7</td>\n",
              "      <td>1.4</td>\n",
              "      <td>0.000000</td>\n",
              "    </tr>\n",
              "  </tbody>\n",
              "</table>\n",
              "</div>"
            ],
            "text/plain": [
              "       NO2 (344)  NOX as NO2 (345)  PM10 (342)  PM2.5 (343)\n",
              "41616        4.7               7.7         2.0     0.000000\n",
              "41617        1.8               3.2         2.3     0.000000\n",
              "41618        1.3               1.9         2.2     0.053142\n",
              "41619        3.5               6.0         3.8     0.400000\n",
              "41620        4.8               8.7         1.4     0.000000"
            ]
          },
          "metadata": {
            "tags": []
          },
          "execution_count": 17
        }
      ]
    },
    {
      "cell_type": "code",
      "metadata": {
        "id": "unyxsJZuoS8C",
        "colab": {
          "base_uri": "https://localhost:8080/",
          "height": 204
        },
        "outputId": "43197706-58ff-4d23-81bd-45eb33191144"
      },
      "source": [
        "y_pred.head()"
      ],
      "execution_count": null,
      "outputs": [
        {
          "output_type": "execute_result",
          "data": {
            "text/html": [
              "<div>\n",
              "<style scoped>\n",
              "    .dataframe tbody tr th:only-of-type {\n",
              "        vertical-align: middle;\n",
              "    }\n",
              "\n",
              "    .dataframe tbody tr th {\n",
              "        vertical-align: top;\n",
              "    }\n",
              "\n",
              "    .dataframe thead th {\n",
              "        text-align: right;\n",
              "    }\n",
              "</style>\n",
              "<table border=\"1\" class=\"dataframe\">\n",
              "  <thead>\n",
              "    <tr style=\"text-align: right;\">\n",
              "      <th></th>\n",
              "      <th>NO2 (344)</th>\n",
              "      <th>NOX as NO2 (345)</th>\n",
              "      <th>PM10 (342)</th>\n",
              "      <th>PM2.5 (343)</th>\n",
              "    </tr>\n",
              "  </thead>\n",
              "  <tbody>\n",
              "    <tr>\n",
              "      <th>41616</th>\n",
              "      <td>20.514492</td>\n",
              "      <td>60.672230</td>\n",
              "      <td>4.616429</td>\n",
              "      <td>0.613217</td>\n",
              "    </tr>\n",
              "    <tr>\n",
              "      <th>41617</th>\n",
              "      <td>24.376423</td>\n",
              "      <td>73.177984</td>\n",
              "      <td>5.618655</td>\n",
              "      <td>0.974472</td>\n",
              "    </tr>\n",
              "    <tr>\n",
              "      <th>41618</th>\n",
              "      <td>26.932653</td>\n",
              "      <td>80.688688</td>\n",
              "      <td>6.089956</td>\n",
              "      <td>1.447461</td>\n",
              "    </tr>\n",
              "    <tr>\n",
              "      <th>41619</th>\n",
              "      <td>29.497219</td>\n",
              "      <td>87.931756</td>\n",
              "      <td>7.959068</td>\n",
              "      <td>1.634097</td>\n",
              "    </tr>\n",
              "    <tr>\n",
              "      <th>41620</th>\n",
              "      <td>30.592504</td>\n",
              "      <td>89.146453</td>\n",
              "      <td>9.615379</td>\n",
              "      <td>2.016642</td>\n",
              "    </tr>\n",
              "  </tbody>\n",
              "</table>\n",
              "</div>"
            ],
            "text/plain": [
              "       NO2 (344)  NOX as NO2 (345)  PM10 (342)  PM2.5 (343)\n",
              "41616  20.514492         60.672230    4.616429     0.613217\n",
              "41617  24.376423         73.177984    5.618655     0.974472\n",
              "41618  26.932653         80.688688    6.089956     1.447461\n",
              "41619  29.497219         87.931756    7.959068     1.634097\n",
              "41620  30.592504         89.146453    9.615379     2.016642"
            ]
          },
          "metadata": {
            "tags": []
          },
          "execution_count": 18
        }
      ]
    },
    {
      "cell_type": "code",
      "metadata": {
        "id": "GlkdYtMtoS8G"
      },
      "source": [
        "def smape(y_true, y_pred):\n",
        "  return tf.reduce_mean(2 * tf.abs(y_true - y_pred)\n",
        "                          / (tf.abs(y_pred) + tf.abs(y_true)) , axis=-1)\n"
      ],
      "execution_count": null,
      "outputs": []
    },
    {
      "cell_type": "code",
      "metadata": {
        "id": "3-p1L0PsoS8K",
        "colab": {
          "base_uri": "https://localhost:8080/"
        },
        "outputId": "b84630f4-5fe4-4d5d-a6a1-5f578164f4ce"
      },
      "source": [
        "smape(y_test['NO2 (344)'],y_pred['NO2 (344)'])"
      ],
      "execution_count": null,
      "outputs": [
        {
          "output_type": "execute_result",
          "data": {
            "text/plain": [
              "<tf.Tensor: shape=(), dtype=float64, numpy=0.4919369297002677>"
            ]
          },
          "metadata": {
            "tags": []
          },
          "execution_count": 20
        }
      ]
    },
    {
      "cell_type": "code",
      "metadata": {
        "id": "jLZ2_bUQoS8O",
        "colab": {
          "base_uri": "https://localhost:8080/"
        },
        "outputId": "d2d00cde-d04c-4f8a-8993-c223545e0ac1"
      },
      "source": [
        "smape(y_test['NOX as NO2 (345)'],y_pred['NOX as NO2 (345)'])"
      ],
      "execution_count": null,
      "outputs": [
        {
          "output_type": "execute_result",
          "data": {
            "text/plain": [
              "<tf.Tensor: shape=(), dtype=float64, numpy=0.599664731010258>"
            ]
          },
          "metadata": {
            "tags": []
          },
          "execution_count": 21
        }
      ]
    },
    {
      "cell_type": "code",
      "metadata": {
        "id": "l8GEMHgloS8R",
        "colab": {
          "base_uri": "https://localhost:8080/"
        },
        "outputId": "af882361-ff5e-4b5e-c53d-a748f9666e58"
      },
      "source": [
        "smape(y_test['PM10 (342)'],y_pred['PM10 (342)'])"
      ],
      "execution_count": null,
      "outputs": [
        {
          "output_type": "execute_result",
          "data": {
            "text/plain": [
              "<tf.Tensor: shape=(), dtype=float64, numpy=0.5512700275253708>"
            ]
          },
          "metadata": {
            "tags": []
          },
          "execution_count": 22
        }
      ]
    },
    {
      "cell_type": "code",
      "metadata": {
        "id": "ds5n3q2MoS8U",
        "colab": {
          "base_uri": "https://localhost:8080/"
        },
        "outputId": "7221707a-3599-4f05-cd0d-6c1378809acf"
      },
      "source": [
        "smape(y_test['PM2.5 (343)'],y_pred['PM2.5 (343)'])"
      ],
      "execution_count": null,
      "outputs": [
        {
          "output_type": "execute_result",
          "data": {
            "text/plain": [
              "<tf.Tensor: shape=(), dtype=float64, numpy=0.5721971259400087>"
            ]
          },
          "metadata": {
            "tags": []
          },
          "execution_count": 23
        }
      ]
    },
    {
      "cell_type": "code",
      "metadata": {
        "id": "BStuvxJZoS8Z",
        "colab": {
          "base_uri": "https://localhost:8080/"
        },
        "outputId": "9b338a29-8fce-4ef9-b925-4ffc3feffebd"
      },
      "source": [
        "(0.4801 + 0.5882 + 0.5592 + 0.5594)/4"
      ],
      "execution_count": null,
      "outputs": [
        {
          "output_type": "execute_result",
          "data": {
            "text/plain": [
              "0.546725"
            ]
          },
          "metadata": {
            "tags": []
          },
          "execution_count": 326
        }
      ]
    },
    {
      "cell_type": "code",
      "metadata": {
        "id": "9yHj4_LRoS8c"
      },
      "source": [
        "y_pred.to_csv(\"test_values_18644.csv\")"
      ],
      "execution_count": null,
      "outputs": []
    },
    {
      "cell_type": "code",
      "metadata": {
        "id": "HphBl2kxoS8g",
        "colab": {
          "base_uri": "https://localhost:8080/"
        },
        "outputId": "5ac8b45a-e5b8-440f-d2a2-ae2c0478be1d"
      },
      "source": [
        "len(y_pred)"
      ],
      "execution_count": null,
      "outputs": [
        {
          "output_type": "execute_result",
          "data": {
            "text/plain": [
              "2209"
            ]
          },
          "metadata": {
            "tags": []
          },
          "execution_count": 328
        }
      ]
    },
    {
      "cell_type": "code",
      "metadata": {
        "id": "tigcyi17oS8j",
        "colab": {
          "base_uri": "https://localhost:8080/",
          "height": 204
        },
        "outputId": "23d84430-ea71-4d05-9055-3ddb53d0f6c3"
      },
      "source": [
        "y_pred.head()"
      ],
      "execution_count": null,
      "outputs": [
        {
          "output_type": "execute_result",
          "data": {
            "text/html": [
              "<div>\n",
              "<style scoped>\n",
              "    .dataframe tbody tr th:only-of-type {\n",
              "        vertical-align: middle;\n",
              "    }\n",
              "\n",
              "    .dataframe tbody tr th {\n",
              "        vertical-align: top;\n",
              "    }\n",
              "\n",
              "    .dataframe thead th {\n",
              "        text-align: right;\n",
              "    }\n",
              "</style>\n",
              "<table border=\"1\" class=\"dataframe\">\n",
              "  <thead>\n",
              "    <tr style=\"text-align: right;\">\n",
              "      <th></th>\n",
              "      <th>NO2 (344)</th>\n",
              "      <th>NOX as NO2 (345)</th>\n",
              "      <th>PM10 (342)</th>\n",
              "      <th>PM2.5 (343)</th>\n",
              "    </tr>\n",
              "  </thead>\n",
              "  <tbody>\n",
              "    <tr>\n",
              "      <th>41615</th>\n",
              "      <td>19.471270</td>\n",
              "      <td>60.659505</td>\n",
              "      <td>5.046160</td>\n",
              "      <td>0.296953</td>\n",
              "    </tr>\n",
              "    <tr>\n",
              "      <th>41616</th>\n",
              "      <td>24.767853</td>\n",
              "      <td>79.357072</td>\n",
              "      <td>7.662711</td>\n",
              "      <td>1.024119</td>\n",
              "    </tr>\n",
              "    <tr>\n",
              "      <th>41617</th>\n",
              "      <td>27.597073</td>\n",
              "      <td>88.657137</td>\n",
              "      <td>9.913626</td>\n",
              "      <td>1.251994</td>\n",
              "    </tr>\n",
              "    <tr>\n",
              "      <th>41618</th>\n",
              "      <td>29.104562</td>\n",
              "      <td>91.542055</td>\n",
              "      <td>10.836983</td>\n",
              "      <td>1.530252</td>\n",
              "    </tr>\n",
              "    <tr>\n",
              "      <th>41619</th>\n",
              "      <td>31.074538</td>\n",
              "      <td>96.405039</td>\n",
              "      <td>12.291671</td>\n",
              "      <td>1.982532</td>\n",
              "    </tr>\n",
              "  </tbody>\n",
              "</table>\n",
              "</div>"
            ],
            "text/plain": [
              "       NO2 (344)  NOX as NO2 (345)  PM10 (342)  PM2.5 (343)\n",
              "41615  19.471270         60.659505    5.046160     0.296953\n",
              "41616  24.767853         79.357072    7.662711     1.024119\n",
              "41617  27.597073         88.657137    9.913626     1.251994\n",
              "41618  29.104562         91.542055   10.836983     1.530252\n",
              "41619  31.074538         96.405039   12.291671     1.982532"
            ]
          },
          "metadata": {
            "tags": []
          },
          "execution_count": 333
        }
      ]
    },
    {
      "cell_type": "markdown",
      "metadata": {
        "id": "eNw8_1FSfW_f"
      },
      "source": [
        "# For fun"
      ]
    },
    {
      "cell_type": "code",
      "metadata": {
        "id": "xzW9ojhufYV7"
      },
      "source": [
        "df = pd.read_csv(\"/content/test_values_18644.csv\")"
      ],
      "execution_count": 47,
      "outputs": []
    },
    {
      "cell_type": "code",
      "metadata": {
        "id": "g4GteVwZgePI",
        "colab": {
          "base_uri": "https://localhost:8080/",
          "height": 204
        },
        "outputId": "eff23161-a5a1-4042-f724-8556419bfc1f"
      },
      "source": [
        "del df['Unnamed: 0']\n",
        "df.head()"
      ],
      "execution_count": 38,
      "outputs": [
        {
          "output_type": "execute_result",
          "data": {
            "text/html": [
              "<div>\n",
              "<style scoped>\n",
              "    .dataframe tbody tr th:only-of-type {\n",
              "        vertical-align: middle;\n",
              "    }\n",
              "\n",
              "    .dataframe tbody tr th {\n",
              "        vertical-align: top;\n",
              "    }\n",
              "\n",
              "    .dataframe thead th {\n",
              "        text-align: right;\n",
              "    }\n",
              "</style>\n",
              "<table border=\"1\" class=\"dataframe\">\n",
              "  <thead>\n",
              "    <tr style=\"text-align: right;\">\n",
              "      <th></th>\n",
              "      <th>Start</th>\n",
              "      <th>NO2</th>\n",
              "      <th>NOX as NO2</th>\n",
              "      <th>PM10</th>\n",
              "      <th>PM2.5</th>\n",
              "    </tr>\n",
              "  </thead>\n",
              "  <tbody>\n",
              "    <tr>\n",
              "      <th>0</th>\n",
              "      <td>2019-10-01 00:00:00</td>\n",
              "      <td>13.411764</td>\n",
              "      <td>37.775188</td>\n",
              "      <td>3.255836</td>\n",
              "      <td>0.249491</td>\n",
              "    </tr>\n",
              "    <tr>\n",
              "      <th>1</th>\n",
              "      <td>2019-10-01 01:00:00</td>\n",
              "      <td>9.858790</td>\n",
              "      <td>27.435930</td>\n",
              "      <td>8.285621</td>\n",
              "      <td>0.564187</td>\n",
              "    </tr>\n",
              "    <tr>\n",
              "      <th>2</th>\n",
              "      <td>2019-10-01 02:00:00</td>\n",
              "      <td>5.639668</td>\n",
              "      <td>18.976900</td>\n",
              "      <td>11.349111</td>\n",
              "      <td>0.268150</td>\n",
              "    </tr>\n",
              "    <tr>\n",
              "      <th>3</th>\n",
              "      <td>2019-10-01 03:00:00</td>\n",
              "      <td>5.538182</td>\n",
              "      <td>18.482940</td>\n",
              "      <td>12.547909</td>\n",
              "      <td>0.746775</td>\n",
              "    </tr>\n",
              "    <tr>\n",
              "      <th>4</th>\n",
              "      <td>2019-10-01 04:00:00</td>\n",
              "      <td>7.793204</td>\n",
              "      <td>25.944860</td>\n",
              "      <td>8.504370</td>\n",
              "      <td>1.058651</td>\n",
              "    </tr>\n",
              "  </tbody>\n",
              "</table>\n",
              "</div>"
            ],
            "text/plain": [
              "                 Start        NO2  NOX as NO2       PM10     PM2.5\n",
              "0  2019-10-01 00:00:00  13.411764   37.775188   3.255836  0.249491\n",
              "1  2019-10-01 01:00:00   9.858790   27.435930   8.285621  0.564187\n",
              "2  2019-10-01 02:00:00   5.639668   18.976900  11.349111  0.268150\n",
              "3  2019-10-01 03:00:00   5.538182   18.482940  12.547909  0.746775\n",
              "4  2019-10-01 04:00:00   7.793204   25.944860   8.504370  1.058651"
            ]
          },
          "metadata": {
            "tags": []
          },
          "execution_count": 38
        }
      ]
    },
    {
      "cell_type": "code",
      "metadata": {
        "id": "uK4KFHUZgfqn"
      },
      "source": [
        "# df = df[:-1]"
      ],
      "execution_count": 29,
      "outputs": []
    },
    {
      "cell_type": "code",
      "metadata": {
        "id": "vq80nMEzg19O",
        "colab": {
          "base_uri": "https://localhost:8080/",
          "height": 428
        },
        "outputId": "6028de50-3bb4-45b5-dd71-b1e655a37429"
      },
      "source": [
        "df['Start'] = pd.date_range(start='2019-10-01 00:00:00', periods=len(df), freq='H')\n",
        "df.head()"
      ],
      "execution_count": 30,
      "outputs": [
        {
          "output_type": "execute_result",
          "data": {
            "text/html": [
              "<div>\n",
              "<style scoped>\n",
              "    .dataframe tbody tr th:only-of-type {\n",
              "        vertical-align: middle;\n",
              "    }\n",
              "\n",
              "    .dataframe tbody tr th {\n",
              "        vertical-align: top;\n",
              "    }\n",
              "\n",
              "    .dataframe thead th {\n",
              "        text-align: right;\n",
              "    }\n",
              "</style>\n",
              "<table border=\"1\" class=\"dataframe\">\n",
              "  <thead>\n",
              "    <tr style=\"text-align: right;\">\n",
              "      <th></th>\n",
              "      <th>NO2 (344)</th>\n",
              "      <th>NOX as NO2 (345)</th>\n",
              "      <th>PM10 (342)</th>\n",
              "      <th>PM2.5 (343)</th>\n",
              "      <th>Friday</th>\n",
              "      <th>Monday</th>\n",
              "      <th>Saturday</th>\n",
              "      <th>Sunday</th>\n",
              "      <th>Thursday</th>\n",
              "      <th>Tuesday</th>\n",
              "      <th>Wednesday</th>\n",
              "      <th>weekday</th>\n",
              "      <th>weekend</th>\n",
              "      <th>week</th>\n",
              "      <th>April</th>\n",
              "      <th>August</th>\n",
              "      <th>December</th>\n",
              "      <th>February</th>\n",
              "      <th>January</th>\n",
              "      <th>July</th>\n",
              "      <th>June</th>\n",
              "      <th>March</th>\n",
              "      <th>May</th>\n",
              "      <th>November</th>\n",
              "      <th>October</th>\n",
              "      <th>September</th>\n",
              "      <th>Day sin</th>\n",
              "      <th>Day cos</th>\n",
              "      <th>Year sin</th>\n",
              "      <th>Year cos</th>\n",
              "      <th>Start</th>\n",
              "    </tr>\n",
              "  </thead>\n",
              "  <tbody>\n",
              "    <tr>\n",
              "      <th>0</th>\n",
              "      <td>13.411764</td>\n",
              "      <td>37.775188</td>\n",
              "      <td>3.255836</td>\n",
              "      <td>0.249491</td>\n",
              "      <td>0.0</td>\n",
              "      <td>0.0</td>\n",
              "      <td>0.0</td>\n",
              "      <td>0.0</td>\n",
              "      <td>0.0</td>\n",
              "      <td>1.0</td>\n",
              "      <td>0.0</td>\n",
              "      <td>1.0</td>\n",
              "      <td>0.0</td>\n",
              "      <td>40.0</td>\n",
              "      <td>0.0</td>\n",
              "      <td>0.0</td>\n",
              "      <td>0.0</td>\n",
              "      <td>0.0</td>\n",
              "      <td>0.0</td>\n",
              "      <td>0.0</td>\n",
              "      <td>0.0</td>\n",
              "      <td>0.0</td>\n",
              "      <td>0.0</td>\n",
              "      <td>0.0</td>\n",
              "      <td>1.0</td>\n",
              "      <td>0.0</td>\n",
              "      <td>-1.023418e-11</td>\n",
              "      <td>1.000000</td>\n",
              "      <td>-0.999902</td>\n",
              "      <td>-0.014009</td>\n",
              "      <td>2019-10-01 00:00:00</td>\n",
              "    </tr>\n",
              "    <tr>\n",
              "      <th>1</th>\n",
              "      <td>9.858790</td>\n",
              "      <td>27.435930</td>\n",
              "      <td>8.285621</td>\n",
              "      <td>0.564187</td>\n",
              "      <td>0.0</td>\n",
              "      <td>0.0</td>\n",
              "      <td>0.0</td>\n",
              "      <td>0.0</td>\n",
              "      <td>0.0</td>\n",
              "      <td>1.0</td>\n",
              "      <td>0.0</td>\n",
              "      <td>1.0</td>\n",
              "      <td>0.0</td>\n",
              "      <td>40.0</td>\n",
              "      <td>0.0</td>\n",
              "      <td>0.0</td>\n",
              "      <td>0.0</td>\n",
              "      <td>0.0</td>\n",
              "      <td>0.0</td>\n",
              "      <td>0.0</td>\n",
              "      <td>0.0</td>\n",
              "      <td>0.0</td>\n",
              "      <td>0.0</td>\n",
              "      <td>0.0</td>\n",
              "      <td>1.0</td>\n",
              "      <td>0.0</td>\n",
              "      <td>2.588190e-01</td>\n",
              "      <td>0.965926</td>\n",
              "      <td>-0.999912</td>\n",
              "      <td>-0.013292</td>\n",
              "      <td>2019-10-01 01:00:00</td>\n",
              "    </tr>\n",
              "    <tr>\n",
              "      <th>2</th>\n",
              "      <td>5.639668</td>\n",
              "      <td>18.976900</td>\n",
              "      <td>11.349111</td>\n",
              "      <td>0.268150</td>\n",
              "      <td>0.0</td>\n",
              "      <td>0.0</td>\n",
              "      <td>0.0</td>\n",
              "      <td>0.0</td>\n",
              "      <td>0.0</td>\n",
              "      <td>1.0</td>\n",
              "      <td>0.0</td>\n",
              "      <td>1.0</td>\n",
              "      <td>0.0</td>\n",
              "      <td>40.0</td>\n",
              "      <td>0.0</td>\n",
              "      <td>0.0</td>\n",
              "      <td>0.0</td>\n",
              "      <td>0.0</td>\n",
              "      <td>0.0</td>\n",
              "      <td>0.0</td>\n",
              "      <td>0.0</td>\n",
              "      <td>0.0</td>\n",
              "      <td>0.0</td>\n",
              "      <td>0.0</td>\n",
              "      <td>1.0</td>\n",
              "      <td>0.0</td>\n",
              "      <td>5.000000e-01</td>\n",
              "      <td>0.866025</td>\n",
              "      <td>-0.999921</td>\n",
              "      <td>-0.012576</td>\n",
              "      <td>2019-10-01 02:00:00</td>\n",
              "    </tr>\n",
              "    <tr>\n",
              "      <th>3</th>\n",
              "      <td>5.538182</td>\n",
              "      <td>18.482940</td>\n",
              "      <td>12.547909</td>\n",
              "      <td>0.746775</td>\n",
              "      <td>0.0</td>\n",
              "      <td>0.0</td>\n",
              "      <td>0.0</td>\n",
              "      <td>0.0</td>\n",
              "      <td>0.0</td>\n",
              "      <td>1.0</td>\n",
              "      <td>0.0</td>\n",
              "      <td>1.0</td>\n",
              "      <td>0.0</td>\n",
              "      <td>40.0</td>\n",
              "      <td>0.0</td>\n",
              "      <td>0.0</td>\n",
              "      <td>0.0</td>\n",
              "      <td>0.0</td>\n",
              "      <td>0.0</td>\n",
              "      <td>0.0</td>\n",
              "      <td>0.0</td>\n",
              "      <td>0.0</td>\n",
              "      <td>0.0</td>\n",
              "      <td>0.0</td>\n",
              "      <td>1.0</td>\n",
              "      <td>0.0</td>\n",
              "      <td>7.071068e-01</td>\n",
              "      <td>0.707107</td>\n",
              "      <td>-0.999930</td>\n",
              "      <td>-0.011859</td>\n",
              "      <td>2019-10-01 03:00:00</td>\n",
              "    </tr>\n",
              "    <tr>\n",
              "      <th>4</th>\n",
              "      <td>7.793204</td>\n",
              "      <td>25.944860</td>\n",
              "      <td>8.504370</td>\n",
              "      <td>1.058651</td>\n",
              "      <td>0.0</td>\n",
              "      <td>0.0</td>\n",
              "      <td>0.0</td>\n",
              "      <td>0.0</td>\n",
              "      <td>0.0</td>\n",
              "      <td>1.0</td>\n",
              "      <td>0.0</td>\n",
              "      <td>1.0</td>\n",
              "      <td>0.0</td>\n",
              "      <td>40.0</td>\n",
              "      <td>0.0</td>\n",
              "      <td>0.0</td>\n",
              "      <td>0.0</td>\n",
              "      <td>0.0</td>\n",
              "      <td>0.0</td>\n",
              "      <td>0.0</td>\n",
              "      <td>0.0</td>\n",
              "      <td>0.0</td>\n",
              "      <td>0.0</td>\n",
              "      <td>0.0</td>\n",
              "      <td>1.0</td>\n",
              "      <td>0.0</td>\n",
              "      <td>8.660254e-01</td>\n",
              "      <td>0.500000</td>\n",
              "      <td>-0.999938</td>\n",
              "      <td>-0.011142</td>\n",
              "      <td>2019-10-01 04:00:00</td>\n",
              "    </tr>\n",
              "  </tbody>\n",
              "</table>\n",
              "</div>"
            ],
            "text/plain": [
              "   NO2 (344)  NOX as NO2 (345)  ...  Year cos               Start\n",
              "0  13.411764         37.775188  ... -0.014009 2019-10-01 00:00:00\n",
              "1   9.858790         27.435930  ... -0.013292 2019-10-01 01:00:00\n",
              "2   5.639668         18.976900  ... -0.012576 2019-10-01 02:00:00\n",
              "3   5.538182         18.482940  ... -0.011859 2019-10-01 03:00:00\n",
              "4   7.793204         25.944860  ... -0.011142 2019-10-01 04:00:00\n",
              "\n",
              "[5 rows x 31 columns]"
            ]
          },
          "metadata": {
            "tags": []
          },
          "execution_count": 30
        }
      ]
    },
    {
      "cell_type": "code",
      "metadata": {
        "id": "Uro0K6KZhmz5",
        "colab": {
          "base_uri": "https://localhost:8080/",
          "height": 411
        },
        "outputId": "71ebfbbd-bfbf-4ce2-b190-7532772e0f2f"
      },
      "source": [
        "df.rename(columns={'NO2 (344)': 'NO2', 'NOX as NO2 (345)': 'NOX as NO2','PM10 (342)':'PM10','PM2.5 (343)':'PM2.5'}, inplace=True)\n",
        "df.head()"
      ],
      "execution_count": 31,
      "outputs": [
        {
          "output_type": "execute_result",
          "data": {
            "text/html": [
              "<div>\n",
              "<style scoped>\n",
              "    .dataframe tbody tr th:only-of-type {\n",
              "        vertical-align: middle;\n",
              "    }\n",
              "\n",
              "    .dataframe tbody tr th {\n",
              "        vertical-align: top;\n",
              "    }\n",
              "\n",
              "    .dataframe thead th {\n",
              "        text-align: right;\n",
              "    }\n",
              "</style>\n",
              "<table border=\"1\" class=\"dataframe\">\n",
              "  <thead>\n",
              "    <tr style=\"text-align: right;\">\n",
              "      <th></th>\n",
              "      <th>NO2</th>\n",
              "      <th>NOX as NO2</th>\n",
              "      <th>PM10</th>\n",
              "      <th>PM2.5</th>\n",
              "      <th>Friday</th>\n",
              "      <th>Monday</th>\n",
              "      <th>Saturday</th>\n",
              "      <th>Sunday</th>\n",
              "      <th>Thursday</th>\n",
              "      <th>Tuesday</th>\n",
              "      <th>Wednesday</th>\n",
              "      <th>weekday</th>\n",
              "      <th>weekend</th>\n",
              "      <th>week</th>\n",
              "      <th>April</th>\n",
              "      <th>August</th>\n",
              "      <th>December</th>\n",
              "      <th>February</th>\n",
              "      <th>January</th>\n",
              "      <th>July</th>\n",
              "      <th>June</th>\n",
              "      <th>March</th>\n",
              "      <th>May</th>\n",
              "      <th>November</th>\n",
              "      <th>October</th>\n",
              "      <th>September</th>\n",
              "      <th>Day sin</th>\n",
              "      <th>Day cos</th>\n",
              "      <th>Year sin</th>\n",
              "      <th>Year cos</th>\n",
              "      <th>Start</th>\n",
              "    </tr>\n",
              "  </thead>\n",
              "  <tbody>\n",
              "    <tr>\n",
              "      <th>0</th>\n",
              "      <td>13.411764</td>\n",
              "      <td>37.775188</td>\n",
              "      <td>3.255836</td>\n",
              "      <td>0.249491</td>\n",
              "      <td>0.0</td>\n",
              "      <td>0.0</td>\n",
              "      <td>0.0</td>\n",
              "      <td>0.0</td>\n",
              "      <td>0.0</td>\n",
              "      <td>1.0</td>\n",
              "      <td>0.0</td>\n",
              "      <td>1.0</td>\n",
              "      <td>0.0</td>\n",
              "      <td>40.0</td>\n",
              "      <td>0.0</td>\n",
              "      <td>0.0</td>\n",
              "      <td>0.0</td>\n",
              "      <td>0.0</td>\n",
              "      <td>0.0</td>\n",
              "      <td>0.0</td>\n",
              "      <td>0.0</td>\n",
              "      <td>0.0</td>\n",
              "      <td>0.0</td>\n",
              "      <td>0.0</td>\n",
              "      <td>1.0</td>\n",
              "      <td>0.0</td>\n",
              "      <td>-1.023418e-11</td>\n",
              "      <td>1.000000</td>\n",
              "      <td>-0.999902</td>\n",
              "      <td>-0.014009</td>\n",
              "      <td>2019-10-01 00:00:00</td>\n",
              "    </tr>\n",
              "    <tr>\n",
              "      <th>1</th>\n",
              "      <td>9.858790</td>\n",
              "      <td>27.435930</td>\n",
              "      <td>8.285621</td>\n",
              "      <td>0.564187</td>\n",
              "      <td>0.0</td>\n",
              "      <td>0.0</td>\n",
              "      <td>0.0</td>\n",
              "      <td>0.0</td>\n",
              "      <td>0.0</td>\n",
              "      <td>1.0</td>\n",
              "      <td>0.0</td>\n",
              "      <td>1.0</td>\n",
              "      <td>0.0</td>\n",
              "      <td>40.0</td>\n",
              "      <td>0.0</td>\n",
              "      <td>0.0</td>\n",
              "      <td>0.0</td>\n",
              "      <td>0.0</td>\n",
              "      <td>0.0</td>\n",
              "      <td>0.0</td>\n",
              "      <td>0.0</td>\n",
              "      <td>0.0</td>\n",
              "      <td>0.0</td>\n",
              "      <td>0.0</td>\n",
              "      <td>1.0</td>\n",
              "      <td>0.0</td>\n",
              "      <td>2.588190e-01</td>\n",
              "      <td>0.965926</td>\n",
              "      <td>-0.999912</td>\n",
              "      <td>-0.013292</td>\n",
              "      <td>2019-10-01 01:00:00</td>\n",
              "    </tr>\n",
              "    <tr>\n",
              "      <th>2</th>\n",
              "      <td>5.639668</td>\n",
              "      <td>18.976900</td>\n",
              "      <td>11.349111</td>\n",
              "      <td>0.268150</td>\n",
              "      <td>0.0</td>\n",
              "      <td>0.0</td>\n",
              "      <td>0.0</td>\n",
              "      <td>0.0</td>\n",
              "      <td>0.0</td>\n",
              "      <td>1.0</td>\n",
              "      <td>0.0</td>\n",
              "      <td>1.0</td>\n",
              "      <td>0.0</td>\n",
              "      <td>40.0</td>\n",
              "      <td>0.0</td>\n",
              "      <td>0.0</td>\n",
              "      <td>0.0</td>\n",
              "      <td>0.0</td>\n",
              "      <td>0.0</td>\n",
              "      <td>0.0</td>\n",
              "      <td>0.0</td>\n",
              "      <td>0.0</td>\n",
              "      <td>0.0</td>\n",
              "      <td>0.0</td>\n",
              "      <td>1.0</td>\n",
              "      <td>0.0</td>\n",
              "      <td>5.000000e-01</td>\n",
              "      <td>0.866025</td>\n",
              "      <td>-0.999921</td>\n",
              "      <td>-0.012576</td>\n",
              "      <td>2019-10-01 02:00:00</td>\n",
              "    </tr>\n",
              "    <tr>\n",
              "      <th>3</th>\n",
              "      <td>5.538182</td>\n",
              "      <td>18.482940</td>\n",
              "      <td>12.547909</td>\n",
              "      <td>0.746775</td>\n",
              "      <td>0.0</td>\n",
              "      <td>0.0</td>\n",
              "      <td>0.0</td>\n",
              "      <td>0.0</td>\n",
              "      <td>0.0</td>\n",
              "      <td>1.0</td>\n",
              "      <td>0.0</td>\n",
              "      <td>1.0</td>\n",
              "      <td>0.0</td>\n",
              "      <td>40.0</td>\n",
              "      <td>0.0</td>\n",
              "      <td>0.0</td>\n",
              "      <td>0.0</td>\n",
              "      <td>0.0</td>\n",
              "      <td>0.0</td>\n",
              "      <td>0.0</td>\n",
              "      <td>0.0</td>\n",
              "      <td>0.0</td>\n",
              "      <td>0.0</td>\n",
              "      <td>0.0</td>\n",
              "      <td>1.0</td>\n",
              "      <td>0.0</td>\n",
              "      <td>7.071068e-01</td>\n",
              "      <td>0.707107</td>\n",
              "      <td>-0.999930</td>\n",
              "      <td>-0.011859</td>\n",
              "      <td>2019-10-01 03:00:00</td>\n",
              "    </tr>\n",
              "    <tr>\n",
              "      <th>4</th>\n",
              "      <td>7.793204</td>\n",
              "      <td>25.944860</td>\n",
              "      <td>8.504370</td>\n",
              "      <td>1.058651</td>\n",
              "      <td>0.0</td>\n",
              "      <td>0.0</td>\n",
              "      <td>0.0</td>\n",
              "      <td>0.0</td>\n",
              "      <td>0.0</td>\n",
              "      <td>1.0</td>\n",
              "      <td>0.0</td>\n",
              "      <td>1.0</td>\n",
              "      <td>0.0</td>\n",
              "      <td>40.0</td>\n",
              "      <td>0.0</td>\n",
              "      <td>0.0</td>\n",
              "      <td>0.0</td>\n",
              "      <td>0.0</td>\n",
              "      <td>0.0</td>\n",
              "      <td>0.0</td>\n",
              "      <td>0.0</td>\n",
              "      <td>0.0</td>\n",
              "      <td>0.0</td>\n",
              "      <td>0.0</td>\n",
              "      <td>1.0</td>\n",
              "      <td>0.0</td>\n",
              "      <td>8.660254e-01</td>\n",
              "      <td>0.500000</td>\n",
              "      <td>-0.999938</td>\n",
              "      <td>-0.011142</td>\n",
              "      <td>2019-10-01 04:00:00</td>\n",
              "    </tr>\n",
              "  </tbody>\n",
              "</table>\n",
              "</div>"
            ],
            "text/plain": [
              "         NO2  NOX as NO2       PM10  ...  Year sin  Year cos               Start\n",
              "0  13.411764   37.775188   3.255836  ... -0.999902 -0.014009 2019-10-01 00:00:00\n",
              "1   9.858790   27.435930   8.285621  ... -0.999912 -0.013292 2019-10-01 01:00:00\n",
              "2   5.639668   18.976900  11.349111  ... -0.999921 -0.012576 2019-10-01 02:00:00\n",
              "3   5.538182   18.482940  12.547909  ... -0.999930 -0.011859 2019-10-01 03:00:00\n",
              "4   7.793204   25.944860   8.504370  ... -0.999938 -0.011142 2019-10-01 04:00:00\n",
              "\n",
              "[5 rows x 31 columns]"
            ]
          },
          "metadata": {
            "tags": []
          },
          "execution_count": 31
        }
      ]
    },
    {
      "cell_type": "code",
      "metadata": {
        "id": "DY0gQiWMjOgP",
        "colab": {
          "base_uri": "https://localhost:8080/",
          "height": 204
        },
        "outputId": "2de91bdf-a6e2-4d30-ce15-81ca1f8a639b"
      },
      "source": [
        "df = df[['Start','NO2','NOX as NO2','PM10','PM2.5']]\n",
        "df.head()"
      ],
      "execution_count": 32,
      "outputs": [
        {
          "output_type": "execute_result",
          "data": {
            "text/html": [
              "<div>\n",
              "<style scoped>\n",
              "    .dataframe tbody tr th:only-of-type {\n",
              "        vertical-align: middle;\n",
              "    }\n",
              "\n",
              "    .dataframe tbody tr th {\n",
              "        vertical-align: top;\n",
              "    }\n",
              "\n",
              "    .dataframe thead th {\n",
              "        text-align: right;\n",
              "    }\n",
              "</style>\n",
              "<table border=\"1\" class=\"dataframe\">\n",
              "  <thead>\n",
              "    <tr style=\"text-align: right;\">\n",
              "      <th></th>\n",
              "      <th>Start</th>\n",
              "      <th>NO2</th>\n",
              "      <th>NOX as NO2</th>\n",
              "      <th>PM10</th>\n",
              "      <th>PM2.5</th>\n",
              "    </tr>\n",
              "  </thead>\n",
              "  <tbody>\n",
              "    <tr>\n",
              "      <th>0</th>\n",
              "      <td>2019-10-01 00:00:00</td>\n",
              "      <td>13.411764</td>\n",
              "      <td>37.775188</td>\n",
              "      <td>3.255836</td>\n",
              "      <td>0.249491</td>\n",
              "    </tr>\n",
              "    <tr>\n",
              "      <th>1</th>\n",
              "      <td>2019-10-01 01:00:00</td>\n",
              "      <td>9.858790</td>\n",
              "      <td>27.435930</td>\n",
              "      <td>8.285621</td>\n",
              "      <td>0.564187</td>\n",
              "    </tr>\n",
              "    <tr>\n",
              "      <th>2</th>\n",
              "      <td>2019-10-01 02:00:00</td>\n",
              "      <td>5.639668</td>\n",
              "      <td>18.976900</td>\n",
              "      <td>11.349111</td>\n",
              "      <td>0.268150</td>\n",
              "    </tr>\n",
              "    <tr>\n",
              "      <th>3</th>\n",
              "      <td>2019-10-01 03:00:00</td>\n",
              "      <td>5.538182</td>\n",
              "      <td>18.482940</td>\n",
              "      <td>12.547909</td>\n",
              "      <td>0.746775</td>\n",
              "    </tr>\n",
              "    <tr>\n",
              "      <th>4</th>\n",
              "      <td>2019-10-01 04:00:00</td>\n",
              "      <td>7.793204</td>\n",
              "      <td>25.944860</td>\n",
              "      <td>8.504370</td>\n",
              "      <td>1.058651</td>\n",
              "    </tr>\n",
              "  </tbody>\n",
              "</table>\n",
              "</div>"
            ],
            "text/plain": [
              "                Start        NO2  NOX as NO2       PM10     PM2.5\n",
              "0 2019-10-01 00:00:00  13.411764   37.775188   3.255836  0.249491\n",
              "1 2019-10-01 01:00:00   9.858790   27.435930   8.285621  0.564187\n",
              "2 2019-10-01 02:00:00   5.639668   18.976900  11.349111  0.268150\n",
              "3 2019-10-01 03:00:00   5.538182   18.482940  12.547909  0.746775\n",
              "4 2019-10-01 04:00:00   7.793204   25.944860   8.504370  1.058651"
            ]
          },
          "metadata": {
            "tags": []
          },
          "execution_count": 32
        }
      ]
    },
    {
      "cell_type": "code",
      "metadata": {
        "id": "xtkk4PsBjkEg"
      },
      "source": [
        "df.to_csv('test_values_18644.csv')"
      ],
      "execution_count": 33,
      "outputs": []
    },
    {
      "cell_type": "code",
      "metadata": {
        "id": "6yskkHRmjt1O"
      },
      "source": [
        "df_true = pd.read_csv('/content/imputed_csv_18644.csv')"
      ],
      "execution_count": 39,
      "outputs": []
    },
    {
      "cell_type": "code",
      "metadata": {
        "id": "I4_U4Wk6p1Uz",
        "colab": {
          "base_uri": "https://localhost:8080/",
          "height": 204
        },
        "outputId": "1aa592ab-e6ee-4e33-fcc2-c7b849e853f9"
      },
      "source": [
        "df_true.head()"
      ],
      "execution_count": 40,
      "outputs": [
        {
          "output_type": "execute_result",
          "data": {
            "text/html": [
              "<div>\n",
              "<style scoped>\n",
              "    .dataframe tbody tr th:only-of-type {\n",
              "        vertical-align: middle;\n",
              "    }\n",
              "\n",
              "    .dataframe tbody tr th {\n",
              "        vertical-align: top;\n",
              "    }\n",
              "\n",
              "    .dataframe thead th {\n",
              "        text-align: right;\n",
              "    }\n",
              "</style>\n",
              "<table border=\"1\" class=\"dataframe\">\n",
              "  <thead>\n",
              "    <tr style=\"text-align: right;\">\n",
              "      <th></th>\n",
              "      <th>Unnamed: 0</th>\n",
              "      <th>Start</th>\n",
              "      <th>Slut</th>\n",
              "      <th>NO2 (344)</th>\n",
              "      <th>NOX as NO2 (345)</th>\n",
              "      <th>PM10 (342)</th>\n",
              "      <th>PM2.5 (343)</th>\n",
              "    </tr>\n",
              "  </thead>\n",
              "  <tbody>\n",
              "    <tr>\n",
              "      <th>0</th>\n",
              "      <td>0</td>\n",
              "      <td>2015-01-01 00:00:00</td>\n",
              "      <td>2015-01-01 01:00:00</td>\n",
              "      <td>11.0</td>\n",
              "      <td>18.8</td>\n",
              "      <td>27.9</td>\n",
              "      <td>19.8</td>\n",
              "    </tr>\n",
              "    <tr>\n",
              "      <th>1</th>\n",
              "      <td>1</td>\n",
              "      <td>2015-01-01 01:00:00</td>\n",
              "      <td>2015-01-01 02:00:00</td>\n",
              "      <td>15.3</td>\n",
              "      <td>25.0</td>\n",
              "      <td>15.5</td>\n",
              "      <td>4.5</td>\n",
              "    </tr>\n",
              "    <tr>\n",
              "      <th>2</th>\n",
              "      <td>2</td>\n",
              "      <td>2015-01-01 02:00:00</td>\n",
              "      <td>2015-01-01 03:00:00</td>\n",
              "      <td>13.4</td>\n",
              "      <td>19.8</td>\n",
              "      <td>17.1</td>\n",
              "      <td>4.6</td>\n",
              "    </tr>\n",
              "    <tr>\n",
              "      <th>3</th>\n",
              "      <td>3</td>\n",
              "      <td>2015-01-01 03:00:00</td>\n",
              "      <td>2015-01-01 04:00:00</td>\n",
              "      <td>9.6</td>\n",
              "      <td>13.8</td>\n",
              "      <td>15.2</td>\n",
              "      <td>5.3</td>\n",
              "    </tr>\n",
              "    <tr>\n",
              "      <th>4</th>\n",
              "      <td>4</td>\n",
              "      <td>2015-01-01 04:00:00</td>\n",
              "      <td>2015-01-01 05:00:00</td>\n",
              "      <td>3.5</td>\n",
              "      <td>5.8</td>\n",
              "      <td>16.3</td>\n",
              "      <td>6.6</td>\n",
              "    </tr>\n",
              "  </tbody>\n",
              "</table>\n",
              "</div>"
            ],
            "text/plain": [
              "   Unnamed: 0                Start  ... PM10 (342)  PM2.5 (343)\n",
              "0           0  2015-01-01 00:00:00  ...       27.9         19.8\n",
              "1           1  2015-01-01 01:00:00  ...       15.5          4.5\n",
              "2           2  2015-01-01 02:00:00  ...       17.1          4.6\n",
              "3           3  2015-01-01 03:00:00  ...       15.2          5.3\n",
              "4           4  2015-01-01 04:00:00  ...       16.3          6.6\n",
              "\n",
              "[5 rows x 7 columns]"
            ]
          },
          "metadata": {
            "tags": []
          },
          "execution_count": 40
        }
      ]
    },
    {
      "cell_type": "code",
      "metadata": {
        "id": "VFjnS7YUp5cf",
        "colab": {
          "base_uri": "https://localhost:8080/",
          "height": 204
        },
        "outputId": "ef19ea0e-207f-4f06-cdcb-241b5f1fde6b"
      },
      "source": [
        "del df_true['Unnamed: 0']\n",
        "# del df_true['Start']\n",
        "del df_true['Slut']\n",
        "df_true.head()"
      ],
      "execution_count": 41,
      "outputs": [
        {
          "output_type": "execute_result",
          "data": {
            "text/html": [
              "<div>\n",
              "<style scoped>\n",
              "    .dataframe tbody tr th:only-of-type {\n",
              "        vertical-align: middle;\n",
              "    }\n",
              "\n",
              "    .dataframe tbody tr th {\n",
              "        vertical-align: top;\n",
              "    }\n",
              "\n",
              "    .dataframe thead th {\n",
              "        text-align: right;\n",
              "    }\n",
              "</style>\n",
              "<table border=\"1\" class=\"dataframe\">\n",
              "  <thead>\n",
              "    <tr style=\"text-align: right;\">\n",
              "      <th></th>\n",
              "      <th>Start</th>\n",
              "      <th>NO2 (344)</th>\n",
              "      <th>NOX as NO2 (345)</th>\n",
              "      <th>PM10 (342)</th>\n",
              "      <th>PM2.5 (343)</th>\n",
              "    </tr>\n",
              "  </thead>\n",
              "  <tbody>\n",
              "    <tr>\n",
              "      <th>0</th>\n",
              "      <td>2015-01-01 00:00:00</td>\n",
              "      <td>11.0</td>\n",
              "      <td>18.8</td>\n",
              "      <td>27.9</td>\n",
              "      <td>19.8</td>\n",
              "    </tr>\n",
              "    <tr>\n",
              "      <th>1</th>\n",
              "      <td>2015-01-01 01:00:00</td>\n",
              "      <td>15.3</td>\n",
              "      <td>25.0</td>\n",
              "      <td>15.5</td>\n",
              "      <td>4.5</td>\n",
              "    </tr>\n",
              "    <tr>\n",
              "      <th>2</th>\n",
              "      <td>2015-01-01 02:00:00</td>\n",
              "      <td>13.4</td>\n",
              "      <td>19.8</td>\n",
              "      <td>17.1</td>\n",
              "      <td>4.6</td>\n",
              "    </tr>\n",
              "    <tr>\n",
              "      <th>3</th>\n",
              "      <td>2015-01-01 03:00:00</td>\n",
              "      <td>9.6</td>\n",
              "      <td>13.8</td>\n",
              "      <td>15.2</td>\n",
              "      <td>5.3</td>\n",
              "    </tr>\n",
              "    <tr>\n",
              "      <th>4</th>\n",
              "      <td>2015-01-01 04:00:00</td>\n",
              "      <td>3.5</td>\n",
              "      <td>5.8</td>\n",
              "      <td>16.3</td>\n",
              "      <td>6.6</td>\n",
              "    </tr>\n",
              "  </tbody>\n",
              "</table>\n",
              "</div>"
            ],
            "text/plain": [
              "                 Start  NO2 (344)  NOX as NO2 (345)  PM10 (342)  PM2.5 (343)\n",
              "0  2015-01-01 00:00:00       11.0              18.8        27.9         19.8\n",
              "1  2015-01-01 01:00:00       15.3              25.0        15.5          4.5\n",
              "2  2015-01-01 02:00:00       13.4              19.8        17.1          4.6\n",
              "3  2015-01-01 03:00:00        9.6              13.8        15.2          5.3\n",
              "4  2015-01-01 04:00:00        3.5               5.8        16.3          6.6"
            ]
          },
          "metadata": {
            "tags": []
          },
          "execution_count": 41
        }
      ]
    },
    {
      "cell_type": "code",
      "metadata": {
        "id": "da7_5gMuqPl4",
        "colab": {
          "base_uri": "https://localhost:8080/"
        },
        "outputId": "2d2c65cc-b467-4470-dd29-875e637d9ae9"
      },
      "source": [
        "df_true = df_true[41616:]\n",
        "len(df_true)"
      ],
      "execution_count": 42,
      "outputs": [
        {
          "output_type": "execute_result",
          "data": {
            "text/plain": [
              "2208"
            ]
          },
          "metadata": {
            "tags": []
          },
          "execution_count": 42
        }
      ]
    },
    {
      "cell_type": "code",
      "metadata": {
        "id": "aghIz4g_q78y"
      },
      "source": [
        "df_true.index = range(len(df_true))"
      ],
      "execution_count": 43,
      "outputs": []
    },
    {
      "cell_type": "code",
      "metadata": {
        "colab": {
          "base_uri": "https://localhost:8080/"
        },
        "id": "I3txeNXDczvn",
        "outputId": "932f4b8b-e27d-4d01-a95f-7f5b5a9b627d"
      },
      "source": [
        "len(df)"
      ],
      "execution_count": 46,
      "outputs": [
        {
          "output_type": "execute_result",
          "data": {
            "text/plain": [
              "2207"
            ]
          },
          "metadata": {
            "tags": []
          },
          "execution_count": 46
        }
      ]
    },
    {
      "cell_type": "code",
      "metadata": {
        "id": "7w6UwNwzqpa6"
      },
      "source": [
        "def smape(y_true, y_pred):\n",
        "  return tf.reduce_mean(2 * tf.abs(y_true - y_pred)\n",
        "                          / (tf.abs(y_pred) + tf.abs(y_true)) , axis=-1)\n"
      ],
      "execution_count": 44,
      "outputs": []
    },
    {
      "cell_type": "code",
      "metadata": {
        "id": "3YTBL6snqpbF",
        "colab": {
          "base_uri": "https://localhost:8080/",
          "height": 221
        },
        "outputId": "7e54f20e-df54-437d-c329-00b74117e484"
      },
      "source": [
        "smape(df_true['NO2 (344)'],df['NO2'])"
      ],
      "execution_count": 45,
      "outputs": [
        {
          "output_type": "error",
          "ename": "InvalidArgumentError",
          "evalue": "ignored",
          "traceback": [
            "\u001b[0;31m---------------------------------------------------------------------------\u001b[0m",
            "\u001b[0;31mInvalidArgumentError\u001b[0m                      Traceback (most recent call last)",
            "\u001b[0;32m<ipython-input-45-62e14f03333c>\u001b[0m in \u001b[0;36m<module>\u001b[0;34m()\u001b[0m\n\u001b[0;32m----> 1\u001b[0;31m \u001b[0msmape\u001b[0m\u001b[0;34m(\u001b[0m\u001b[0mdf_true\u001b[0m\u001b[0;34m[\u001b[0m\u001b[0;34m'NO2 (344)'\u001b[0m\u001b[0;34m]\u001b[0m\u001b[0;34m,\u001b[0m\u001b[0mdf\u001b[0m\u001b[0;34m[\u001b[0m\u001b[0;34m'NO2'\u001b[0m\u001b[0;34m]\u001b[0m\u001b[0;34m)\u001b[0m\u001b[0;34m\u001b[0m\u001b[0;34m\u001b[0m\u001b[0m\n\u001b[0m",
            "\u001b[0;32m<ipython-input-44-b40c3692a8be>\u001b[0m in \u001b[0;36msmape\u001b[0;34m(y_true, y_pred)\u001b[0m\n\u001b[1;32m      1\u001b[0m \u001b[0;32mdef\u001b[0m \u001b[0msmape\u001b[0m\u001b[0;34m(\u001b[0m\u001b[0my_true\u001b[0m\u001b[0;34m,\u001b[0m \u001b[0my_pred\u001b[0m\u001b[0;34m)\u001b[0m\u001b[0;34m:\u001b[0m\u001b[0;34m\u001b[0m\u001b[0;34m\u001b[0m\u001b[0m\n\u001b[1;32m      2\u001b[0m   return tf.reduce_mean(2 * tf.abs(y_true - y_pred)\n\u001b[0;32m----> 3\u001b[0;31m                           / (tf.abs(y_pred) + tf.abs(y_true)) , axis=-1)\n\u001b[0m",
            "\u001b[0;32m/usr/local/lib/python3.6/dist-packages/tensorflow/python/ops/math_ops.py\u001b[0m in \u001b[0;36mbinary_op_wrapper\u001b[0;34m(x, y)\u001b[0m\n\u001b[1;32m   1123\u001b[0m     \u001b[0;32mwith\u001b[0m \u001b[0mops\u001b[0m\u001b[0;34m.\u001b[0m\u001b[0mname_scope\u001b[0m\u001b[0;34m(\u001b[0m\u001b[0;32mNone\u001b[0m\u001b[0;34m,\u001b[0m \u001b[0mop_name\u001b[0m\u001b[0;34m,\u001b[0m \u001b[0;34m[\u001b[0m\u001b[0mx\u001b[0m\u001b[0;34m,\u001b[0m \u001b[0my\u001b[0m\u001b[0;34m]\u001b[0m\u001b[0;34m)\u001b[0m \u001b[0;32mas\u001b[0m \u001b[0mname\u001b[0m\u001b[0;34m:\u001b[0m\u001b[0;34m\u001b[0m\u001b[0;34m\u001b[0m\u001b[0m\n\u001b[1;32m   1124\u001b[0m       \u001b[0;32mtry\u001b[0m\u001b[0;34m:\u001b[0m\u001b[0;34m\u001b[0m\u001b[0;34m\u001b[0m\u001b[0m\n\u001b[0;32m-> 1125\u001b[0;31m         \u001b[0;32mreturn\u001b[0m \u001b[0mfunc\u001b[0m\u001b[0;34m(\u001b[0m\u001b[0mx\u001b[0m\u001b[0;34m,\u001b[0m \u001b[0my\u001b[0m\u001b[0;34m,\u001b[0m \u001b[0mname\u001b[0m\u001b[0;34m=\u001b[0m\u001b[0mname\u001b[0m\u001b[0;34m)\u001b[0m\u001b[0;34m\u001b[0m\u001b[0;34m\u001b[0m\u001b[0m\n\u001b[0m\u001b[1;32m   1126\u001b[0m       \u001b[0;32mexcept\u001b[0m \u001b[0;34m(\u001b[0m\u001b[0mTypeError\u001b[0m\u001b[0;34m,\u001b[0m \u001b[0mValueError\u001b[0m\u001b[0;34m)\u001b[0m \u001b[0;32mas\u001b[0m \u001b[0me\u001b[0m\u001b[0;34m:\u001b[0m\u001b[0;34m\u001b[0m\u001b[0;34m\u001b[0m\u001b[0m\n\u001b[1;32m   1127\u001b[0m         \u001b[0;31m# Even if dispatching the op failed, the RHS may be a tensor aware\u001b[0m\u001b[0;34m\u001b[0m\u001b[0;34m\u001b[0m\u001b[0;34m\u001b[0m\u001b[0m\n",
            "\u001b[0;32m/usr/local/lib/python3.6/dist-packages/tensorflow/python/util/dispatch.py\u001b[0m in \u001b[0;36mwrapper\u001b[0;34m(*args, **kwargs)\u001b[0m\n\u001b[1;32m    199\u001b[0m     \u001b[0;34m\"\"\"Call target, and fall back on dispatchers if there is a TypeError.\"\"\"\u001b[0m\u001b[0;34m\u001b[0m\u001b[0;34m\u001b[0m\u001b[0m\n\u001b[1;32m    200\u001b[0m     \u001b[0;32mtry\u001b[0m\u001b[0;34m:\u001b[0m\u001b[0;34m\u001b[0m\u001b[0;34m\u001b[0m\u001b[0m\n\u001b[0;32m--> 201\u001b[0;31m       \u001b[0;32mreturn\u001b[0m \u001b[0mtarget\u001b[0m\u001b[0;34m(\u001b[0m\u001b[0;34m*\u001b[0m\u001b[0margs\u001b[0m\u001b[0;34m,\u001b[0m \u001b[0;34m**\u001b[0m\u001b[0mkwargs\u001b[0m\u001b[0;34m)\u001b[0m\u001b[0;34m\u001b[0m\u001b[0;34m\u001b[0m\u001b[0m\n\u001b[0m\u001b[1;32m    202\u001b[0m     \u001b[0;32mexcept\u001b[0m \u001b[0;34m(\u001b[0m\u001b[0mTypeError\u001b[0m\u001b[0;34m,\u001b[0m \u001b[0mValueError\u001b[0m\u001b[0;34m)\u001b[0m\u001b[0;34m:\u001b[0m\u001b[0;34m\u001b[0m\u001b[0;34m\u001b[0m\u001b[0m\n\u001b[1;32m    203\u001b[0m       \u001b[0;31m# Note: convert_to_eager_tensor currently raises a ValueError, not a\u001b[0m\u001b[0;34m\u001b[0m\u001b[0;34m\u001b[0m\u001b[0;34m\u001b[0m\u001b[0m\n",
            "\u001b[0;32m/usr/local/lib/python3.6/dist-packages/tensorflow/python/ops/math_ops.py\u001b[0m in \u001b[0;36m_add_dispatch\u001b[0;34m(x, y, name)\u001b[0m\n\u001b[1;32m   1445\u001b[0m     \u001b[0;32mreturn\u001b[0m \u001b[0mgen_math_ops\u001b[0m\u001b[0;34m.\u001b[0m\u001b[0madd\u001b[0m\u001b[0;34m(\u001b[0m\u001b[0mx\u001b[0m\u001b[0;34m,\u001b[0m \u001b[0my\u001b[0m\u001b[0;34m,\u001b[0m \u001b[0mname\u001b[0m\u001b[0;34m=\u001b[0m\u001b[0mname\u001b[0m\u001b[0;34m)\u001b[0m\u001b[0;34m\u001b[0m\u001b[0;34m\u001b[0m\u001b[0m\n\u001b[1;32m   1446\u001b[0m   \u001b[0;32melse\u001b[0m\u001b[0;34m:\u001b[0m\u001b[0;34m\u001b[0m\u001b[0;34m\u001b[0m\u001b[0m\n\u001b[0;32m-> 1447\u001b[0;31m     \u001b[0;32mreturn\u001b[0m \u001b[0mgen_math_ops\u001b[0m\u001b[0;34m.\u001b[0m\u001b[0madd_v2\u001b[0m\u001b[0;34m(\u001b[0m\u001b[0mx\u001b[0m\u001b[0;34m,\u001b[0m \u001b[0my\u001b[0m\u001b[0;34m,\u001b[0m \u001b[0mname\u001b[0m\u001b[0;34m=\u001b[0m\u001b[0mname\u001b[0m\u001b[0;34m)\u001b[0m\u001b[0;34m\u001b[0m\u001b[0;34m\u001b[0m\u001b[0m\n\u001b[0m\u001b[1;32m   1448\u001b[0m \u001b[0;34m\u001b[0m\u001b[0m\n\u001b[1;32m   1449\u001b[0m \u001b[0;34m\u001b[0m\u001b[0m\n",
            "\u001b[0;32m/usr/local/lib/python3.6/dist-packages/tensorflow/python/ops/gen_math_ops.py\u001b[0m in \u001b[0;36madd_v2\u001b[0;34m(x, y, name)\u001b[0m\n\u001b[1;32m    484\u001b[0m       \u001b[0;32mreturn\u001b[0m \u001b[0m_result\u001b[0m\u001b[0;34m\u001b[0m\u001b[0;34m\u001b[0m\u001b[0m\n\u001b[1;32m    485\u001b[0m     \u001b[0;32mexcept\u001b[0m \u001b[0m_core\u001b[0m\u001b[0;34m.\u001b[0m\u001b[0m_NotOkStatusException\u001b[0m \u001b[0;32mas\u001b[0m \u001b[0me\u001b[0m\u001b[0;34m:\u001b[0m\u001b[0;34m\u001b[0m\u001b[0;34m\u001b[0m\u001b[0m\n\u001b[0;32m--> 486\u001b[0;31m       \u001b[0m_ops\u001b[0m\u001b[0;34m.\u001b[0m\u001b[0mraise_from_not_ok_status\u001b[0m\u001b[0;34m(\u001b[0m\u001b[0me\u001b[0m\u001b[0;34m,\u001b[0m \u001b[0mname\u001b[0m\u001b[0;34m)\u001b[0m\u001b[0;34m\u001b[0m\u001b[0;34m\u001b[0m\u001b[0m\n\u001b[0m\u001b[1;32m    487\u001b[0m     \u001b[0;32mexcept\u001b[0m \u001b[0m_core\u001b[0m\u001b[0;34m.\u001b[0m\u001b[0m_FallbackException\u001b[0m\u001b[0;34m:\u001b[0m\u001b[0;34m\u001b[0m\u001b[0;34m\u001b[0m\u001b[0m\n\u001b[1;32m    488\u001b[0m       \u001b[0;32mpass\u001b[0m\u001b[0;34m\u001b[0m\u001b[0;34m\u001b[0m\u001b[0m\n",
            "\u001b[0;32m/usr/local/lib/python3.6/dist-packages/tensorflow/python/framework/ops.py\u001b[0m in \u001b[0;36mraise_from_not_ok_status\u001b[0;34m(e, name)\u001b[0m\n\u001b[1;32m   6841\u001b[0m   \u001b[0mmessage\u001b[0m \u001b[0;34m=\u001b[0m \u001b[0me\u001b[0m\u001b[0;34m.\u001b[0m\u001b[0mmessage\u001b[0m \u001b[0;34m+\u001b[0m \u001b[0;34m(\u001b[0m\u001b[0;34m\" name: \"\u001b[0m \u001b[0;34m+\u001b[0m \u001b[0mname\u001b[0m \u001b[0;32mif\u001b[0m \u001b[0mname\u001b[0m \u001b[0;32mis\u001b[0m \u001b[0;32mnot\u001b[0m \u001b[0;32mNone\u001b[0m \u001b[0;32melse\u001b[0m \u001b[0;34m\"\"\u001b[0m\u001b[0;34m)\u001b[0m\u001b[0;34m\u001b[0m\u001b[0;34m\u001b[0m\u001b[0m\n\u001b[1;32m   6842\u001b[0m   \u001b[0;31m# pylint: disable=protected-access\u001b[0m\u001b[0;34m\u001b[0m\u001b[0;34m\u001b[0m\u001b[0;34m\u001b[0m\u001b[0m\n\u001b[0;32m-> 6843\u001b[0;31m   \u001b[0msix\u001b[0m\u001b[0;34m.\u001b[0m\u001b[0mraise_from\u001b[0m\u001b[0;34m(\u001b[0m\u001b[0mcore\u001b[0m\u001b[0;34m.\u001b[0m\u001b[0m_status_to_exception\u001b[0m\u001b[0;34m(\u001b[0m\u001b[0me\u001b[0m\u001b[0;34m.\u001b[0m\u001b[0mcode\u001b[0m\u001b[0;34m,\u001b[0m \u001b[0mmessage\u001b[0m\u001b[0;34m)\u001b[0m\u001b[0;34m,\u001b[0m \u001b[0;32mNone\u001b[0m\u001b[0;34m)\u001b[0m\u001b[0;34m\u001b[0m\u001b[0;34m\u001b[0m\u001b[0m\n\u001b[0m\u001b[1;32m   6844\u001b[0m   \u001b[0;31m# pylint: enable=protected-access\u001b[0m\u001b[0;34m\u001b[0m\u001b[0;34m\u001b[0m\u001b[0;34m\u001b[0m\u001b[0m\n\u001b[1;32m   6845\u001b[0m \u001b[0;34m\u001b[0m\u001b[0m\n",
            "\u001b[0;32m/usr/local/lib/python3.6/dist-packages/six.py\u001b[0m in \u001b[0;36mraise_from\u001b[0;34m(value, from_value)\u001b[0m\n",
            "\u001b[0;31mInvalidArgumentError\u001b[0m: Incompatible shapes: [2207] vs. [2208] [Op:AddV2]"
          ]
        }
      ]
    },
    {
      "cell_type": "code",
      "metadata": {
        "id": "YFK_KEGjqpbM",
        "colab": {
          "base_uri": "https://localhost:8080/"
        },
        "outputId": "70fa6857-8579-49de-fa63-86e2a7657bcf"
      },
      "source": [
        "smape(df_true['NOX as NO2 (103)'],df['NOX as NO2'])"
      ],
      "execution_count": null,
      "outputs": [
        {
          "output_type": "execute_result",
          "data": {
            "text/plain": [
              "<tf.Tensor: shape=(), dtype=float64, numpy=0.6230520869997159>"
            ]
          },
          "metadata": {
            "tags": []
          },
          "execution_count": 67
        }
      ]
    },
    {
      "cell_type": "code",
      "metadata": {
        "id": "hasaUdPZqpbQ",
        "colab": {
          "base_uri": "https://localhost:8080/"
        },
        "outputId": "ece57340-7540-49a3-e25f-1e9861abc495"
      },
      "source": [
        "smape(df_true['PM10 (107)'],df['PM10'])"
      ],
      "execution_count": null,
      "outputs": [
        {
          "output_type": "execute_result",
          "data": {
            "text/plain": [
              "<tf.Tensor: shape=(), dtype=float64, numpy=0.5224191968378576>"
            ]
          },
          "metadata": {
            "tags": []
          },
          "execution_count": 69
        }
      ]
    },
    {
      "cell_type": "code",
      "metadata": {
        "id": "EWa5V94MqpbU",
        "colab": {
          "base_uri": "https://localhost:8080/"
        },
        "outputId": "6b6f0f34-ee30-466d-f1cd-375b8d06627a"
      },
      "source": [
        "smape(df_true['PM2.5 (102)'],df['PM2.5'])"
      ],
      "execution_count": null,
      "outputs": [
        {
          "output_type": "execute_result",
          "data": {
            "text/plain": [
              "<tf.Tensor: shape=(), dtype=float64, numpy=0.4841744412177632>"
            ]
          },
          "metadata": {
            "tags": []
          },
          "execution_count": 70
        }
      ]
    },
    {
      "cell_type": "code",
      "metadata": {
        "id": "d1Z_juEzsMI2",
        "colab": {
          "base_uri": "https://localhost:8080/"
        },
        "outputId": "a5f53dfe-e704-49a9-ce03-be463e741a47"
      },
      "source": [
        "(0.5743716488572558 + 0.6230520869997159 + 0.5224191968378576+ 0.4841744412177632)/4"
      ],
      "execution_count": null,
      "outputs": [
        {
          "output_type": "execute_result",
          "data": {
            "text/plain": [
              "0.5510043434781481"
            ]
          },
          "metadata": {
            "tags": []
          },
          "execution_count": 77
        }
      ]
    },
    {
      "cell_type": "code",
      "metadata": {
        "id": "bBeRLtbGx1xn",
        "colab": {
          "base_uri": "https://localhost:8080/",
          "height": 204
        },
        "outputId": "127aa3e5-a320-49c4-82a6-8b464947f356"
      },
      "source": [
        "df.head()"
      ],
      "execution_count": 34,
      "outputs": [
        {
          "output_type": "execute_result",
          "data": {
            "text/html": [
              "<div>\n",
              "<style scoped>\n",
              "    .dataframe tbody tr th:only-of-type {\n",
              "        vertical-align: middle;\n",
              "    }\n",
              "\n",
              "    .dataframe tbody tr th {\n",
              "        vertical-align: top;\n",
              "    }\n",
              "\n",
              "    .dataframe thead th {\n",
              "        text-align: right;\n",
              "    }\n",
              "</style>\n",
              "<table border=\"1\" class=\"dataframe\">\n",
              "  <thead>\n",
              "    <tr style=\"text-align: right;\">\n",
              "      <th></th>\n",
              "      <th>Start</th>\n",
              "      <th>NO2</th>\n",
              "      <th>NOX as NO2</th>\n",
              "      <th>PM10</th>\n",
              "      <th>PM2.5</th>\n",
              "    </tr>\n",
              "  </thead>\n",
              "  <tbody>\n",
              "    <tr>\n",
              "      <th>0</th>\n",
              "      <td>2019-10-01 00:00:00</td>\n",
              "      <td>13.411764</td>\n",
              "      <td>37.775188</td>\n",
              "      <td>3.255836</td>\n",
              "      <td>0.249491</td>\n",
              "    </tr>\n",
              "    <tr>\n",
              "      <th>1</th>\n",
              "      <td>2019-10-01 01:00:00</td>\n",
              "      <td>9.858790</td>\n",
              "      <td>27.435930</td>\n",
              "      <td>8.285621</td>\n",
              "      <td>0.564187</td>\n",
              "    </tr>\n",
              "    <tr>\n",
              "      <th>2</th>\n",
              "      <td>2019-10-01 02:00:00</td>\n",
              "      <td>5.639668</td>\n",
              "      <td>18.976900</td>\n",
              "      <td>11.349111</td>\n",
              "      <td>0.268150</td>\n",
              "    </tr>\n",
              "    <tr>\n",
              "      <th>3</th>\n",
              "      <td>2019-10-01 03:00:00</td>\n",
              "      <td>5.538182</td>\n",
              "      <td>18.482940</td>\n",
              "      <td>12.547909</td>\n",
              "      <td>0.746775</td>\n",
              "    </tr>\n",
              "    <tr>\n",
              "      <th>4</th>\n",
              "      <td>2019-10-01 04:00:00</td>\n",
              "      <td>7.793204</td>\n",
              "      <td>25.944860</td>\n",
              "      <td>8.504370</td>\n",
              "      <td>1.058651</td>\n",
              "    </tr>\n",
              "  </tbody>\n",
              "</table>\n",
              "</div>"
            ],
            "text/plain": [
              "                Start        NO2  NOX as NO2       PM10     PM2.5\n",
              "0 2019-10-01 00:00:00  13.411764   37.775188   3.255836  0.249491\n",
              "1 2019-10-01 01:00:00   9.858790   27.435930   8.285621  0.564187\n",
              "2 2019-10-01 02:00:00   5.639668   18.976900  11.349111  0.268150\n",
              "3 2019-10-01 03:00:00   5.538182   18.482940  12.547909  0.746775\n",
              "4 2019-10-01 04:00:00   7.793204   25.944860   8.504370  1.058651"
            ]
          },
          "metadata": {
            "tags": []
          },
          "execution_count": 34
        }
      ]
    },
    {
      "cell_type": "code",
      "metadata": {
        "colab": {
          "base_uri": "https://localhost:8080/",
          "height": 419
        },
        "id": "KD4PklRMaG01",
        "outputId": "c7498c1d-bb5a-443d-8b4c-e86fbe8fbeb8"
      },
      "source": [
        "df"
      ],
      "execution_count": 49,
      "outputs": [
        {
          "output_type": "execute_result",
          "data": {
            "text/html": [
              "<div>\n",
              "<style scoped>\n",
              "    .dataframe tbody tr th:only-of-type {\n",
              "        vertical-align: middle;\n",
              "    }\n",
              "\n",
              "    .dataframe tbody tr th {\n",
              "        vertical-align: top;\n",
              "    }\n",
              "\n",
              "    .dataframe thead th {\n",
              "        text-align: right;\n",
              "    }\n",
              "</style>\n",
              "<table border=\"1\" class=\"dataframe\">\n",
              "  <thead>\n",
              "    <tr style=\"text-align: right;\">\n",
              "      <th></th>\n",
              "      <th>Unnamed: 0</th>\n",
              "      <th>Start</th>\n",
              "      <th>NO2</th>\n",
              "      <th>NOX as NO2</th>\n",
              "      <th>PM10</th>\n",
              "      <th>PM2.5</th>\n",
              "    </tr>\n",
              "  </thead>\n",
              "  <tbody>\n",
              "    <tr>\n",
              "      <th>0</th>\n",
              "      <td>0</td>\n",
              "      <td>2019-10-01 00:00:00</td>\n",
              "      <td>13.411764</td>\n",
              "      <td>37.775188</td>\n",
              "      <td>3.255836</td>\n",
              "      <td>0.249491</td>\n",
              "    </tr>\n",
              "    <tr>\n",
              "      <th>1</th>\n",
              "      <td>1</td>\n",
              "      <td>2019-10-01 01:00:00</td>\n",
              "      <td>9.858790</td>\n",
              "      <td>27.435930</td>\n",
              "      <td>8.285621</td>\n",
              "      <td>0.564187</td>\n",
              "    </tr>\n",
              "    <tr>\n",
              "      <th>2</th>\n",
              "      <td>2</td>\n",
              "      <td>2019-10-01 02:00:00</td>\n",
              "      <td>5.639668</td>\n",
              "      <td>18.976900</td>\n",
              "      <td>11.349111</td>\n",
              "      <td>0.268150</td>\n",
              "    </tr>\n",
              "    <tr>\n",
              "      <th>3</th>\n",
              "      <td>3</td>\n",
              "      <td>2019-10-01 03:00:00</td>\n",
              "      <td>5.538182</td>\n",
              "      <td>18.482940</td>\n",
              "      <td>12.547909</td>\n",
              "      <td>0.746775</td>\n",
              "    </tr>\n",
              "    <tr>\n",
              "      <th>4</th>\n",
              "      <td>4</td>\n",
              "      <td>2019-10-01 04:00:00</td>\n",
              "      <td>7.793204</td>\n",
              "      <td>25.944860</td>\n",
              "      <td>8.504370</td>\n",
              "      <td>1.058651</td>\n",
              "    </tr>\n",
              "    <tr>\n",
              "      <th>...</th>\n",
              "      <td>...</td>\n",
              "      <td>...</td>\n",
              "      <td>...</td>\n",
              "      <td>...</td>\n",
              "      <td>...</td>\n",
              "      <td>...</td>\n",
              "    </tr>\n",
              "    <tr>\n",
              "      <th>2202</th>\n",
              "      <td>2202</td>\n",
              "      <td>2019-12-31 18:00:00</td>\n",
              "      <td>40.194453</td>\n",
              "      <td>111.171733</td>\n",
              "      <td>4.860192</td>\n",
              "      <td>2.103264</td>\n",
              "    </tr>\n",
              "    <tr>\n",
              "      <th>2203</th>\n",
              "      <td>2203</td>\n",
              "      <td>2019-12-31 19:00:00</td>\n",
              "      <td>37.853666</td>\n",
              "      <td>100.128184</td>\n",
              "      <td>5.348709</td>\n",
              "      <td>2.648363</td>\n",
              "    </tr>\n",
              "    <tr>\n",
              "      <th>2204</th>\n",
              "      <td>2204</td>\n",
              "      <td>2019-12-31 20:00:00</td>\n",
              "      <td>35.199660</td>\n",
              "      <td>86.070787</td>\n",
              "      <td>2.685396</td>\n",
              "      <td>2.371309</td>\n",
              "    </tr>\n",
              "    <tr>\n",
              "      <th>2205</th>\n",
              "      <td>2205</td>\n",
              "      <td>2019-12-31 21:00:00</td>\n",
              "      <td>34.870944</td>\n",
              "      <td>85.362804</td>\n",
              "      <td>-0.181894</td>\n",
              "      <td>2.033602</td>\n",
              "    </tr>\n",
              "    <tr>\n",
              "      <th>2206</th>\n",
              "      <td>2206</td>\n",
              "      <td>2019-12-31 22:00:00</td>\n",
              "      <td>32.376646</td>\n",
              "      <td>80.162908</td>\n",
              "      <td>-4.195686</td>\n",
              "      <td>1.895690</td>\n",
              "    </tr>\n",
              "  </tbody>\n",
              "</table>\n",
              "<p>2207 rows × 6 columns</p>\n",
              "</div>"
            ],
            "text/plain": [
              "      Unnamed: 0                Start  ...       PM10     PM2.5\n",
              "0              0  2019-10-01 00:00:00  ...   3.255836  0.249491\n",
              "1              1  2019-10-01 01:00:00  ...   8.285621  0.564187\n",
              "2              2  2019-10-01 02:00:00  ...  11.349111  0.268150\n",
              "3              3  2019-10-01 03:00:00  ...  12.547909  0.746775\n",
              "4              4  2019-10-01 04:00:00  ...   8.504370  1.058651\n",
              "...          ...                  ...  ...        ...       ...\n",
              "2202        2202  2019-12-31 18:00:00  ...   4.860192  2.103264\n",
              "2203        2203  2019-12-31 19:00:00  ...   5.348709  2.648363\n",
              "2204        2204  2019-12-31 20:00:00  ...   2.685396  2.371309\n",
              "2205        2205  2019-12-31 21:00:00  ...  -0.181894  2.033602\n",
              "2206        2206  2019-12-31 22:00:00  ...  -4.195686  1.895690\n",
              "\n",
              "[2207 rows x 6 columns]"
            ]
          },
          "metadata": {
            "tags": []
          },
          "execution_count": 49
        }
      ]
    },
    {
      "cell_type": "code",
      "metadata": {
        "id": "hZJ-FgHMdErg"
      },
      "source": [
        ""
      ],
      "execution_count": null,
      "outputs": []
    }
  ]
}